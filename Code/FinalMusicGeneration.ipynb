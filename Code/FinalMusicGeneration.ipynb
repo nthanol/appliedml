{
 "cells": [
  {
   "cell_type": "code",
   "execution_count": null,
   "metadata": {},
   "outputs": [],
   "source": [
    "pip install PyTorch"
   ]
  },
  {
   "cell_type": "code",
   "execution_count": 1,
   "metadata": {},
   "outputs": [
    {
     "data": {
      "text/plain": [
       "False"
      ]
     },
     "execution_count": 1,
     "metadata": {},
     "output_type": "execute_result"
    }
   ],
   "source": [
    "import torch\n",
    "torch.cuda.is_available()"
   ]
  },
  {
   "cell_type": "code",
   "execution_count": 2,
   "metadata": {},
   "outputs": [
    {
     "name": "stdout",
     "output_type": "stream",
     "text": [
      "Requirement already satisfied: torchvision in c:\\python39\\lib\\site-packages (0.13.1)\n",
      "Requirement already satisfied: numpy in c:\\python39\\lib\\site-packages (from torchvision) (1.21.4)\n",
      "Requirement already satisfied: pillow!=8.3.*,>=5.3.0 in c:\\python39\\lib\\site-packages (from torchvision) (8.4.0)\n",
      "Requirement already satisfied: torch==1.12.1 in c:\\python39\\lib\\site-packages (from torchvision) (1.12.1)\n",
      "Requirement already satisfied: typing-extensions in c:\\python39\\lib\\site-packages (from torchvision) (4.3.0)\n",
      "Requirement already satisfied: requests in c:\\python39\\lib\\site-packages (from torchvision) (2.28.1)\n",
      "Requirement already satisfied: charset-normalizer<3,>=2 in c:\\python39\\lib\\site-packages (from requests->torchvision) (2.1.1)\n",
      "Requirement already satisfied: urllib3<1.27,>=1.21.1 in c:\\python39\\lib\\site-packages (from requests->torchvision) (1.26.12)\n",
      "Requirement already satisfied: certifi>=2017.4.17 in c:\\python39\\lib\\site-packages (from requests->torchvision) (2022.6.15)\n",
      "Requirement already satisfied: idna<4,>=2.5 in c:\\python39\\lib\\site-packages (from requests->torchvision) (3.4)\n",
      "Note: you may need to restart the kernel to use updated packages.\n"
     ]
    },
    {
     "name": "stderr",
     "output_type": "stream",
     "text": [
      "WARNING: Ignoring invalid distribution -ip (c:\\python39\\lib\\site-packages)\n",
      "WARNING: Ignoring invalid distribution -ip (c:\\python39\\lib\\site-packages)\n",
      "WARNING: Ignoring invalid distribution -ip (c:\\python39\\lib\\site-packages)\n",
      "WARNING: Ignoring invalid distribution -ip (c:\\python39\\lib\\site-packages)\n",
      "WARNING: Ignoring invalid distribution -ip (c:\\python39\\lib\\site-packages)\n",
      "WARNING: Ignoring invalid distribution -ip (c:\\python39\\lib\\site-packages)\n"
     ]
    }
   ],
   "source": [
    "pip install torchvision"
   ]
  },
  {
   "cell_type": "code",
   "execution_count": 5,
   "metadata": {
    "id": "-fzY4Xtfri9a"
   },
   "outputs": [],
   "source": [
    "import torch\n",
    "from torch.distributions import normal\n",
    "import numpy as np\n",
    "import matplotlib.pyplot as plt\n",
    "import torch.nn as nn\n",
    "import torch.optim as optim\n",
    "import torch.nn.functional as F\n",
    "from torchvision.utils import make_grid\n",
    "import torchvision.transforms as transforms\n",
    "from tqdm import tqdm\n",
    "from torchvision.utils import save_image\n",
    "\n",
    "from torchvision import datasets\n",
    "import torchvision"
   ]
  },
  {
   "cell_type": "code",
   "execution_count": 6,
   "metadata": {
    "colab": {
     "base_uri": "https://localhost:8080/",
     "height": 522,
     "referenced_widgets": [
      "7f490ea1eb0543499fc87ef3dcfa284f",
      "8c738d93e1e1440c8eacba9fa445c94e",
      "11f87ef478f24dbcae0c8b243aaaca97",
      "1c8690061ca24a5cb5053d6a9952fe65",
      "02d5d9d5fd964f42a0a44d8e84817d56",
      "7649bbca57a44b0587757d9fc1883482",
      "ddbdcc2ae4be48e29c189a6bdd14e803",
      "57c2bae786b74e69998a2c74fc423916",
      "cad4cc57536c4c85a4d93a22edeb0fdf",
      "2fe2759e905447d99b7c54eadc0a5bee",
      "c41e268720cb467f949c9bec1beadb83",
      "c7013bfa8e8547d1b116261097b638ef",
      "a4779d275f3946fe92b39bb489ab3264",
      "85e031d6073c4935889758ca323351ac",
      "67d78f5fc4ef412692669fa63c9a7b06",
      "8725b660d6ce43c5af2c50eb860787da",
      "10c33018844041df9d6e56e4b1385e37",
      "c4a47097d1e54660989707310309eb85",
      "96cbb64ce3134906ab0a23fab9fc6d32",
      "9a4509b24f6841ccb36354361fbbfe64",
      "ecc09494c29348ee93b268f8cb3e4ba8",
      "28cb25e3c7c14195ae7434bcc451a2f4",
      "edf2b777aaf448baa68b0db46dc627ab",
      "1e3087a51bea4da481b9b343a699436c",
      "36c4d28787d3497f90ebb9a3cff3c0ec",
      "9f8f59439e304122af753cde0f3f9a73",
      "b3b3a271a45a410e8731636f1b315ae5",
      "857919b1cae94e9fa129c70cb3e9053b",
      "b032f4662ae44978854ef992d4b72041",
      "db45f4e9ead54c34a2f3aa9ba07c5529",
      "5fa3ed47ba214a2cae584c05674ca3c2",
      "e7f026e9d7cc4f47a3e9c288677a8852",
      "1aa45dfa3fa64a5084e914ddacb85378",
      "2552149ae44a4124a01d6701c678b4d3",
      "0a951ff2d80849949b134fc6c9e80a5d",
      "164064965a5f4257b42777813d7292e7",
      "2d7b3e17d0104179a465735a51ccfc2b",
      "976c8543f2f343b8b7443405888034ac",
      "591de2d779024b5ea649c09f4ca485d5",
      "eed57fea4222467d8c6572b49a7f62bc",
      "0dccd258d9994cd09e3bce0360cd584a",
      "facdd689148f46578d4a5b42bfe27513",
      "cf9877a4278c4c8d832535d62620371c",
      "15d9dabca6c049d4b8384473d9af2652"
     ]
    },
    "executionInfo": {
     "elapsed": 1855,
     "status": "ok",
     "timestamp": 1664675065092,
     "user": {
      "displayName": "Kam Nanthanolath",
      "userId": "10339125995599894962"
     },
     "user_tz": 240
    },
    "id": "MN3_cjhMrktQ",
    "outputId": "da47a71a-be9a-4ef6-9da0-6d6fbb995d0e"
   },
   "outputs": [
    {
     "name": "stdout",
     "output_type": "stream",
     "text": [
      "Downloading http://yann.lecun.com/exdb/mnist/train-images-idx3-ubyte.gz\n",
      "Downloading http://yann.lecun.com/exdb/mnist/train-images-idx3-ubyte.gz to /drive/MyDrive/Experiments\\MNIST\\raw\\train-images-idx3-ubyte.gz\n"
     ]
    },
    {
     "data": {
      "application/vnd.jupyter.widget-view+json": {
       "model_id": "cdc772ec70a94a268940572e29890f44",
       "version_major": 2,
       "version_minor": 0
      },
      "text/plain": [
       "  0%|          | 0/9912422 [00:00<?, ?it/s]"
      ]
     },
     "metadata": {},
     "output_type": "display_data"
    },
    {
     "name": "stdout",
     "output_type": "stream",
     "text": [
      "Extracting /drive/MyDrive/Experiments\\MNIST\\raw\\train-images-idx3-ubyte.gz to /drive/MyDrive/Experiments\\MNIST\\raw\n",
      "\n",
      "Downloading http://yann.lecun.com/exdb/mnist/train-labels-idx1-ubyte.gz\n",
      "Downloading http://yann.lecun.com/exdb/mnist/train-labels-idx1-ubyte.gz to /drive/MyDrive/Experiments\\MNIST\\raw\\train-labels-idx1-ubyte.gz\n"
     ]
    },
    {
     "data": {
      "application/vnd.jupyter.widget-view+json": {
       "model_id": "8fb16c8d2228408f9783a25cce0b1125",
       "version_major": 2,
       "version_minor": 0
      },
      "text/plain": [
       "  0%|          | 0/28881 [00:00<?, ?it/s]"
      ]
     },
     "metadata": {},
     "output_type": "display_data"
    },
    {
     "name": "stdout",
     "output_type": "stream",
     "text": [
      "Extracting /drive/MyDrive/Experiments\\MNIST\\raw\\train-labels-idx1-ubyte.gz to /drive/MyDrive/Experiments\\MNIST\\raw\n",
      "\n",
      "Downloading http://yann.lecun.com/exdb/mnist/t10k-images-idx3-ubyte.gz\n",
      "Downloading http://yann.lecun.com/exdb/mnist/t10k-images-idx3-ubyte.gz to /drive/MyDrive/Experiments\\MNIST\\raw\\t10k-images-idx3-ubyte.gz\n"
     ]
    },
    {
     "data": {
      "application/vnd.jupyter.widget-view+json": {
       "model_id": "b5e7f5bba08f4d4e91229c1d856fd25a",
       "version_major": 2,
       "version_minor": 0
      },
      "text/plain": [
       "  0%|          | 0/1648877 [00:00<?, ?it/s]"
      ]
     },
     "metadata": {},
     "output_type": "display_data"
    },
    {
     "name": "stdout",
     "output_type": "stream",
     "text": [
      "Extracting /drive/MyDrive/Experiments\\MNIST\\raw\\t10k-images-idx3-ubyte.gz to /drive/MyDrive/Experiments\\MNIST\\raw\n",
      "\n",
      "Downloading http://yann.lecun.com/exdb/mnist/t10k-labels-idx1-ubyte.gz\n",
      "Downloading http://yann.lecun.com/exdb/mnist/t10k-labels-idx1-ubyte.gz to /drive/MyDrive/Experiments\\MNIST\\raw\\t10k-labels-idx1-ubyte.gz\n"
     ]
    },
    {
     "data": {
      "application/vnd.jupyter.widget-view+json": {
       "model_id": "58989abbc3cc476dbc21b13bb473ff8d",
       "version_major": 2,
       "version_minor": 0
      },
      "text/plain": [
       "  0%|          | 0/4542 [00:00<?, ?it/s]"
      ]
     },
     "metadata": {},
     "output_type": "display_data"
    },
    {
     "name": "stdout",
     "output_type": "stream",
     "text": [
      "Extracting /drive/MyDrive/Experiments\\MNIST\\raw\\t10k-labels-idx1-ubyte.gz to /drive/MyDrive/Experiments\\MNIST\\raw\n",
      "\n"
     ]
    },
    {
     "data": {
      "text/plain": [
       "Dataset MNIST\n",
       "    Number of datapoints: 60000\n",
       "    Root location: /drive/MyDrive/Experiments\n",
       "    Split: Train"
      ]
     },
     "execution_count": 6,
     "metadata": {},
     "output_type": "execute_result"
    }
   ],
   "source": [
    "torchvision.datasets.MNIST('/drive/MyDrive/Experiments',download = True)"
   ]
  },
  {
   "cell_type": "code",
   "execution_count": 7,
   "metadata": {
    "colab": {
     "base_uri": "https://localhost:8080/"
    },
    "executionInfo": {
     "elapsed": 168,
     "status": "ok",
     "timestamp": 1664675065094,
     "user": {
      "displayName": "Kam Nanthanolath",
      "userId": "10339125995599894962"
     },
     "user_tz": 240
    },
    "id": "d82FoQrWrqT0",
    "outputId": "6d80284b-9c81-486c-c941-71f9d709b099"
   },
   "outputs": [
    {
     "data": {
      "text/plain": [
       "Dataset MNIST\n",
       "    Number of datapoints: 60000\n",
       "    Root location: /drive/MyDrive/Experiments\n",
       "    Split: Train\n",
       "    StandardTransform\n",
       "Transform: ToTensor()"
      ]
     },
     "execution_count": 7,
     "metadata": {},
     "output_type": "execute_result"
    }
   ],
   "source": [
    "Transform = transforms.ToTensor()\n",
    "train = datasets.MNIST(root='/drive/MyDrive/Experiments', train = True, download = False, transform = Transform)\n",
    "train"
   ]
  },
  {
   "cell_type": "code",
   "execution_count": 8,
   "metadata": {
    "colab": {
     "base_uri": "https://localhost:8080/"
    },
    "executionInfo": {
     "elapsed": 163,
     "status": "ok",
     "timestamp": 1664675065101,
     "user": {
      "displayName": "Kam Nanthanolath",
      "userId": "10339125995599894962"
     },
     "user_tz": 240
    },
    "id": "kPZ1h-AMsB-x",
    "outputId": "eb493774-2403-47e4-b86f-43e68e976a10"
   },
   "outputs": [
    {
     "data": {
      "text/plain": [
       "Dataset MNIST\n",
       "    Number of datapoints: 10000\n",
       "    Root location: /drive/MyDrive/Experiments\n",
       "    Split: Test\n",
       "    StandardTransform\n",
       "Transform: ToTensor()"
      ]
     },
     "execution_count": 8,
     "metadata": {},
     "output_type": "execute_result"
    }
   ],
   "source": [
    "test = datasets.MNIST(root='/drive/MyDrive/Experiments', train = False, download = False, transform = Transform)\n",
    "test"
   ]
  },
  {
   "cell_type": "code",
   "execution_count": 9,
   "metadata": {
    "id": "Kjav_4wdsIqB"
   },
   "outputs": [],
   "source": [
    "from torch.utils.data import Dataset\n",
    "class MNISTDataset(Dataset):\n",
    "    \"\"\"\n",
    "    MAP-style. __getitem__ and __len__ methods need to be implemented.\n",
    "    \"\"\"\n",
    "    def __init__(self, path, train): # train is a boolean\n",
    "        Transform = transforms.ToTensor()\n",
    "        data = datasets.MNIST(root=path, train = train, download = False, transform = Transform)\n",
    "        self.images = [None] * len(data) #Holds the image pixel array\n",
    "        self.labels = [None] * len(data) #Holds the number label\n",
    "        for i in range(len(data)):\n",
    "            self.images[i] = data[i][0]\n",
    "            self.labels[i] = data[i][1]\n",
    "\n",
    "    def __getitem__(self, index):\n",
    "        x = self.images[index].float()\n",
    "        x = torch.Tensor(x)\n",
    "        x = torch.flatten(x) # flatten the image from a 28 x 28 to a 784 1-dimensional tensor\n",
    "        return x\n",
    "\n",
    "    # returns the length of the dataset\n",
    "    def __len__(self):\n",
    "        return len(self.labels)"
   ]
  },
  {
   "cell_type": "code",
   "execution_count": 10,
   "metadata": {
    "id": "PWHa_VV7tA0r"
   },
   "outputs": [],
   "source": [
    "class AutoEncoder(nn.Module):\n",
    "    def __init__(self, input_shape, latent_dim = 128):\n",
    "        super().__init__()\n",
    "\n",
    "        # 2 layers for the encoder\n",
    "        self.encoder_l1 = nn.Linear(in_features=input_shape, out_features=latent_dim)\n",
    "        self.encoder_l2 = nn.Linear(in_features=latent_dim, out_features=latent_dim)\n",
    "\n",
    "        # decoder\n",
    "        self.decoder_l1 = nn.Linear(in_features=latent_dim, out_features=latent_dim)\n",
    "        self.decoder_l2 = nn.Linear(in_features=latent_dim, out_features=input_shape)\n",
    "    \n",
    "    def forward(self, x):\n",
    "        '''\n",
    "        x is the input data\n",
    "        returns the reconstruction\n",
    "        '''\n",
    "        latent = self.run_encoder(x)\n",
    "        x_hat = self.run_decoder(latent)\n",
    "        return x_hat\n",
    "\n",
    "    def run_encoder(self, x):\n",
    "        output = F.relu(self.encoder_l1(x)) # relu adds non linearity\n",
    "        latent = F.relu(self.encoder_l2(output)) # results in the latent vector\n",
    "        return latent\n",
    "\n",
    "    def run_decoder(self, latent):\n",
    "        output = F.relu(self.decoder_l1(latent))\n",
    "        x_hat = F.relu(self.decoder_l2(output))\n",
    "        return x_hat"
   ]
  },
  {
   "cell_type": "code",
   "execution_count": 148,
   "metadata": {
    "id": "I6543mGUL386"
   },
   "outputs": [],
   "source": [
    "class VariationalAutoEncoder(nn.Module):\n",
    "    def __init__(self, input_shape, latent_dim=2):\n",
    "        super().__init__()\n",
    "        self.latent_dim=latent_dim\n",
    "\n",
    "        # Encoder\n",
    "        self.encoder = nn.Sequential(\n",
    "            nn.Linear(in_features=input_shape, out_features=(int(input_shape/2)+int(input_shape/4))),\n",
    "            nn.ReLU(),\n",
    "            nn.Linear(in_features=(int(input_shape/2)+int(input_shape/4)), out_features=(int(input_shape/2)+int(input_shape/8)+20)),\n",
    "            nn.ReLU(),\n",
    "            nn.Linear(in_features=(int(input_shape/2)+int(input_shape/8)+20), out_features=(int(input_shape/8)+int(input_shape/4)+20)),\n",
    "            nn.ReLU(),\n",
    "            nn.Linear(in_features=(int(input_shape/4)+int(input_shape/8)+20), out_features=(int(input_shape/4)+20))\n",
    "        )\n",
    "\n",
    "        \n",
    "        self.fc_mu = nn.Linear((int(input_shape/4)+20), latent_dim) # Learn mu, means of normal distribution\n",
    "        self.fc_log_var = nn.Linear(int(input_shape/4+20), latent_dim) # Learn log variance, variances of normal distribution\n",
    "        \n",
    "\n",
    "        # decoder\n",
    "        self.decoder = nn.Sequential(\n",
    "              nn.Linear(in_features=latent_dim, out_features=(int(input_shape/4)+20)),\n",
    "              nn.ReLU(),\n",
    "              nn.Linear(in_features=(int(input_shape/4))+20, out_features=(int(input_shape/8)+int(input_shape/4)+20)),\n",
    "              nn.ReLU(),\n",
    "              nn.Linear(in_features=(int(input_shape/8)+int(input_shape/4)+20), out_features=(int(input_shape/8)+int(input_shape/2))),\n",
    "              nn.ReLU(),\n",
    "              nn.Linear(in_features=(int(input_shape/8)+int(input_shape/2)), out_features=input_shape)\n",
    "        )\n",
    "\n",
    "    # This should be fine\n",
    "    def forward(self, x):\n",
    "        '''\n",
    "        x is the input data\n",
    "        returns the reconstruction\n",
    "        '''\n",
    "        x = self.encoder(x) # Encodes the input\n",
    "        mu, log_var = self.fc_mu(x), self.fc_log_var(x) # Get the mean and log_variance\n",
    "        sample = self.reparameterize(mu, log_var) # Get a sample from the distribution\n",
    "        reconstruction = self.decoder(sample)  # Decode the distribution sample\n",
    "        return sample, mu, log_var, reconstruction\n",
    "\n",
    "    def run_encoder(self, x):\n",
    "        x = self.encoder(x) # Encodes the input into \n",
    "        mu, log_var = self.fc_mu(x), self.fc_log_var(x)\n",
    "        sample = self.reparameterize(mu, log_var)\n",
    "        return sample\n",
    "\n",
    "    def reparameterize(self, mu, log_var):\n",
    "        # x =mu+std*N(0,1) instead of x-N(mu, std) because of reparameterization trick\n",
    "        std = torch.exp(0.5*log_var) # standard deviation\n",
    "        eps = torch.randn_like(std) # Need eps to be the same size\n",
    "        sample = mu + (eps * std) # sampling\n",
    "        return sample\n",
    "\n",
    "    def generate(self, num_samples):\n",
    "        rand_features = torch.randn(num_samples, self.latent_dim)\n",
    "        generated = self.decoder(rand_features)\n",
    "        return generated"
   ]
  },
  {
   "cell_type": "code",
   "execution_count": 92,
   "metadata": {
    "colab": {
     "base_uri": "https://localhost:8080/",
     "height": 371
    },
    "executionInfo": {
     "elapsed": 12926,
     "status": "error",
     "timestamp": 1664675077886,
     "user": {
      "displayName": "Kam Nanthanolath",
      "userId": "10339125995599894962"
     },
     "user_tz": 240
    },
    "id": "hwf2ORsitIi1",
    "outputId": "026b7768-c7db-4700-a242-e374572071e4"
   },
   "outputs": [
    {
     "name": "stdout",
     "output_type": "stream",
     "text": [
      "<class 'int'>\n"
     ]
    }
   ],
   "source": [
    "train_dataset = MNISTDataset('/drive/MyDrive/Experiments', True)\n",
    "test_dataset = MNISTDataset('/drive/MyDrive/Experiments', False)\n",
    "\n",
    "image_shape = train_dataset[0].shape[0] # Gets the shape of an image from the dataset. '.shape' has a [0] to get the integer from the tensor object\n",
    "print(type(image_shape))\n",
    "\n",
    "model = VariationalAutoEncoder(input_shape = image_shape)"
   ]
  },
  {
   "cell_type": "code",
   "execution_count": 14,
   "metadata": {
    "id": "ADtq1DK-tThY"
   },
   "outputs": [
    {
     "data": {
      "text/plain": [
       "VariationalAutoEncoder(\n",
       "  (encoder): Sequential(\n",
       "    (0): Linear(in_features=784, out_features=392, bias=True)\n",
       "    (1): ReLU()\n",
       "    (2): Linear(in_features=392, out_features=196, bias=True)\n",
       "    (3): ReLU()\n",
       "    (4): Linear(in_features=196, out_features=196, bias=True)\n",
       "    (5): ReLU()\n",
       "    (6): Linear(in_features=196, out_features=98, bias=True)\n",
       "  )\n",
       "  (fc_mu): Linear(in_features=98, out_features=2, bias=True)\n",
       "  (fc_log_var): Linear(in_features=98, out_features=2, bias=True)\n",
       "  (decoder): Sequential(\n",
       "    (0): Linear(in_features=2, out_features=196, bias=True)\n",
       "    (1): ReLU()\n",
       "    (2): Linear(in_features=196, out_features=196, bias=True)\n",
       "    (3): ReLU()\n",
       "    (4): Linear(in_features=196, out_features=392, bias=True)\n",
       "    (5): ReLU()\n",
       "    (6): Linear(in_features=392, out_features=784, bias=True)\n",
       "  )\n",
       ")"
      ]
     },
     "execution_count": 14,
     "metadata": {},
     "output_type": "execute_result"
    }
   ],
   "source": [
    "model.train() # Set to train() mode. There's also an eval() mode."
   ]
  },
  {
   "cell_type": "code",
   "execution_count": 15,
   "metadata": {
    "id": "10P4Ck6VtdGx"
   },
   "outputs": [
    {
     "name": "stdout",
     "output_type": "stream",
     "text": [
      "epoch : 1/100, loss = 0.054550\n",
      "epoch : 6/100, loss = 0.038236\n",
      "epoch : 11/100, loss = 0.037074\n",
      "epoch : 16/100, loss = 0.035792\n",
      "epoch : 21/100, loss = 0.034973\n",
      "epoch : 26/100, loss = 0.034863\n",
      "epoch : 31/100, loss = 0.036195\n",
      "epoch : 36/100, loss = 0.034973\n",
      "epoch : 41/100, loss = 0.034841\n",
      "epoch : 46/100, loss = 0.034211\n",
      "epoch : 51/100, loss = 0.034875\n",
      "epoch : 56/100, loss = 0.034582\n",
      "epoch : 61/100, loss = 0.033998\n",
      "epoch : 66/100, loss = 0.034079\n",
      "epoch : 71/100, loss = 0.035790\n",
      "epoch : 76/100, loss = 0.034260\n",
      "epoch : 81/100, loss = 0.034607\n",
      "epoch : 86/100, loss = 0.034259\n",
      "epoch : 91/100, loss = 0.034606\n",
      "epoch : 96/100, loss = 0.033946\n",
      "epoch : 100/100, loss = 0.033472\n"
     ]
    }
   ],
   "source": [
    "import torch.optim as optim\n",
    "\n",
    "train_loader = torch.utils.data.DataLoader(train_dataset,\n",
    "                                            batch_size=128, #number of training samples to load in at a time\n",
    "                                            shuffle=True) # Shuffle the data beforehand\n",
    "mse = nn.MSELoss()\n",
    "optimizer = optim.Adam(model.parameters(), lr=1e-3)\n",
    "n_epochs = 100\n",
    "\n",
    "for epoch in range(n_epochs):\n",
    "    loss = 0\n",
    "    #Batch_features is each training batch. Here it's of the shape (128, 784).\n",
    "    for batch_features in train_loader:\n",
    "        batch_features = batch_features#.cuda()\n",
    "\n",
    "        optimizer.zero_grad()\n",
    "\n",
    "        # compute reconstructions\n",
    "        outputs = model(batch_features) # Runs the forward function and gets outputs\n",
    "\n",
    "        # compute the reconstruction loss of the training data\n",
    "        train_loss = mse(outputs[3], batch_features)\n",
    "\n",
    "        #compute accumulated gradients\n",
    "        train_loss.backward() # Calculates the gradients\n",
    "\n",
    "        # performs -parameter update- based on current gradients\n",
    "        optimizer.step()\n",
    "\n",
    "        # add the mini-batch training loss to epoch loss\n",
    "        loss += train_loss.item()\n",
    "\n",
    "    #compute the epoch training loss\n",
    "    loss = loss / len(train_loader)\n",
    "\n",
    "    if epoch%5 ==0:\n",
    "      print(\"epoch : {}/{}, loss = {:.6f}\".format(epoch + 1, n_epochs, loss))\n",
    "print(\"epoch : {}/{}, loss = {:.6f}\".format(epoch + 1, n_epochs, loss))"
   ]
  },
  {
   "cell_type": "markdown",
   "metadata": {
    "id": "pplkLsFDqE06"
   },
   "source": [
    "Below, change the image_idx to a random image from the MNIST dataset. The top image is the VAE's reconstruction, below is the actual."
   ]
  },
  {
   "cell_type": "code",
   "execution_count": 19,
   "metadata": {
    "id": "0rq2AZ8Nu-ms"
   },
   "outputs": [
    {
     "data": {
      "text/plain": [
       "<matplotlib.image.AxesImage at 0x19f50f99a90>"
      ]
     },
     "execution_count": 19,
     "metadata": {},
     "output_type": "execute_result"
    },
    {
     "data": {
      "image/png": "[encoded data removed]",
      "text/plain": [
       "<Figure size 432x288 with 1 Axes>"
      ]
     },
     "metadata": {
      "needs_background": "light"
     },
     "output_type": "display_data"
    }
   ],
   "source": [
    "# Put the model in eval mode. VAEs are pretty well known for their images being blurry\n",
    "model.eval()\n",
    "\n",
    "image_idx = 19\n",
    "\n",
    "image = train_dataset[image_idx] # Get an image from the training dataset at index 100\n",
    "x_hat = model(image) # Use the image in the model\n",
    "x_hat = x_hat[3].detach().numpy().reshape((28,28)) # Take the model's output (The reconstruction is at index 3) and reshape it back into an image\n",
    "plt.imshow(x_hat, cmap = 'gray') # Display the model's output"
   ]
  },
  {
   "cell_type": "code",
   "execution_count": 20,
   "metadata": {
    "id": "6ywdemmpu_R-"
   },
   "outputs": [
    {
     "data": {
      "text/plain": [
       "<matplotlib.image.AxesImage at 0x19f4f5fb370>"
      ]
     },
     "execution_count": 20,
     "metadata": {},
     "output_type": "execute_result"
    },
    {
     "data": {
      "image/png": "[encoded data removed]",
      "text/plain": [
       "<Figure size 432x288 with 1 Axes>"
      ]
     },
     "metadata": {
      "needs_background": "light"
     },
     "output_type": "display_data"
    }
   ],
   "source": [
    "plt.imshow(image.cpu().reshape((28,28)), cmap = 'gray') # Display the model's input"
   ]
  },
  {
   "cell_type": "code",
   "execution_count": 24,
   "metadata": {
    "id": "zwRz_SqPqAZg"
   },
   "outputs": [
    {
     "data": {
      "text/plain": [
       "<matplotlib.image.AxesImage at 0x19f51954190>"
      ]
     },
     "execution_count": 24,
     "metadata": {},
     "output_type": "execute_result"
    },
    {
     "data": {
      "image/png": "[encoded data removed]",
      "text/plain": [
       "<Figure size 432x288 with 1 Axes>"
      ]
     },
     "metadata": {
      "needs_background": "light"
     },
     "output_type": "display_data"
    }
   ],
   "source": [
    "# This runs the model's generate function, which takes a random sample from the distribution and attempts to turn it into an image\n",
    "\n",
    "random = model.generate(1)\n",
    "plt.imshow(random[0].detach().cpu().numpy().reshape((28,28)), cmap = 'gray') # Display the model's output"
   ]
  },
  {
   "cell_type": "markdown",
   "metadata": {
    "id": "kC_9Yd5MboSA"
   },
   "source": [
    "MIDI DATASET TRAINING"
   ]
  },
  {
   "cell_type": "code",
   "execution_count": 25,
   "metadata": {
    "id": "Ce1bEfoJH2U8"
   },
   "outputs": [
    {
     "name": "stdout",
     "output_type": "stream",
     "text": [
      "Collecting pretty_midiNote: you may need to restart the kernel to use updated packages.\n",
      "\n",
      "  Downloading pretty_midi-0.2.9.tar.gz (5.6 MB)"
     ]
    },
    {
     "name": "stderr",
     "output_type": "stream",
     "text": [
      "WARNING: Ignoring invalid distribution -ip (c:\\python39\\lib\\site-packages)\n",
      "WARNING: Ignoring invalid distribution -ip (c:\\python39\\lib\\site-packages)\n",
      "WARNING: Ignoring invalid distribution -ip (c:\\python39\\lib\\site-packages)\n",
      "WARNING: Ignoring invalid distribution -ip (c:\\python39\\lib\\site-packages)\n",
      "WARNING: Ignoring invalid distribution -ip (c:\\python39\\lib\\site-packages)\n",
      "WARNING: Ignoring invalid distribution -ip (c:\\python39\\lib\\site-packages)\n",
      "WARNING: Ignoring invalid distribution -ip (c:\\python39\\lib\\site-packages)\n",
      "WARNING: Ignoring invalid distribution -ip (c:\\python39\\lib\\site-packages)\n"
     ]
    },
    {
     "name": "stdout",
     "output_type": "stream",
     "text": [
      "\n",
      "     ---------------------------------------- 5.6/5.6 MB 1.3 MB/s eta 0:00:00\n",
      "  Preparing metadata (setup.py): started\n",
      "  Preparing metadata (setup.py): finished with status 'done'\n",
      "Requirement already satisfied: numpy>=1.7.0 in c:\\python39\\lib\\site-packages (from pretty_midi) (1.21.4)\n",
      "Collecting mido>=1.1.16\n",
      "  Downloading mido-1.2.10-py2.py3-none-any.whl (51 kB)\n",
      "     ---------------------------------------- 51.1/51.1 kB ? eta 0:00:00\n",
      "Requirement already satisfied: six in c:\\users\\kam nanthanolath\\appdata\\roaming\\python\\python39\\site-packages (from pretty_midi) (1.16.0)\n",
      "Building wheels for collected packages: pretty_midi\n",
      "  Building wheel for pretty_midi (setup.py): started\n",
      "  Building wheel for pretty_midi (setup.py): finished with status 'done'\n",
      "  Created wheel for pretty_midi: filename=pretty_midi-0.2.9-py3-none-any.whl size=5591952 sha256=c3977e3679b7c376d70e6b04e4ad5eb937a8353b5df7b21849abffd93f506d23\n",
      "  Stored in directory: c:\\users\\kam nanthanolath\\appdata\\local\\pip\\cache\\wheels\\f0\\3e\\3d\\126d7680aae66f3baed077a43a77b91f86e1b4a887fd703cc6\n",
      "Successfully built pretty_midi\n",
      "Installing collected packages: mido, pretty_midi\n",
      "Successfully installed mido-1.2.10 pretty_midi-0.2.9\n"
     ]
    }
   ],
   "source": [
    "pip install pretty_midi"
   ]
  },
  {
   "cell_type": "code",
   "execution_count": 142,
   "metadata": {
    "id": "XiXtumo3GfWa"
   },
   "outputs": [],
   "source": [
    "import torch\n",
    "import pretty_midi\n",
    "import matplotlib.pyplot as plt\n",
    "import pandas as pd\n",
    "import os\n",
    "import numpy as np\n",
    "\n",
    "\n",
    "def notes(pm):\n",
    "    instrument = pm.instruments[0]\n",
    "    notes = instrument.notes\n",
    "    return notes\n",
    "\n",
    "def notesToSample(noteslist, numNotes):\n",
    "    #sample = pd.DataFrame({'start', 'end', 'pitch', 'velocity'})\n",
    "    sample = np.zeros(shape=(4, numNotes))\n",
    "    for i in range(numNotes):\n",
    "        try:\n",
    "            note = noteslist[i]\n",
    "            sample[0][i]=(note.start)\n",
    "            sample[1][i]=(note.end)\n",
    "            sample[2][i]=(note.pitch)\n",
    "            sample[3][i]=(note.velocity)\n",
    "        except IndexError: # If the song doesn't have the correct amount of notes...just return an empty array of the correct size. \n",
    "            return np.zeros(shape=(4, numNotes))\n",
    "    return sample\n",
    "\n",
    "def sampleToMIDI(sample, filename):\n",
    "    '''\n",
    "    sample - note attributes in a tensor\n",
    "    returns - prettyMIDI object\n",
    "    '''\n",
    "    instrument = pretty_midi.Instrument(0, is_drum=False) # Piano instrument\n",
    "    pm = pretty_midi.PrettyMIDI()\n",
    "    for i in range(sample.shape[1]):    \n",
    "        start = float(sample[0][i])\n",
    "        end = float(sample[1][i])\n",
    "        pitch = int(sample[2][i])\n",
    "        velocity = int(sample[3][i])\n",
    "        instrument.notes.append(pretty_midi.Note(velocity, pitch, start, end))\n",
    "    pm.instruments.append(instrument)\n",
    "    pm.write(filename)\n",
    "    return pm\n",
    "\n",
    "from torch.utils.data import Dataset\n",
    "\n",
    "class ImprovedPianoDataset(Dataset):\n",
    "    def __init__(self, directory, numnotes): #notes is the number of notes from the file sampled, directory is location of midi files\n",
    "        self.directory = directory\n",
    "        self.numnotes = numnotes\n",
    "        self.filenames = os.listdir(directory)\n",
    "\n",
    "    def __getitem__(self, index):      \n",
    "        file = self.filenames[index]\n",
    "        f = os.path.join(self.directory, file) # Combines the directory and filename to get the filepath of the desired midi\n",
    "\n",
    "        pm = pretty_midi.PrettyMIDI(f)\n",
    "        note = notes(pm) # The notes from the midi file\n",
    "        noteSample = notesToSample(note, self.numnotes) # convert the note to a sample of desired size\n",
    "\n",
    "        x = torch.Tensor(noteSample)\n",
    "        x = torch.flatten(x) # flatten to a 1-dimensional tensor to ready it for input into the model\n",
    "        return x\n",
    "\n",
    "    # returns the length of the dataset\n",
    "    def __len__(self):\n",
    "        return len(self.filenames)\n"
   ]
  },
  {
   "cell_type": "code",
   "execution_count": 149,
   "metadata": {
    "id": "w63eEuI4Gq4w"
   },
   "outputs": [],
   "source": [
    "\n",
    "NoteCount = 25 # The amount of notes you want to sample from a song\n",
    "# Full Giant MIDI dataset path: /content/drive/MyDrive/Project/maestro-v3.0.0/midis\n",
    "# MAESTRO 2004 dataset path: /content/drive/MyDrive/Project/maestro-v3.0.0/2004\n",
    "# MIDI File I'm slowly adding more data to: /content/drive/MyDrive/Project/maestro-v3.0.0/Growth\n",
    "#C:\\Users\\Kam Nanthanolath\\Downloads\\maestro-v3.0.0-20221002T182154Z-001\\maestro-v3.0.0\\midis\n",
    "#r'C:\\Users\\Kam Nanthanolath\\Downloads\\maestro-v3.0.0-20221002T182154Z-001\\maestro-v3.0.0\\Growth'\n",
    "\n",
    "MIDIdataset = ImprovedPianoDataset(r'C:\\Users\\Kam Nanthanolath\\Downloads\\maestro-v3.0.0-20221002T182154Z-001\\maestro-v3.0.0\\midis', NoteCount)\n"
   ]
  },
  {
   "cell_type": "code",
   "execution_count": 156,
   "metadata": {
    "id": "7HnP_BKNcCy_"
   },
   "outputs": [
    {
     "name": "stdout",
     "output_type": "stream",
     "text": [
      "Input Shape: 100\n"
     ]
    }
   ],
   "source": [
    "inputShape = MIDIdataset[0].shape[0]\n",
    "print(\"Input Shape: \" + str(inputShape))\n",
    "model = VariationalAutoEncoder(input_shape = inputShape, latent_dim=5)"
   ]
  },
  {
   "cell_type": "code",
   "execution_count": 157,
   "metadata": {
    "id": "fScrNBOKJ8dG"
   },
   "outputs": [
    {
     "name": "stdout",
     "output_type": "stream",
     "text": [
      "10852\n",
      "<class '__main__.ImprovedPianoDataset'>\n",
      "<class 'torch.Tensor'>\n",
      "torch.Size([100])\n"
     ]
    }
   ],
   "source": [
    "# Checking the data and dataset\n",
    "print(MIDIdataset.__len__())\n",
    "print(type(MIDIdataset)) #PianoDataset Object\n",
    "print(type(MIDIdataset[0])) #Tensor object\n",
    "print(MIDIdataset[0].shape)\n",
    "#print(dataset[0])\n",
    "sample = MIDIdataset[109].detach().cpu().numpy().reshape((4,NoteCount))\n",
    "#print(sample)\n",
    "midi = sampleToMIDI(sample, \"SECONDMIDITEST.midi\")\n"
   ]
  },
  {
   "cell_type": "code",
   "execution_count": 158,
   "metadata": {
    "id": "OcLjZBz5cWyF",
    "scrolled": true
   },
   "outputs": [
    {
     "data": {
      "text/plain": [
       "VariationalAutoEncoder(\n",
       "  (encoder): Sequential(\n",
       "    (0): Linear(in_features=100, out_features=75, bias=True)\n",
       "    (1): ReLU()\n",
       "    (2): Linear(in_features=75, out_features=82, bias=True)\n",
       "    (3): ReLU()\n",
       "    (4): Linear(in_features=82, out_features=57, bias=True)\n",
       "    (5): ReLU()\n",
       "    (6): Linear(in_features=57, out_features=45, bias=True)\n",
       "  )\n",
       "  (fc_mu): Linear(in_features=45, out_features=5, bias=True)\n",
       "  (fc_log_var): Linear(in_features=45, out_features=5, bias=True)\n",
       "  (decoder): Sequential(\n",
       "    (0): Linear(in_features=5, out_features=45, bias=True)\n",
       "    (1): ReLU()\n",
       "    (2): Linear(in_features=45, out_features=57, bias=True)\n",
       "    (3): ReLU()\n",
       "    (4): Linear(in_features=57, out_features=62, bias=True)\n",
       "    (5): ReLU()\n",
       "    (6): Linear(in_features=62, out_features=100, bias=True)\n",
       "  )\n",
       ")"
      ]
     },
     "execution_count": 158,
     "metadata": {},
     "output_type": "execute_result"
    }
   ],
   "source": [
    "model.train()"
   ]
  },
  {
   "cell_type": "code",
   "execution_count": 162,
   "metadata": {
    "id": "74Vzw2atws9Y"
   },
   "outputs": [
    {
     "name": "stdout",
     "output_type": "stream",
     "text": [
      "epoch : 1/50, loss = 20.315386\n",
      "epoch : 6/50, loss = 16.776495\n",
      "epoch : 11/50, loss = 8.971348\n",
      "epoch : 16/50, loss = 8.918438\n",
      "epoch : 21/50, loss = 8.893241\n",
      "epoch : 26/50, loss = 8.902195\n",
      "epoch : 31/50, loss = 8.917562\n",
      "epoch : 36/50, loss = 8.887635\n",
      "epoch : 41/50, loss = 8.881567\n",
      "epoch : 46/50, loss = 8.921644\n",
      "epoch : 50/50, loss = 8.886921\n"
     ]
    }
   ],
   "source": [
    "\n",
    "\n",
    "MIDI_loader = torch.utils.data.DataLoader(MIDIdataset,\n",
    "                                            batch_size=150, #number of training samples to load in at a time\n",
    "                                            shuffle=True) # Shuffle the data beforehand\n",
    "mse = nn.MSELoss()\n",
    "optimizer = optim.Adam(model.parameters(), lr=1e-3)\n",
    "n_epochs =50\n",
    "\n",
    "for epoch in range(n_epochs):\n",
    "    loss = 0\n",
    "    #Batch_features is each training batch. Here it's of the shape (128, 784).\n",
    "    for batch_features in MIDI_loader:\n",
    "        batch_features = batch_features\n",
    "\n",
    "        optimizer.zero_grad()\n",
    "\n",
    "        # compute reconstructions\n",
    "        outputs = model(batch_features) # Runs the forward function and gets outputs\n",
    "\n",
    "        # compute the reconstruction loss of the training data\n",
    "        train_loss = mse(outputs[3], batch_features)\n",
    "\n",
    "        #compute accumulated gradients\n",
    "        train_loss.backward() # Calculates the gradients\n",
    "\n",
    "        # performs -parameter update- based on current gradients\n",
    "        optimizer.step()\n",
    "\n",
    "        # add the mini-batch training loss to epoch loss\n",
    "        loss += train_loss.item()\n",
    "\n",
    "    #compute the epoch training loss\n",
    "    loss = loss / len(train_loader)\n",
    "\n",
    "    if epoch%5 ==0:\n",
    "      print(\"epoch : {}/{}, loss = {:.6f}\".format(epoch + 1, n_epochs, loss))\n",
    "print(\"epoch : {}/{}, loss = {:.6f}\".format(epoch + 1, n_epochs, loss))"
   ]
  },
  {
   "cell_type": "code",
   "execution_count": 176,
   "metadata": {
    "id": "AWQeh0_SwW2t"
   },
   "outputs": [
    {
     "data": {
      "text/plain": [
       "<pretty_midi.pretty_midi.PrettyMIDI at 0x19f518fca00>"
      ]
     },
     "execution_count": 176,
     "metadata": {},
     "output_type": "execute_result"
    }
   ],
   "source": [
    "model.eval()\n",
    "\n",
    "midi_idx = 666\n",
    "\n",
    "midi = MIDIdataset[midi_idx] # Get a midi file from the dataset\n",
    "x_hat = model(midi)[3] # Get the reconstruction\n",
    "\n",
    "sample = MIDIdataset[midi_idx].detach().cpu().numpy().reshape((4,NoteCount)) # Reforms the sample into the proper shape for MIDI transformation\n",
    "sampleToMIDI(sample, str(midi_idx)+\"input.midi\")\n",
    "x_hat = x_hat.detach().cpu().numpy().reshape((4,NoteCount))\n",
    "sampleToMIDI(x_hat, str(midi_idx)+ \"reformed.midi\")\n"
   ]
  },
  {
   "cell_type": "code",
   "execution_count": 177,
   "metadata": {
    "id": "86vwy-7EwLbQ"
   },
   "outputs": [],
   "source": [
    "# Generate a MIDI sample\n",
    "for i in range(5):\n",
    "    random = model.generate(1)\n",
    "    random = random.detach().cpu().numpy().reshape((4,NoteCount))\n",
    "    sampleToMIDI(random, str(i)+\"generated.midi\")\n"
   ]
  },
  {
   "cell_type": "code",
   "execution_count": null,
   "metadata": {},
   "outputs": [],
   "source": []
  }
 ],
 "metadata": {
  "accelerator": "GPU",
  "colab": {
   "authorship_tag": "ABX9TyNcn9ic3q3xAlE/E5aeX/8x",
   "collapsed_sections": [],
   "provenance": []
  },
  "kernelspec": {
   "display_name": "Python 3 (ipykernel)",
   "language": "python",
   "name": "python3"
  },
  "language_info": {
   "codemirror_mode": {
    "name": "ipython",
    "version": 3
   },
   "file_extension": ".py",
   "mimetype": "text/x-python",
   "name": "python",
   "nbconvert_exporter": "python",
   "pygments_lexer": "ipython3",
   "version": "3.9.5"
  },
  "widgets": {
   "application/vnd.jupyter.widget-state+json": {
    "02d5d9d5fd964f42a0a44d8e84817d56": {
     "model_module": "@jupyter-widgets/base",
     "model_module_version": "1.2.0",
     "model_name": "LayoutModel",
     "state": {
      "_model_module": "@jupyter-widgets/base",
      "_model_module_version": "1.2.0",
      "_model_name": "LayoutModel",
      "_view_count": null,
      "_view_module": "@jupyter-widgets/base",
      "_view_module_version": "1.2.0",
      "_view_name": "LayoutView",
      "align_content": null,
      "align_items": null,
      "align_self": null,
      "border": null,
      "bottom": null,
      "display": null,
      "flex": null,
      "flex_flow": null,
      "grid_area": null,
      "grid_auto_columns": null,
      "grid_auto_flow": null,
      "grid_auto_rows": null,
      "grid_column": null,
      "grid_gap": null,
      "grid_row": null,
      "grid_template_areas": null,
      "grid_template_columns": null,
      "grid_template_rows": null,
      "height": null,
      "justify_content": null,
      "justify_items": null,
      "left": null,
      "margin": null,
      "max_height": null,
      "max_width": null,
      "min_height": null,
      "min_width": null,
      "object_fit": null,
      "object_position": null,
      "order": null,
      "overflow": null,
      "overflow_x": null,
      "overflow_y": null,
      "padding": null,
      "right": null,
      "top": null,
      "visibility": null,
      "width": null
     }
    },
    "0a951ff2d80849949b134fc6c9e80a5d": {
     "model_module": "@jupyter-widgets/controls",
     "model_module_version": "1.5.0",
     "model_name": "HTMLModel",
     "state": {
      "_dom_classes": [],
      "_model_module": "@jupyter-widgets/controls",
      "_model_module_version": "1.5.0",
      "_model_name": "HTMLModel",
      "_view_count": null,
      "_view_module": "@jupyter-widgets/controls",
      "_view_module_version": "1.5.0",
      "_view_name": "HTMLView",
      "description": "",
      "description_tooltip": null,
      "layout": "IPY_MODEL_591de2d779024b5ea649c09f4ca485d5",
      "placeholder": "​",
      "style": "IPY_MODEL_eed57fea4222467d8c6572b49a7f62bc",
      "value": "100%"
     }
    },
    "0dccd258d9994cd09e3bce0360cd584a": {
     "model_module": "@jupyter-widgets/base",
     "model_module_version": "1.2.0",
     "model_name": "LayoutModel",
     "state": {
      "_model_module": "@jupyter-widgets/base",
      "_model_module_version": "1.2.0",
      "_model_name": "LayoutModel",
      "_view_count": null,
      "_view_module": "@jupyter-widgets/base",
      "_view_module_version": "1.2.0",
      "_view_name": "LayoutView",
      "align_content": null,
      "align_items": null,
      "align_self": null,
      "border": null,
      "bottom": null,
      "display": null,
      "flex": null,
      "flex_flow": null,
      "grid_area": null,
      "grid_auto_columns": null,
      "grid_auto_flow": null,
      "grid_auto_rows": null,
      "grid_column": null,
      "grid_gap": null,
      "grid_row": null,
      "grid_template_areas": null,
      "grid_template_columns": null,
      "grid_template_rows": null,
      "height": null,
      "justify_content": null,
      "justify_items": null,
      "left": null,
      "margin": null,
      "max_height": null,
      "max_width": null,
      "min_height": null,
      "min_width": null,
      "object_fit": null,
      "object_position": null,
      "order": null,
      "overflow": null,
      "overflow_x": null,
      "overflow_y": null,
      "padding": null,
      "right": null,
      "top": null,
      "visibility": null,
      "width": null
     }
    },
    "10c33018844041df9d6e56e4b1385e37": {
     "model_module": "@jupyter-widgets/base",
     "model_module_version": "1.2.0",
     "model_name": "LayoutModel",
     "state": {
      "_model_module": "@jupyter-widgets/base",
      "_model_module_version": "1.2.0",
      "_model_name": "LayoutModel",
      "_view_count": null,
      "_view_module": "@jupyter-widgets/base",
      "_view_module_version": "1.2.0",
      "_view_name": "LayoutView",
      "align_content": null,
      "align_items": null,
      "align_self": null,
      "border": null,
      "bottom": null,
      "display": null,
      "flex": null,
      "flex_flow": null,
      "grid_area": null,
      "grid_auto_columns": null,
      "grid_auto_flow": null,
      "grid_auto_rows": null,
      "grid_column": null,
      "grid_gap": null,
      "grid_row": null,
      "grid_template_areas": null,
      "grid_template_columns": null,
      "grid_template_rows": null,
      "height": null,
      "justify_content": null,
      "justify_items": null,
      "left": null,
      "margin": null,
      "max_height": null,
      "max_width": null,
      "min_height": null,
      "min_width": null,
      "object_fit": null,
      "object_position": null,
      "order": null,
      "overflow": null,
      "overflow_x": null,
      "overflow_y": null,
      "padding": null,
      "right": null,
      "top": null,
      "visibility": null,
      "width": null
     }
    },
    "11f87ef478f24dbcae0c8b243aaaca97": {
     "model_module": "@jupyter-widgets/controls",
     "model_module_version": "1.5.0",
     "model_name": "FloatProgressModel",
     "state": {
      "_dom_classes": [],
      "_model_module": "@jupyter-widgets/controls",
      "_model_module_version": "1.5.0",
      "_model_name": "FloatProgressModel",
      "_view_count": null,
      "_view_module": "@jupyter-widgets/controls",
      "_view_module_version": "1.5.0",
      "_view_name": "ProgressView",
      "bar_style": "success",
      "description": "",
      "description_tooltip": null,
      "layout": "IPY_MODEL_57c2bae786b74e69998a2c74fc423916",
      "max": 9912422,
      "min": 0,
      "orientation": "horizontal",
      "style": "IPY_MODEL_cad4cc57536c4c85a4d93a22edeb0fdf",
      "value": 9912422
     }
    },
    "15d9dabca6c049d4b8384473d9af2652": {
     "model_module": "@jupyter-widgets/controls",
     "model_module_version": "1.5.0",
     "model_name": "DescriptionStyleModel",
     "state": {
      "_model_module": "@jupyter-widgets/controls",
      "_model_module_version": "1.5.0",
      "_model_name": "DescriptionStyleModel",
      "_view_count": null,
      "_view_module": "@jupyter-widgets/base",
      "_view_module_version": "1.2.0",
      "_view_name": "StyleView",
      "description_width": ""
     }
    },
    "164064965a5f4257b42777813d7292e7": {
     "model_module": "@jupyter-widgets/controls",
     "model_module_version": "1.5.0",
     "model_name": "FloatProgressModel",
     "state": {
      "_dom_classes": [],
      "_model_module": "@jupyter-widgets/controls",
      "_model_module_version": "1.5.0",
      "_model_name": "FloatProgressModel",
      "_view_count": null,
      "_view_module": "@jupyter-widgets/controls",
      "_view_module_version": "1.5.0",
      "_view_name": "ProgressView",
      "bar_style": "success",
      "description": "",
      "description_tooltip": null,
      "layout": "IPY_MODEL_0dccd258d9994cd09e3bce0360cd584a",
      "max": 4542,
      "min": 0,
      "orientation": "horizontal",
      "style": "IPY_MODEL_facdd689148f46578d4a5b42bfe27513",
      "value": 4542
     }
    },
    "1aa45dfa3fa64a5084e914ddacb85378": {
     "model_module": "@jupyter-widgets/controls",
     "model_module_version": "1.5.0",
     "model_name": "DescriptionStyleModel",
     "state": {
      "_model_module": "@jupyter-widgets/controls",
      "_model_module_version": "1.5.0",
      "_model_name": "DescriptionStyleModel",
      "_view_count": null,
      "_view_module": "@jupyter-widgets/base",
      "_view_module_version": "1.2.0",
      "_view_name": "StyleView",
      "description_width": ""
     }
    },
    "1c8690061ca24a5cb5053d6a9952fe65": {
     "model_module": "@jupyter-widgets/controls",
     "model_module_version": "1.5.0",
     "model_name": "HTMLModel",
     "state": {
      "_dom_classes": [],
      "_model_module": "@jupyter-widgets/controls",
      "_model_module_version": "1.5.0",
      "_model_name": "HTMLModel",
      "_view_count": null,
      "_view_module": "@jupyter-widgets/controls",
      "_view_module_version": "1.5.0",
      "_view_name": "HTMLView",
      "description": "",
      "description_tooltip": null,
      "layout": "IPY_MODEL_2fe2759e905447d99b7c54eadc0a5bee",
      "placeholder": "​",
      "style": "IPY_MODEL_c41e268720cb467f949c9bec1beadb83",
      "value": " 9912422/9912422 [00:00&lt;00:00, 29479279.82it/s]"
     }
    },
    "1e3087a51bea4da481b9b343a699436c": {
     "model_module": "@jupyter-widgets/controls",
     "model_module_version": "1.5.0",
     "model_name": "HTMLModel",
     "state": {
      "_dom_classes": [],
      "_model_module": "@jupyter-widgets/controls",
      "_model_module_version": "1.5.0",
      "_model_name": "HTMLModel",
      "_view_count": null,
      "_view_module": "@jupyter-widgets/controls",
      "_view_module_version": "1.5.0",
      "_view_name": "HTMLView",
      "description": "",
      "description_tooltip": null,
      "layout": "IPY_MODEL_857919b1cae94e9fa129c70cb3e9053b",
      "placeholder": "​",
      "style": "IPY_MODEL_b032f4662ae44978854ef992d4b72041",
      "value": "100%"
     }
    },
    "2552149ae44a4124a01d6701c678b4d3": {
     "model_module": "@jupyter-widgets/controls",
     "model_module_version": "1.5.0",
     "model_name": "HBoxModel",
     "state": {
      "_dom_classes": [],
      "_model_module": "@jupyter-widgets/controls",
      "_model_module_version": "1.5.0",
      "_model_name": "HBoxModel",
      "_view_count": null,
      "_view_module": "@jupyter-widgets/controls",
      "_view_module_version": "1.5.0",
      "_view_name": "HBoxView",
      "box_style": "",
      "children": [
       "IPY_MODEL_0a951ff2d80849949b134fc6c9e80a5d",
       "IPY_MODEL_164064965a5f4257b42777813d7292e7",
       "IPY_MODEL_2d7b3e17d0104179a465735a51ccfc2b"
      ],
      "layout": "IPY_MODEL_976c8543f2f343b8b7443405888034ac"
     }
    },
    "28cb25e3c7c14195ae7434bcc451a2f4": {
     "model_module": "@jupyter-widgets/controls",
     "model_module_version": "1.5.0",
     "model_name": "DescriptionStyleModel",
     "state": {
      "_model_module": "@jupyter-widgets/controls",
      "_model_module_version": "1.5.0",
      "_model_name": "DescriptionStyleModel",
      "_view_count": null,
      "_view_module": "@jupyter-widgets/base",
      "_view_module_version": "1.2.0",
      "_view_name": "StyleView",
      "description_width": ""
     }
    },
    "2d7b3e17d0104179a465735a51ccfc2b": {
     "model_module": "@jupyter-widgets/controls",
     "model_module_version": "1.5.0",
     "model_name": "HTMLModel",
     "state": {
      "_dom_classes": [],
      "_model_module": "@jupyter-widgets/controls",
      "_model_module_version": "1.5.0",
      "_model_name": "HTMLModel",
      "_view_count": null,
      "_view_module": "@jupyter-widgets/controls",
      "_view_module_version": "1.5.0",
      "_view_name": "HTMLView",
      "description": "",
      "description_tooltip": null,
      "layout": "IPY_MODEL_cf9877a4278c4c8d832535d62620371c",
      "placeholder": "​",
      "style": "IPY_MODEL_15d9dabca6c049d4b8384473d9af2652",
      "value": " 4542/4542 [00:00&lt;00:00, 151276.31it/s]"
     }
    },
    "2fe2759e905447d99b7c54eadc0a5bee": {
     "model_module": "@jupyter-widgets/base",
     "model_module_version": "1.2.0",
     "model_name": "LayoutModel",
     "state": {
      "_model_module": "@jupyter-widgets/base",
      "_model_module_version": "1.2.0",
      "_model_name": "LayoutModel",
      "_view_count": null,
      "_view_module": "@jupyter-widgets/base",
      "_view_module_version": "1.2.0",
      "_view_name": "LayoutView",
      "align_content": null,
      "align_items": null,
      "align_self": null,
      "border": null,
      "bottom": null,
      "display": null,
      "flex": null,
      "flex_flow": null,
      "grid_area": null,
      "grid_auto_columns": null,
      "grid_auto_flow": null,
      "grid_auto_rows": null,
      "grid_column": null,
      "grid_gap": null,
      "grid_row": null,
      "grid_template_areas": null,
      "grid_template_columns": null,
      "grid_template_rows": null,
      "height": null,
      "justify_content": null,
      "justify_items": null,
      "left": null,
      "margin": null,
      "max_height": null,
      "max_width": null,
      "min_height": null,
      "min_width": null,
      "object_fit": null,
      "object_position": null,
      "order": null,
      "overflow": null,
      "overflow_x": null,
      "overflow_y": null,
      "padding": null,
      "right": null,
      "top": null,
      "visibility": null,
      "width": null
     }
    },
    "36c4d28787d3497f90ebb9a3cff3c0ec": {
     "model_module": "@jupyter-widgets/controls",
     "model_module_version": "1.5.0",
     "model_name": "FloatProgressModel",
     "state": {
      "_dom_classes": [],
      "_model_module": "@jupyter-widgets/controls",
      "_model_module_version": "1.5.0",
      "_model_name": "FloatProgressModel",
      "_view_count": null,
      "_view_module": "@jupyter-widgets/controls",
      "_view_module_version": "1.5.0",
      "_view_name": "ProgressView",
      "bar_style": "success",
      "description": "",
      "description_tooltip": null,
      "layout": "IPY_MODEL_db45f4e9ead54c34a2f3aa9ba07c5529",
      "max": 1648877,
      "min": 0,
      "orientation": "horizontal",
      "style": "IPY_MODEL_5fa3ed47ba214a2cae584c05674ca3c2",
      "value": 1648877
     }
    },
    "57c2bae786b74e69998a2c74fc423916": {
     "model_module": "@jupyter-widgets/base",
     "model_module_version": "1.2.0",
     "model_name": "LayoutModel",
     "state": {
      "_model_module": "@jupyter-widgets/base",
      "_model_module_version": "1.2.0",
      "_model_name": "LayoutModel",
      "_view_count": null,
      "_view_module": "@jupyter-widgets/base",
      "_view_module_version": "1.2.0",
      "_view_name": "LayoutView",
      "align_content": null,
      "align_items": null,
      "align_self": null,
      "border": null,
      "bottom": null,
      "display": null,
      "flex": null,
      "flex_flow": null,
      "grid_area": null,
      "grid_auto_columns": null,
      "grid_auto_flow": null,
      "grid_auto_rows": null,
      "grid_column": null,
      "grid_gap": null,
      "grid_row": null,
      "grid_template_areas": null,
      "grid_template_columns": null,
      "grid_template_rows": null,
      "height": null,
      "justify_content": null,
      "justify_items": null,
      "left": null,
      "margin": null,
      "max_height": null,
      "max_width": null,
      "min_height": null,
      "min_width": null,
      "object_fit": null,
      "object_position": null,
      "order": null,
      "overflow": null,
      "overflow_x": null,
      "overflow_y": null,
      "padding": null,
      "right": null,
      "top": null,
      "visibility": null,
      "width": null
     }
    },
    "591de2d779024b5ea649c09f4ca485d5": {
     "model_module": "@jupyter-widgets/base",
     "model_module_version": "1.2.0",
     "model_name": "LayoutModel",
     "state": {
      "_model_module": "@jupyter-widgets/base",
      "_model_module_version": "1.2.0",
      "_model_name": "LayoutModel",
      "_view_count": null,
      "_view_module": "@jupyter-widgets/base",
      "_view_module_version": "1.2.0",
      "_view_name": "LayoutView",
      "align_content": null,
      "align_items": null,
      "align_self": null,
      "border": null,
      "bottom": null,
      "display": null,
      "flex": null,
      "flex_flow": null,
      "grid_area": null,
      "grid_auto_columns": null,
      "grid_auto_flow": null,
      "grid_auto_rows": null,
      "grid_column": null,
      "grid_gap": null,
      "grid_row": null,
      "grid_template_areas": null,
      "grid_template_columns": null,
      "grid_template_rows": null,
      "height": null,
      "justify_content": null,
      "justify_items": null,
      "left": null,
      "margin": null,
      "max_height": null,
      "max_width": null,
      "min_height": null,
      "min_width": null,
      "object_fit": null,
      "object_position": null,
      "order": null,
      "overflow": null,
      "overflow_x": null,
      "overflow_y": null,
      "padding": null,
      "right": null,
      "top": null,
      "visibility": null,
      "width": null
     }
    },
    "5fa3ed47ba214a2cae584c05674ca3c2": {
     "model_module": "@jupyter-widgets/controls",
     "model_module_version": "1.5.0",
     "model_name": "ProgressStyleModel",
     "state": {
      "_model_module": "@jupyter-widgets/controls",
      "_model_module_version": "1.5.0",
      "_model_name": "ProgressStyleModel",
      "_view_count": null,
      "_view_module": "@jupyter-widgets/base",
      "_view_module_version": "1.2.0",
      "_view_name": "StyleView",
      "bar_color": null,
      "description_width": ""
     }
    },
    "67d78f5fc4ef412692669fa63c9a7b06": {
     "model_module": "@jupyter-widgets/controls",
     "model_module_version": "1.5.0",
     "model_name": "HTMLModel",
     "state": {
      "_dom_classes": [],
      "_model_module": "@jupyter-widgets/controls",
      "_model_module_version": "1.5.0",
      "_model_name": "HTMLModel",
      "_view_count": null,
      "_view_module": "@jupyter-widgets/controls",
      "_view_module_version": "1.5.0",
      "_view_name": "HTMLView",
      "description": "",
      "description_tooltip": null,
      "layout": "IPY_MODEL_ecc09494c29348ee93b268f8cb3e4ba8",
      "placeholder": "​",
      "style": "IPY_MODEL_28cb25e3c7c14195ae7434bcc451a2f4",
      "value": " 28881/28881 [00:00&lt;00:00, 625794.64it/s]"
     }
    },
    "7649bbca57a44b0587757d9fc1883482": {
     "model_module": "@jupyter-widgets/base",
     "model_module_version": "1.2.0",
     "model_name": "LayoutModel",
     "state": {
      "_model_module": "@jupyter-widgets/base",
      "_model_module_version": "1.2.0",
      "_model_name": "LayoutModel",
      "_view_count": null,
      "_view_module": "@jupyter-widgets/base",
      "_view_module_version": "1.2.0",
      "_view_name": "LayoutView",
      "align_content": null,
      "align_items": null,
      "align_self": null,
      "border": null,
      "bottom": null,
      "display": null,
      "flex": null,
      "flex_flow": null,
      "grid_area": null,
      "grid_auto_columns": null,
      "grid_auto_flow": null,
      "grid_auto_rows": null,
      "grid_column": null,
      "grid_gap": null,
      "grid_row": null,
      "grid_template_areas": null,
      "grid_template_columns": null,
      "grid_template_rows": null,
      "height": null,
      "justify_content": null,
      "justify_items": null,
      "left": null,
      "margin": null,
      "max_height": null,
      "max_width": null,
      "min_height": null,
      "min_width": null,
      "object_fit": null,
      "object_position": null,
      "order": null,
      "overflow": null,
      "overflow_x": null,
      "overflow_y": null,
      "padding": null,
      "right": null,
      "top": null,
      "visibility": null,
      "width": null
     }
    },
    "7f490ea1eb0543499fc87ef3dcfa284f": {
     "model_module": "@jupyter-widgets/controls",
     "model_module_version": "1.5.0",
     "model_name": "HBoxModel",
     "state": {
      "_dom_classes": [],
      "_model_module": "@jupyter-widgets/controls",
      "_model_module_version": "1.5.0",
      "_model_name": "HBoxModel",
      "_view_count": null,
      "_view_module": "@jupyter-widgets/controls",
      "_view_module_version": "1.5.0",
      "_view_name": "HBoxView",
      "box_style": "",
      "children": [
       "IPY_MODEL_8c738d93e1e1440c8eacba9fa445c94e",
       "IPY_MODEL_11f87ef478f24dbcae0c8b243aaaca97",
       "IPY_MODEL_1c8690061ca24a5cb5053d6a9952fe65"
      ],
      "layout": "IPY_MODEL_02d5d9d5fd964f42a0a44d8e84817d56"
     }
    },
    "857919b1cae94e9fa129c70cb3e9053b": {
     "model_module": "@jupyter-widgets/base",
     "model_module_version": "1.2.0",
     "model_name": "LayoutModel",
     "state": {
      "_model_module": "@jupyter-widgets/base",
      "_model_module_version": "1.2.0",
      "_model_name": "LayoutModel",
      "_view_count": null,
      "_view_module": "@jupyter-widgets/base",
      "_view_module_version": "1.2.0",
      "_view_name": "LayoutView",
      "align_content": null,
      "align_items": null,
      "align_self": null,
      "border": null,
      "bottom": null,
      "display": null,
      "flex": null,
      "flex_flow": null,
      "grid_area": null,
      "grid_auto_columns": null,
      "grid_auto_flow": null,
      "grid_auto_rows": null,
      "grid_column": null,
      "grid_gap": null,
      "grid_row": null,
      "grid_template_areas": null,
      "grid_template_columns": null,
      "grid_template_rows": null,
      "height": null,
      "justify_content": null,
      "justify_items": null,
      "left": null,
      "margin": null,
      "max_height": null,
      "max_width": null,
      "min_height": null,
      "min_width": null,
      "object_fit": null,
      "object_position": null,
      "order": null,
      "overflow": null,
      "overflow_x": null,
      "overflow_y": null,
      "padding": null,
      "right": null,
      "top": null,
      "visibility": null,
      "width": null
     }
    },
    "85e031d6073c4935889758ca323351ac": {
     "model_module": "@jupyter-widgets/controls",
     "model_module_version": "1.5.0",
     "model_name": "FloatProgressModel",
     "state": {
      "_dom_classes": [],
      "_model_module": "@jupyter-widgets/controls",
      "_model_module_version": "1.5.0",
      "_model_name": "FloatProgressModel",
      "_view_count": null,
      "_view_module": "@jupyter-widgets/controls",
      "_view_module_version": "1.5.0",
      "_view_name": "ProgressView",
      "bar_style": "success",
      "description": "",
      "description_tooltip": null,
      "layout": "IPY_MODEL_96cbb64ce3134906ab0a23fab9fc6d32",
      "max": 28881,
      "min": 0,
      "orientation": "horizontal",
      "style": "IPY_MODEL_9a4509b24f6841ccb36354361fbbfe64",
      "value": 28881
     }
    },
    "8725b660d6ce43c5af2c50eb860787da": {
     "model_module": "@jupyter-widgets/base",
     "model_module_version": "1.2.0",
     "model_name": "LayoutModel",
     "state": {
      "_model_module": "@jupyter-widgets/base",
      "_model_module_version": "1.2.0",
      "_model_name": "LayoutModel",
      "_view_count": null,
      "_view_module": "@jupyter-widgets/base",
      "_view_module_version": "1.2.0",
      "_view_name": "LayoutView",
      "align_content": null,
      "align_items": null,
      "align_self": null,
      "border": null,
      "bottom": null,
      "display": null,
      "flex": null,
      "flex_flow": null,
      "grid_area": null,
      "grid_auto_columns": null,
      "grid_auto_flow": null,
      "grid_auto_rows": null,
      "grid_column": null,
      "grid_gap": null,
      "grid_row": null,
      "grid_template_areas": null,
      "grid_template_columns": null,
      "grid_template_rows": null,
      "height": null,
      "justify_content": null,
      "justify_items": null,
      "left": null,
      "margin": null,
      "max_height": null,
      "max_width": null,
      "min_height": null,
      "min_width": null,
      "object_fit": null,
      "object_position": null,
      "order": null,
      "overflow": null,
      "overflow_x": null,
      "overflow_y": null,
      "padding": null,
      "right": null,
      "top": null,
      "visibility": null,
      "width": null
     }
    },
    "8c738d93e1e1440c8eacba9fa445c94e": {
     "model_module": "@jupyter-widgets/controls",
     "model_module_version": "1.5.0",
     "model_name": "HTMLModel",
     "state": {
      "_dom_classes": [],
      "_model_module": "@jupyter-widgets/controls",
      "_model_module_version": "1.5.0",
      "_model_name": "HTMLModel",
      "_view_count": null,
      "_view_module": "@jupyter-widgets/controls",
      "_view_module_version": "1.5.0",
      "_view_name": "HTMLView",
      "description": "",
      "description_tooltip": null,
      "layout": "IPY_MODEL_7649bbca57a44b0587757d9fc1883482",
      "placeholder": "​",
      "style": "IPY_MODEL_ddbdcc2ae4be48e29c189a6bdd14e803",
      "value": "100%"
     }
    },
    "96cbb64ce3134906ab0a23fab9fc6d32": {
     "model_module": "@jupyter-widgets/base",
     "model_module_version": "1.2.0",
     "model_name": "LayoutModel",
     "state": {
      "_model_module": "@jupyter-widgets/base",
      "_model_module_version": "1.2.0",
      "_model_name": "LayoutModel",
      "_view_count": null,
      "_view_module": "@jupyter-widgets/base",
      "_view_module_version": "1.2.0",
      "_view_name": "LayoutView",
      "align_content": null,
      "align_items": null,
      "align_self": null,
      "border": null,
      "bottom": null,
      "display": null,
      "flex": null,
      "flex_flow": null,
      "grid_area": null,
      "grid_auto_columns": null,
      "grid_auto_flow": null,
      "grid_auto_rows": null,
      "grid_column": null,
      "grid_gap": null,
      "grid_row": null,
      "grid_template_areas": null,
      "grid_template_columns": null,
      "grid_template_rows": null,
      "height": null,
      "justify_content": null,
      "justify_items": null,
      "left": null,
      "margin": null,
      "max_height": null,
      "max_width": null,
      "min_height": null,
      "min_width": null,
      "object_fit": null,
      "object_position": null,
      "order": null,
      "overflow": null,
      "overflow_x": null,
      "overflow_y": null,
      "padding": null,
      "right": null,
      "top": null,
      "visibility": null,
      "width": null
     }
    },
    "976c8543f2f343b8b7443405888034ac": {
     "model_module": "@jupyter-widgets/base",
     "model_module_version": "1.2.0",
     "model_name": "LayoutModel",
     "state": {
      "_model_module": "@jupyter-widgets/base",
      "_model_module_version": "1.2.0",
      "_model_name": "LayoutModel",
      "_view_count": null,
      "_view_module": "@jupyter-widgets/base",
      "_view_module_version": "1.2.0",
      "_view_name": "LayoutView",
      "align_content": null,
      "align_items": null,
      "align_self": null,
      "border": null,
      "bottom": null,
      "display": null,
      "flex": null,
      "flex_flow": null,
      "grid_area": null,
      "grid_auto_columns": null,
      "grid_auto_flow": null,
      "grid_auto_rows": null,
      "grid_column": null,
      "grid_gap": null,
      "grid_row": null,
      "grid_template_areas": null,
      "grid_template_columns": null,
      "grid_template_rows": null,
      "height": null,
      "justify_content": null,
      "justify_items": null,
      "left": null,
      "margin": null,
      "max_height": null,
      "max_width": null,
      "min_height": null,
      "min_width": null,
      "object_fit": null,
      "object_position": null,
      "order": null,
      "overflow": null,
      "overflow_x": null,
      "overflow_y": null,
      "padding": null,
      "right": null,
      "top": null,
      "visibility": null,
      "width": null
     }
    },
    "9a4509b24f6841ccb36354361fbbfe64": {
     "model_module": "@jupyter-widgets/controls",
     "model_module_version": "1.5.0",
     "model_name": "ProgressStyleModel",
     "state": {
      "_model_module": "@jupyter-widgets/controls",
      "_model_module_version": "1.5.0",
      "_model_name": "ProgressStyleModel",
      "_view_count": null,
      "_view_module": "@jupyter-widgets/base",
      "_view_module_version": "1.2.0",
      "_view_name": "StyleView",
      "bar_color": null,
      "description_width": ""
     }
    },
    "9f8f59439e304122af753cde0f3f9a73": {
     "model_module": "@jupyter-widgets/controls",
     "model_module_version": "1.5.0",
     "model_name": "HTMLModel",
     "state": {
      "_dom_classes": [],
      "_model_module": "@jupyter-widgets/controls",
      "_model_module_version": "1.5.0",
      "_model_name": "HTMLModel",
      "_view_count": null,
      "_view_module": "@jupyter-widgets/controls",
      "_view_module_version": "1.5.0",
      "_view_name": "HTMLView",
      "description": "",
      "description_tooltip": null,
      "layout": "IPY_MODEL_e7f026e9d7cc4f47a3e9c288677a8852",
      "placeholder": "​",
      "style": "IPY_MODEL_1aa45dfa3fa64a5084e914ddacb85378",
      "value": " 1648877/1648877 [00:00&lt;00:00, 23885129.22it/s]"
     }
    },
    "a4779d275f3946fe92b39bb489ab3264": {
     "model_module": "@jupyter-widgets/controls",
     "model_module_version": "1.5.0",
     "model_name": "HTMLModel",
     "state": {
      "_dom_classes": [],
      "_model_module": "@jupyter-widgets/controls",
      "_model_module_version": "1.5.0",
      "_model_name": "HTMLModel",
      "_view_count": null,
      "_view_module": "@jupyter-widgets/controls",
      "_view_module_version": "1.5.0",
      "_view_name": "HTMLView",
      "description": "",
      "description_tooltip": null,
      "layout": "IPY_MODEL_10c33018844041df9d6e56e4b1385e37",
      "placeholder": "​",
      "style": "IPY_MODEL_c4a47097d1e54660989707310309eb85",
      "value": "100%"
     }
    },
    "b032f4662ae44978854ef992d4b72041": {
     "model_module": "@jupyter-widgets/controls",
     "model_module_version": "1.5.0",
     "model_name": "DescriptionStyleModel",
     "state": {
      "_model_module": "@jupyter-widgets/controls",
      "_model_module_version": "1.5.0",
      "_model_name": "DescriptionStyleModel",
      "_view_count": null,
      "_view_module": "@jupyter-widgets/base",
      "_view_module_version": "1.2.0",
      "_view_name": "StyleView",
      "description_width": ""
     }
    },
    "b3b3a271a45a410e8731636f1b315ae5": {
     "model_module": "@jupyter-widgets/base",
     "model_module_version": "1.2.0",
     "model_name": "LayoutModel",
     "state": {
      "_model_module": "@jupyter-widgets/base",
      "_model_module_version": "1.2.0",
      "_model_name": "LayoutModel",
      "_view_count": null,
      "_view_module": "@jupyter-widgets/base",
      "_view_module_version": "1.2.0",
      "_view_name": "LayoutView",
      "align_content": null,
      "align_items": null,
      "align_self": null,
      "border": null,
      "bottom": null,
      "display": null,
      "flex": null,
      "flex_flow": null,
      "grid_area": null,
      "grid_auto_columns": null,
      "grid_auto_flow": null,
      "grid_auto_rows": null,
      "grid_column": null,
      "grid_gap": null,
      "grid_row": null,
      "grid_template_areas": null,
      "grid_template_columns": null,
      "grid_template_rows": null,
      "height": null,
      "justify_content": null,
      "justify_items": null,
      "left": null,
      "margin": null,
      "max_height": null,
      "max_width": null,
      "min_height": null,
      "min_width": null,
      "object_fit": null,
      "object_position": null,
      "order": null,
      "overflow": null,
      "overflow_x": null,
      "overflow_y": null,
      "padding": null,
      "right": null,
      "top": null,
      "visibility": null,
      "width": null
     }
    },
    "c41e268720cb467f949c9bec1beadb83": {
     "model_module": "@jupyter-widgets/controls",
     "model_module_version": "1.5.0",
     "model_name": "DescriptionStyleModel",
     "state": {
      "_model_module": "@jupyter-widgets/controls",
      "_model_module_version": "1.5.0",
      "_model_name": "DescriptionStyleModel",
      "_view_count": null,
      "_view_module": "@jupyter-widgets/base",
      "_view_module_version": "1.2.0",
      "_view_name": "StyleView",
      "description_width": ""
     }
    },
    "c4a47097d1e54660989707310309eb85": {
     "model_module": "@jupyter-widgets/controls",
     "model_module_version": "1.5.0",
     "model_name": "DescriptionStyleModel",
     "state": {
      "_model_module": "@jupyter-widgets/controls",
      "_model_module_version": "1.5.0",
      "_model_name": "DescriptionStyleModel",
      "_view_count": null,
      "_view_module": "@jupyter-widgets/base",
      "_view_module_version": "1.2.0",
      "_view_name": "StyleView",
      "description_width": ""
     }
    },
    "c7013bfa8e8547d1b116261097b638ef": {
     "model_module": "@jupyter-widgets/controls",
     "model_module_version": "1.5.0",
     "model_name": "HBoxModel",
     "state": {
      "_dom_classes": [],
      "_model_module": "@jupyter-widgets/controls",
      "_model_module_version": "1.5.0",
      "_model_name": "HBoxModel",
      "_view_count": null,
      "_view_module": "@jupyter-widgets/controls",
      "_view_module_version": "1.5.0",
      "_view_name": "HBoxView",
      "box_style": "",
      "children": [
       "IPY_MODEL_a4779d275f3946fe92b39bb489ab3264",
       "IPY_MODEL_85e031d6073c4935889758ca323351ac",
       "IPY_MODEL_67d78f5fc4ef412692669fa63c9a7b06"
      ],
      "layout": "IPY_MODEL_8725b660d6ce43c5af2c50eb860787da"
     }
    },
    "cad4cc57536c4c85a4d93a22edeb0fdf": {
     "model_module": "@jupyter-widgets/controls",
     "model_module_version": "1.5.0",
     "model_name": "ProgressStyleModel",
     "state": {
      "_model_module": "@jupyter-widgets/controls",
      "_model_module_version": "1.5.0",
      "_model_name": "ProgressStyleModel",
      "_view_count": null,
      "_view_module": "@jupyter-widgets/base",
      "_view_module_version": "1.2.0",
      "_view_name": "StyleView",
      "bar_color": null,
      "description_width": ""
     }
    },
    "cf9877a4278c4c8d832535d62620371c": {
     "model_module": "@jupyter-widgets/base",
     "model_module_version": "1.2.0",
     "model_name": "LayoutModel",
     "state": {
      "_model_module": "@jupyter-widgets/base",
      "_model_module_version": "1.2.0",
      "_model_name": "LayoutModel",
      "_view_count": null,
      "_view_module": "@jupyter-widgets/base",
      "_view_module_version": "1.2.0",
      "_view_name": "LayoutView",
      "align_content": null,
      "align_items": null,
      "align_self": null,
      "border": null,
      "bottom": null,
      "display": null,
      "flex": null,
      "flex_flow": null,
      "grid_area": null,
      "grid_auto_columns": null,
      "grid_auto_flow": null,
      "grid_auto_rows": null,
      "grid_column": null,
      "grid_gap": null,
      "grid_row": null,
      "grid_template_areas": null,
      "grid_template_columns": null,
      "grid_template_rows": null,
      "height": null,
      "justify_content": null,
      "justify_items": null,
      "left": null,
      "margin": null,
      "max_height": null,
      "max_width": null,
      "min_height": null,
      "min_width": null,
      "object_fit": null,
      "object_position": null,
      "order": null,
      "overflow": null,
      "overflow_x": null,
      "overflow_y": null,
      "padding": null,
      "right": null,
      "top": null,
      "visibility": null,
      "width": null
     }
    },
    "db45f4e9ead54c34a2f3aa9ba07c5529": {
     "model_module": "@jupyter-widgets/base",
     "model_module_version": "1.2.0",
     "model_name": "LayoutModel",
     "state": {
      "_model_module": "@jupyter-widgets/base",
      "_model_module_version": "1.2.0",
      "_model_name": "LayoutModel",
      "_view_count": null,
      "_view_module": "@jupyter-widgets/base",
      "_view_module_version": "1.2.0",
      "_view_name": "LayoutView",
      "align_content": null,
      "align_items": null,
      "align_self": null,
      "border": null,
      "bottom": null,
      "display": null,
      "flex": null,
      "flex_flow": null,
      "grid_area": null,
      "grid_auto_columns": null,
      "grid_auto_flow": null,
      "grid_auto_rows": null,
      "grid_column": null,
      "grid_gap": null,
      "grid_row": null,
      "grid_template_areas": null,
      "grid_template_columns": null,
      "grid_template_rows": null,
      "height": null,
      "justify_content": null,
      "justify_items": null,
      "left": null,
      "margin": null,
      "max_height": null,
      "max_width": null,
      "min_height": null,
      "min_width": null,
      "object_fit": null,
      "object_position": null,
      "order": null,
      "overflow": null,
      "overflow_x": null,
      "overflow_y": null,
      "padding": null,
      "right": null,
      "top": null,
      "visibility": null,
      "width": null
     }
    },
    "ddbdcc2ae4be48e29c189a6bdd14e803": {
     "model_module": "@jupyter-widgets/controls",
     "model_module_version": "1.5.0",
     "model_name": "DescriptionStyleModel",
     "state": {
      "_model_module": "@jupyter-widgets/controls",
      "_model_module_version": "1.5.0",
      "_model_name": "DescriptionStyleModel",
      "_view_count": null,
      "_view_module": "@jupyter-widgets/base",
      "_view_module_version": "1.2.0",
      "_view_name": "StyleView",
      "description_width": ""
     }
    },
    "e7f026e9d7cc4f47a3e9c288677a8852": {
     "model_module": "@jupyter-widgets/base",
     "model_module_version": "1.2.0",
     "model_name": "LayoutModel",
     "state": {
      "_model_module": "@jupyter-widgets/base",
      "_model_module_version": "1.2.0",
      "_model_name": "LayoutModel",
      "_view_count": null,
      "_view_module": "@jupyter-widgets/base",
      "_view_module_version": "1.2.0",
      "_view_name": "LayoutView",
      "align_content": null,
      "align_items": null,
      "align_self": null,
      "border": null,
      "bottom": null,
      "display": null,
      "flex": null,
      "flex_flow": null,
      "grid_area": null,
      "grid_auto_columns": null,
      "grid_auto_flow": null,
      "grid_auto_rows": null,
      "grid_column": null,
      "grid_gap": null,
      "grid_row": null,
      "grid_template_areas": null,
      "grid_template_columns": null,
      "grid_template_rows": null,
      "height": null,
      "justify_content": null,
      "justify_items": null,
      "left": null,
      "margin": null,
      "max_height": null,
      "max_width": null,
      "min_height": null,
      "min_width": null,
      "object_fit": null,
      "object_position": null,
      "order": null,
      "overflow": null,
      "overflow_x": null,
      "overflow_y": null,
      "padding": null,
      "right": null,
      "top": null,
      "visibility": null,
      "width": null
     }
    },
    "ecc09494c29348ee93b268f8cb3e4ba8": {
     "model_module": "@jupyter-widgets/base",
     "model_module_version": "1.2.0",
     "model_name": "LayoutModel",
     "state": {
      "_model_module": "@jupyter-widgets/base",
      "_model_module_version": "1.2.0",
      "_model_name": "LayoutModel",
      "_view_count": null,
      "_view_module": "@jupyter-widgets/base",
      "_view_module_version": "1.2.0",
      "_view_name": "LayoutView",
      "align_content": null,
      "align_items": null,
      "align_self": null,
      "border": null,
      "bottom": null,
      "display": null,
      "flex": null,
      "flex_flow": null,
      "grid_area": null,
      "grid_auto_columns": null,
      "grid_auto_flow": null,
      "grid_auto_rows": null,
      "grid_column": null,
      "grid_gap": null,
      "grid_row": null,
      "grid_template_areas": null,
      "grid_template_columns": null,
      "grid_template_rows": null,
      "height": null,
      "justify_content": null,
      "justify_items": null,
      "left": null,
      "margin": null,
      "max_height": null,
      "max_width": null,
      "min_height": null,
      "min_width": null,
      "object_fit": null,
      "object_position": null,
      "order": null,
      "overflow": null,
      "overflow_x": null,
      "overflow_y": null,
      "padding": null,
      "right": null,
      "top": null,
      "visibility": null,
      "width": null
     }
    },
    "edf2b777aaf448baa68b0db46dc627ab": {
     "model_module": "@jupyter-widgets/controls",
     "model_module_version": "1.5.0",
     "model_name": "HBoxModel",
     "state": {
      "_dom_classes": [],
      "_model_module": "@jupyter-widgets/controls",
      "_model_module_version": "1.5.0",
      "_model_name": "HBoxModel",
      "_view_count": null,
      "_view_module": "@jupyter-widgets/controls",
      "_view_module_version": "1.5.0",
      "_view_name": "HBoxView",
      "box_style": "",
      "children": [
       "IPY_MODEL_1e3087a51bea4da481b9b343a699436c",
       "IPY_MODEL_36c4d28787d3497f90ebb9a3cff3c0ec",
       "IPY_MODEL_9f8f59439e304122af753cde0f3f9a73"
      ],
      "layout": "IPY_MODEL_b3b3a271a45a410e8731636f1b315ae5"
     }
    },
    "eed57fea4222467d8c6572b49a7f62bc": {
     "model_module": "@jupyter-widgets/controls",
     "model_module_version": "1.5.0",
     "model_name": "DescriptionStyleModel",
     "state": {
      "_model_module": "@jupyter-widgets/controls",
      "_model_module_version": "1.5.0",
      "_model_name": "DescriptionStyleModel",
      "_view_count": null,
      "_view_module": "@jupyter-widgets/base",
      "_view_module_version": "1.2.0",
      "_view_name": "StyleView",
      "description_width": ""
     }
    },
    "facdd689148f46578d4a5b42bfe27513": {
     "model_module": "@jupyter-widgets/controls",
     "model_module_version": "1.5.0",
     "model_name": "ProgressStyleModel",
     "state": {
      "_model_module": "@jupyter-widgets/controls",
      "_model_module_version": "1.5.0",
      "_model_name": "ProgressStyleModel",
      "_view_count": null,
      "_view_module": "@jupyter-widgets/base",
      "_view_module_version": "1.2.0",
      "_view_name": "StyleView",
      "bar_color": null,
      "description_width": ""
     }
    }
   }
  }
 },
 "nbformat": 4,
 "nbformat_minor": 1
}
