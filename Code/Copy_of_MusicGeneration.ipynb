{
  "nbformat": 4,
  "nbformat_minor": 0,
  "metadata": {
    "colab": {
      "provenance": [],
      "collapsed_sections": []
    },
    "kernelspec": {
      "name": "python3",
      "display_name": "Python 3"
    },
    "language_info": {
      "name": "python"
    },
    "accelerator": "GPU",
    "widgets": {
      "application/vnd.jupyter.widget-state+json": {
        "9cb8fc73703d49d0b51cf6f8ba22a01a": {
          "model_module": "@jupyter-widgets/controls",
          "model_name": "HBoxModel",
          "model_module_version": "1.5.0",
          "state": {
            "_dom_classes": [],
            "_model_module": "@jupyter-widgets/controls",
            "_model_module_version": "1.5.0",
            "_model_name": "HBoxModel",
            "_view_count": null,
            "_view_module": "@jupyter-widgets/controls",
            "_view_module_version": "1.5.0",
            "_view_name": "HBoxView",
            "box_style": "",
            "children": [
              "IPY_MODEL_df3046467e97482ca059b2a3986c7280",
              "IPY_MODEL_d9414cfc799040ddb061b4c14d73d5c1",
              "IPY_MODEL_e92ec318939046afa2a1de047d4bf5c4"
            ],
            "layout": "IPY_MODEL_2b8236340cd448c79242e0a73cedbb30"
          }
        },
        "df3046467e97482ca059b2a3986c7280": {
          "model_module": "@jupyter-widgets/controls",
          "model_name": "HTMLModel",
          "model_module_version": "1.5.0",
          "state": {
            "_dom_classes": [],
            "_model_module": "@jupyter-widgets/controls",
            "_model_module_version": "1.5.0",
            "_model_name": "HTMLModel",
            "_view_count": null,
            "_view_module": "@jupyter-widgets/controls",
            "_view_module_version": "1.5.0",
            "_view_name": "HTMLView",
            "description": "",
            "description_tooltip": null,
            "layout": "IPY_MODEL_59d1cc692dac490192d7c81e8ddbc49b",
            "placeholder": "​",
            "style": "IPY_MODEL_d9585a4814ad40d5b90c809fdc99687f",
            "value": "100%"
          }
        },
        "d9414cfc799040ddb061b4c14d73d5c1": {
          "model_module": "@jupyter-widgets/controls",
          "model_name": "FloatProgressModel",
          "model_module_version": "1.5.0",
          "state": {
            "_dom_classes": [],
            "_model_module": "@jupyter-widgets/controls",
            "_model_module_version": "1.5.0",
            "_model_name": "FloatProgressModel",
            "_view_count": null,
            "_view_module": "@jupyter-widgets/controls",
            "_view_module_version": "1.5.0",
            "_view_name": "ProgressView",
            "bar_style": "success",
            "description": "",
            "description_tooltip": null,
            "layout": "IPY_MODEL_1ac6f032c8a34b10ac32315de5db917c",
            "max": 9912422,
            "min": 0,
            "orientation": "horizontal",
            "style": "IPY_MODEL_60f42c4b09824994bc8a7f90b0961c45",
            "value": 9912422
          }
        },
        "e92ec318939046afa2a1de047d4bf5c4": {
          "model_module": "@jupyter-widgets/controls",
          "model_name": "HTMLModel",
          "model_module_version": "1.5.0",
          "state": {
            "_dom_classes": [],
            "_model_module": "@jupyter-widgets/controls",
            "_model_module_version": "1.5.0",
            "_model_name": "HTMLModel",
            "_view_count": null,
            "_view_module": "@jupyter-widgets/controls",
            "_view_module_version": "1.5.0",
            "_view_name": "HTMLView",
            "description": "",
            "description_tooltip": null,
            "layout": "IPY_MODEL_da8763b324e148e08dde2b33014ef222",
            "placeholder": "​",
            "style": "IPY_MODEL_571c6bef741244e19cb4b5a0e2d4e2a6",
            "value": " 9912422/9912422 [00:00&lt;00:00, 151043247.74it/s]"
          }
        },
        "2b8236340cd448c79242e0a73cedbb30": {
          "model_module": "@jupyter-widgets/base",
          "model_name": "LayoutModel",
          "model_module_version": "1.2.0",
          "state": {
            "_model_module": "@jupyter-widgets/base",
            "_model_module_version": "1.2.0",
            "_model_name": "LayoutModel",
            "_view_count": null,
            "_view_module": "@jupyter-widgets/base",
            "_view_module_version": "1.2.0",
            "_view_name": "LayoutView",
            "align_content": null,
            "align_items": null,
            "align_self": null,
            "border": null,
            "bottom": null,
            "display": null,
            "flex": null,
            "flex_flow": null,
            "grid_area": null,
            "grid_auto_columns": null,
            "grid_auto_flow": null,
            "grid_auto_rows": null,
            "grid_column": null,
            "grid_gap": null,
            "grid_row": null,
            "grid_template_areas": null,
            "grid_template_columns": null,
            "grid_template_rows": null,
            "height": null,
            "justify_content": null,
            "justify_items": null,
            "left": null,
            "margin": null,
            "max_height": null,
            "max_width": null,
            "min_height": null,
            "min_width": null,
            "object_fit": null,
            "object_position": null,
            "order": null,
            "overflow": null,
            "overflow_x": null,
            "overflow_y": null,
            "padding": null,
            "right": null,
            "top": null,
            "visibility": null,
            "width": null
          }
        },
        "59d1cc692dac490192d7c81e8ddbc49b": {
          "model_module": "@jupyter-widgets/base",
          "model_name": "LayoutModel",
          "model_module_version": "1.2.0",
          "state": {
            "_model_module": "@jupyter-widgets/base",
            "_model_module_version": "1.2.0",
            "_model_name": "LayoutModel",
            "_view_count": null,
            "_view_module": "@jupyter-widgets/base",
            "_view_module_version": "1.2.0",
            "_view_name": "LayoutView",
            "align_content": null,
            "align_items": null,
            "align_self": null,
            "border": null,
            "bottom": null,
            "display": null,
            "flex": null,
            "flex_flow": null,
            "grid_area": null,
            "grid_auto_columns": null,
            "grid_auto_flow": null,
            "grid_auto_rows": null,
            "grid_column": null,
            "grid_gap": null,
            "grid_row": null,
            "grid_template_areas": null,
            "grid_template_columns": null,
            "grid_template_rows": null,
            "height": null,
            "justify_content": null,
            "justify_items": null,
            "left": null,
            "margin": null,
            "max_height": null,
            "max_width": null,
            "min_height": null,
            "min_width": null,
            "object_fit": null,
            "object_position": null,
            "order": null,
            "overflow": null,
            "overflow_x": null,
            "overflow_y": null,
            "padding": null,
            "right": null,
            "top": null,
            "visibility": null,
            "width": null
          }
        },
        "d9585a4814ad40d5b90c809fdc99687f": {
          "model_module": "@jupyter-widgets/controls",
          "model_name": "DescriptionStyleModel",
          "model_module_version": "1.5.0",
          "state": {
            "_model_module": "@jupyter-widgets/controls",
            "_model_module_version": "1.5.0",
            "_model_name": "DescriptionStyleModel",
            "_view_count": null,
            "_view_module": "@jupyter-widgets/base",
            "_view_module_version": "1.2.0",
            "_view_name": "StyleView",
            "description_width": ""
          }
        },
        "1ac6f032c8a34b10ac32315de5db917c": {
          "model_module": "@jupyter-widgets/base",
          "model_name": "LayoutModel",
          "model_module_version": "1.2.0",
          "state": {
            "_model_module": "@jupyter-widgets/base",
            "_model_module_version": "1.2.0",
            "_model_name": "LayoutModel",
            "_view_count": null,
            "_view_module": "@jupyter-widgets/base",
            "_view_module_version": "1.2.0",
            "_view_name": "LayoutView",
            "align_content": null,
            "align_items": null,
            "align_self": null,
            "border": null,
            "bottom": null,
            "display": null,
            "flex": null,
            "flex_flow": null,
            "grid_area": null,
            "grid_auto_columns": null,
            "grid_auto_flow": null,
            "grid_auto_rows": null,
            "grid_column": null,
            "grid_gap": null,
            "grid_row": null,
            "grid_template_areas": null,
            "grid_template_columns": null,
            "grid_template_rows": null,
            "height": null,
            "justify_content": null,
            "justify_items": null,
            "left": null,
            "margin": null,
            "max_height": null,
            "max_width": null,
            "min_height": null,
            "min_width": null,
            "object_fit": null,
            "object_position": null,
            "order": null,
            "overflow": null,
            "overflow_x": null,
            "overflow_y": null,
            "padding": null,
            "right": null,
            "top": null,
            "visibility": null,
            "width": null
          }
        },
        "60f42c4b09824994bc8a7f90b0961c45": {
          "model_module": "@jupyter-widgets/controls",
          "model_name": "ProgressStyleModel",
          "model_module_version": "1.5.0",
          "state": {
            "_model_module": "@jupyter-widgets/controls",
            "_model_module_version": "1.5.0",
            "_model_name": "ProgressStyleModel",
            "_view_count": null,
            "_view_module": "@jupyter-widgets/base",
            "_view_module_version": "1.2.0",
            "_view_name": "StyleView",
            "bar_color": null,
            "description_width": ""
          }
        },
        "da8763b324e148e08dde2b33014ef222": {
          "model_module": "@jupyter-widgets/base",
          "model_name": "LayoutModel",
          "model_module_version": "1.2.0",
          "state": {
            "_model_module": "@jupyter-widgets/base",
            "_model_module_version": "1.2.0",
            "_model_name": "LayoutModel",
            "_view_count": null,
            "_view_module": "@jupyter-widgets/base",
            "_view_module_version": "1.2.0",
            "_view_name": "LayoutView",
            "align_content": null,
            "align_items": null,
            "align_self": null,
            "border": null,
            "bottom": null,
            "display": null,
            "flex": null,
            "flex_flow": null,
            "grid_area": null,
            "grid_auto_columns": null,
            "grid_auto_flow": null,
            "grid_auto_rows": null,
            "grid_column": null,
            "grid_gap": null,
            "grid_row": null,
            "grid_template_areas": null,
            "grid_template_columns": null,
            "grid_template_rows": null,
            "height": null,
            "justify_content": null,
            "justify_items": null,
            "left": null,
            "margin": null,
            "max_height": null,
            "max_width": null,
            "min_height": null,
            "min_width": null,
            "object_fit": null,
            "object_position": null,
            "order": null,
            "overflow": null,
            "overflow_x": null,
            "overflow_y": null,
            "padding": null,
            "right": null,
            "top": null,
            "visibility": null,
            "width": null
          }
        },
        "571c6bef741244e19cb4b5a0e2d4e2a6": {
          "model_module": "@jupyter-widgets/controls",
          "model_name": "DescriptionStyleModel",
          "model_module_version": "1.5.0",
          "state": {
            "_model_module": "@jupyter-widgets/controls",
            "_model_module_version": "1.5.0",
            "_model_name": "DescriptionStyleModel",
            "_view_count": null,
            "_view_module": "@jupyter-widgets/base",
            "_view_module_version": "1.2.0",
            "_view_name": "StyleView",
            "description_width": ""
          }
        },
        "c4cebe6e33d242efb68933d046fe0c7f": {
          "model_module": "@jupyter-widgets/controls",
          "model_name": "HBoxModel",
          "model_module_version": "1.5.0",
          "state": {
            "_dom_classes": [],
            "_model_module": "@jupyter-widgets/controls",
            "_model_module_version": "1.5.0",
            "_model_name": "HBoxModel",
            "_view_count": null,
            "_view_module": "@jupyter-widgets/controls",
            "_view_module_version": "1.5.0",
            "_view_name": "HBoxView",
            "box_style": "",
            "children": [
              "IPY_MODEL_6f66550b10bf47eba7c313ab73335e7d",
              "IPY_MODEL_7b0104244e8c40f388122867ead2ae9a",
              "IPY_MODEL_8d3b66c02e7246e1ab746da5fa8d9913"
            ],
            "layout": "IPY_MODEL_71189b4ff9bb4aa48684b49e6e6cd5d4"
          }
        },
        "6f66550b10bf47eba7c313ab73335e7d": {
          "model_module": "@jupyter-widgets/controls",
          "model_name": "HTMLModel",
          "model_module_version": "1.5.0",
          "state": {
            "_dom_classes": [],
            "_model_module": "@jupyter-widgets/controls",
            "_model_module_version": "1.5.0",
            "_model_name": "HTMLModel",
            "_view_count": null,
            "_view_module": "@jupyter-widgets/controls",
            "_view_module_version": "1.5.0",
            "_view_name": "HTMLView",
            "description": "",
            "description_tooltip": null,
            "layout": "IPY_MODEL_cc3309319d0b47a484705cd73b19c07f",
            "placeholder": "​",
            "style": "IPY_MODEL_8effb44a977841e9ad19b89644b1a868",
            "value": "100%"
          }
        },
        "7b0104244e8c40f388122867ead2ae9a": {
          "model_module": "@jupyter-widgets/controls",
          "model_name": "FloatProgressModel",
          "model_module_version": "1.5.0",
          "state": {
            "_dom_classes": [],
            "_model_module": "@jupyter-widgets/controls",
            "_model_module_version": "1.5.0",
            "_model_name": "FloatProgressModel",
            "_view_count": null,
            "_view_module": "@jupyter-widgets/controls",
            "_view_module_version": "1.5.0",
            "_view_name": "ProgressView",
            "bar_style": "success",
            "description": "",
            "description_tooltip": null,
            "layout": "IPY_MODEL_be44be858c8b46d3b5cc4abcadf9c7b9",
            "max": 28881,
            "min": 0,
            "orientation": "horizontal",
            "style": "IPY_MODEL_8798dbfc578541bc8f7bcafcabda4614",
            "value": 28881
          }
        },
        "8d3b66c02e7246e1ab746da5fa8d9913": {
          "model_module": "@jupyter-widgets/controls",
          "model_name": "HTMLModel",
          "model_module_version": "1.5.0",
          "state": {
            "_dom_classes": [],
            "_model_module": "@jupyter-widgets/controls",
            "_model_module_version": "1.5.0",
            "_model_name": "HTMLModel",
            "_view_count": null,
            "_view_module": "@jupyter-widgets/controls",
            "_view_module_version": "1.5.0",
            "_view_name": "HTMLView",
            "description": "",
            "description_tooltip": null,
            "layout": "IPY_MODEL_e1649c14360942958d495afcb9199e10",
            "placeholder": "​",
            "style": "IPY_MODEL_ddc455dfb03a4640a2c9ca093be6994c",
            "value": " 28881/28881 [00:00&lt;00:00, 961547.02it/s]"
          }
        },
        "71189b4ff9bb4aa48684b49e6e6cd5d4": {
          "model_module": "@jupyter-widgets/base",
          "model_name": "LayoutModel",
          "model_module_version": "1.2.0",
          "state": {
            "_model_module": "@jupyter-widgets/base",
            "_model_module_version": "1.2.0",
            "_model_name": "LayoutModel",
            "_view_count": null,
            "_view_module": "@jupyter-widgets/base",
            "_view_module_version": "1.2.0",
            "_view_name": "LayoutView",
            "align_content": null,
            "align_items": null,
            "align_self": null,
            "border": null,
            "bottom": null,
            "display": null,
            "flex": null,
            "flex_flow": null,
            "grid_area": null,
            "grid_auto_columns": null,
            "grid_auto_flow": null,
            "grid_auto_rows": null,
            "grid_column": null,
            "grid_gap": null,
            "grid_row": null,
            "grid_template_areas": null,
            "grid_template_columns": null,
            "grid_template_rows": null,
            "height": null,
            "justify_content": null,
            "justify_items": null,
            "left": null,
            "margin": null,
            "max_height": null,
            "max_width": null,
            "min_height": null,
            "min_width": null,
            "object_fit": null,
            "object_position": null,
            "order": null,
            "overflow": null,
            "overflow_x": null,
            "overflow_y": null,
            "padding": null,
            "right": null,
            "top": null,
            "visibility": null,
            "width": null
          }
        },
        "cc3309319d0b47a484705cd73b19c07f": {
          "model_module": "@jupyter-widgets/base",
          "model_name": "LayoutModel",
          "model_module_version": "1.2.0",
          "state": {
            "_model_module": "@jupyter-widgets/base",
            "_model_module_version": "1.2.0",
            "_model_name": "LayoutModel",
            "_view_count": null,
            "_view_module": "@jupyter-widgets/base",
            "_view_module_version": "1.2.0",
            "_view_name": "LayoutView",
            "align_content": null,
            "align_items": null,
            "align_self": null,
            "border": null,
            "bottom": null,
            "display": null,
            "flex": null,
            "flex_flow": null,
            "grid_area": null,
            "grid_auto_columns": null,
            "grid_auto_flow": null,
            "grid_auto_rows": null,
            "grid_column": null,
            "grid_gap": null,
            "grid_row": null,
            "grid_template_areas": null,
            "grid_template_columns": null,
            "grid_template_rows": null,
            "height": null,
            "justify_content": null,
            "justify_items": null,
            "left": null,
            "margin": null,
            "max_height": null,
            "max_width": null,
            "min_height": null,
            "min_width": null,
            "object_fit": null,
            "object_position": null,
            "order": null,
            "overflow": null,
            "overflow_x": null,
            "overflow_y": null,
            "padding": null,
            "right": null,
            "top": null,
            "visibility": null,
            "width": null
          }
        },
        "8effb44a977841e9ad19b89644b1a868": {
          "model_module": "@jupyter-widgets/controls",
          "model_name": "DescriptionStyleModel",
          "model_module_version": "1.5.0",
          "state": {
            "_model_module": "@jupyter-widgets/controls",
            "_model_module_version": "1.5.0",
            "_model_name": "DescriptionStyleModel",
            "_view_count": null,
            "_view_module": "@jupyter-widgets/base",
            "_view_module_version": "1.2.0",
            "_view_name": "StyleView",
            "description_width": ""
          }
        },
        "be44be858c8b46d3b5cc4abcadf9c7b9": {
          "model_module": "@jupyter-widgets/base",
          "model_name": "LayoutModel",
          "model_module_version": "1.2.0",
          "state": {
            "_model_module": "@jupyter-widgets/base",
            "_model_module_version": "1.2.0",
            "_model_name": "LayoutModel",
            "_view_count": null,
            "_view_module": "@jupyter-widgets/base",
            "_view_module_version": "1.2.0",
            "_view_name": "LayoutView",
            "align_content": null,
            "align_items": null,
            "align_self": null,
            "border": null,
            "bottom": null,
            "display": null,
            "flex": null,
            "flex_flow": null,
            "grid_area": null,
            "grid_auto_columns": null,
            "grid_auto_flow": null,
            "grid_auto_rows": null,
            "grid_column": null,
            "grid_gap": null,
            "grid_row": null,
            "grid_template_areas": null,
            "grid_template_columns": null,
            "grid_template_rows": null,
            "height": null,
            "justify_content": null,
            "justify_items": null,
            "left": null,
            "margin": null,
            "max_height": null,
            "max_width": null,
            "min_height": null,
            "min_width": null,
            "object_fit": null,
            "object_position": null,
            "order": null,
            "overflow": null,
            "overflow_x": null,
            "overflow_y": null,
            "padding": null,
            "right": null,
            "top": null,
            "visibility": null,
            "width": null
          }
        },
        "8798dbfc578541bc8f7bcafcabda4614": {
          "model_module": "@jupyter-widgets/controls",
          "model_name": "ProgressStyleModel",
          "model_module_version": "1.5.0",
          "state": {
            "_model_module": "@jupyter-widgets/controls",
            "_model_module_version": "1.5.0",
            "_model_name": "ProgressStyleModel",
            "_view_count": null,
            "_view_module": "@jupyter-widgets/base",
            "_view_module_version": "1.2.0",
            "_view_name": "StyleView",
            "bar_color": null,
            "description_width": ""
          }
        },
        "e1649c14360942958d495afcb9199e10": {
          "model_module": "@jupyter-widgets/base",
          "model_name": "LayoutModel",
          "model_module_version": "1.2.0",
          "state": {
            "_model_module": "@jupyter-widgets/base",
            "_model_module_version": "1.2.0",
            "_model_name": "LayoutModel",
            "_view_count": null,
            "_view_module": "@jupyter-widgets/base",
            "_view_module_version": "1.2.0",
            "_view_name": "LayoutView",
            "align_content": null,
            "align_items": null,
            "align_self": null,
            "border": null,
            "bottom": null,
            "display": null,
            "flex": null,
            "flex_flow": null,
            "grid_area": null,
            "grid_auto_columns": null,
            "grid_auto_flow": null,
            "grid_auto_rows": null,
            "grid_column": null,
            "grid_gap": null,
            "grid_row": null,
            "grid_template_areas": null,
            "grid_template_columns": null,
            "grid_template_rows": null,
            "height": null,
            "justify_content": null,
            "justify_items": null,
            "left": null,
            "margin": null,
            "max_height": null,
            "max_width": null,
            "min_height": null,
            "min_width": null,
            "object_fit": null,
            "object_position": null,
            "order": null,
            "overflow": null,
            "overflow_x": null,
            "overflow_y": null,
            "padding": null,
            "right": null,
            "top": null,
            "visibility": null,
            "width": null
          }
        },
        "ddc455dfb03a4640a2c9ca093be6994c": {
          "model_module": "@jupyter-widgets/controls",
          "model_name": "DescriptionStyleModel",
          "model_module_version": "1.5.0",
          "state": {
            "_model_module": "@jupyter-widgets/controls",
            "_model_module_version": "1.5.0",
            "_model_name": "DescriptionStyleModel",
            "_view_count": null,
            "_view_module": "@jupyter-widgets/base",
            "_view_module_version": "1.2.0",
            "_view_name": "StyleView",
            "description_width": ""
          }
        },
        "94f1ff86e60b43b685d3ed56224093bb": {
          "model_module": "@jupyter-widgets/controls",
          "model_name": "HBoxModel",
          "model_module_version": "1.5.0",
          "state": {
            "_dom_classes": [],
            "_model_module": "@jupyter-widgets/controls",
            "_model_module_version": "1.5.0",
            "_model_name": "HBoxModel",
            "_view_count": null,
            "_view_module": "@jupyter-widgets/controls",
            "_view_module_version": "1.5.0",
            "_view_name": "HBoxView",
            "box_style": "",
            "children": [
              "IPY_MODEL_9e1f34520294440589a8dd15717244d3",
              "IPY_MODEL_ba8b8f14d24a4a55998cdce714c2bb74",
              "IPY_MODEL_9e0f85bcaafc4cfa85f9df8f8723b7ae"
            ],
            "layout": "IPY_MODEL_dfc04b83e34b4daf9cd61fd6975252e0"
          }
        },
        "9e1f34520294440589a8dd15717244d3": {
          "model_module": "@jupyter-widgets/controls",
          "model_name": "HTMLModel",
          "model_module_version": "1.5.0",
          "state": {
            "_dom_classes": [],
            "_model_module": "@jupyter-widgets/controls",
            "_model_module_version": "1.5.0",
            "_model_name": "HTMLModel",
            "_view_count": null,
            "_view_module": "@jupyter-widgets/controls",
            "_view_module_version": "1.5.0",
            "_view_name": "HTMLView",
            "description": "",
            "description_tooltip": null,
            "layout": "IPY_MODEL_cd8f77c0ea3f4746a9773acf32596961",
            "placeholder": "​",
            "style": "IPY_MODEL_7c6b7de3f674460a8228cbc65af1e0b4",
            "value": "100%"
          }
        },
        "ba8b8f14d24a4a55998cdce714c2bb74": {
          "model_module": "@jupyter-widgets/controls",
          "model_name": "FloatProgressModel",
          "model_module_version": "1.5.0",
          "state": {
            "_dom_classes": [],
            "_model_module": "@jupyter-widgets/controls",
            "_model_module_version": "1.5.0",
            "_model_name": "FloatProgressModel",
            "_view_count": null,
            "_view_module": "@jupyter-widgets/controls",
            "_view_module_version": "1.5.0",
            "_view_name": "ProgressView",
            "bar_style": "success",
            "description": "",
            "description_tooltip": null,
            "layout": "IPY_MODEL_8f005dcfb67c4d66aba21b6afbcef480",
            "max": 1648877,
            "min": 0,
            "orientation": "horizontal",
            "style": "IPY_MODEL_1834446fc8074922ab0e0bc78bc08ddd",
            "value": 1648877
          }
        },
        "9e0f85bcaafc4cfa85f9df8f8723b7ae": {
          "model_module": "@jupyter-widgets/controls",
          "model_name": "HTMLModel",
          "model_module_version": "1.5.0",
          "state": {
            "_dom_classes": [],
            "_model_module": "@jupyter-widgets/controls",
            "_model_module_version": "1.5.0",
            "_model_name": "HTMLModel",
            "_view_count": null,
            "_view_module": "@jupyter-widgets/controls",
            "_view_module_version": "1.5.0",
            "_view_name": "HTMLView",
            "description": "",
            "description_tooltip": null,
            "layout": "IPY_MODEL_3369663caed14bc5865140560a581de3",
            "placeholder": "​",
            "style": "IPY_MODEL_2d5aed0304ea482dae21da04becd63f6",
            "value": " 1648877/1648877 [00:00&lt;00:00, 43893978.74it/s]"
          }
        },
        "dfc04b83e34b4daf9cd61fd6975252e0": {
          "model_module": "@jupyter-widgets/base",
          "model_name": "LayoutModel",
          "model_module_version": "1.2.0",
          "state": {
            "_model_module": "@jupyter-widgets/base",
            "_model_module_version": "1.2.0",
            "_model_name": "LayoutModel",
            "_view_count": null,
            "_view_module": "@jupyter-widgets/base",
            "_view_module_version": "1.2.0",
            "_view_name": "LayoutView",
            "align_content": null,
            "align_items": null,
            "align_self": null,
            "border": null,
            "bottom": null,
            "display": null,
            "flex": null,
            "flex_flow": null,
            "grid_area": null,
            "grid_auto_columns": null,
            "grid_auto_flow": null,
            "grid_auto_rows": null,
            "grid_column": null,
            "grid_gap": null,
            "grid_row": null,
            "grid_template_areas": null,
            "grid_template_columns": null,
            "grid_template_rows": null,
            "height": null,
            "justify_content": null,
            "justify_items": null,
            "left": null,
            "margin": null,
            "max_height": null,
            "max_width": null,
            "min_height": null,
            "min_width": null,
            "object_fit": null,
            "object_position": null,
            "order": null,
            "overflow": null,
            "overflow_x": null,
            "overflow_y": null,
            "padding": null,
            "right": null,
            "top": null,
            "visibility": null,
            "width": null
          }
        },
        "cd8f77c0ea3f4746a9773acf32596961": {
          "model_module": "@jupyter-widgets/base",
          "model_name": "LayoutModel",
          "model_module_version": "1.2.0",
          "state": {
            "_model_module": "@jupyter-widgets/base",
            "_model_module_version": "1.2.0",
            "_model_name": "LayoutModel",
            "_view_count": null,
            "_view_module": "@jupyter-widgets/base",
            "_view_module_version": "1.2.0",
            "_view_name": "LayoutView",
            "align_content": null,
            "align_items": null,
            "align_self": null,
            "border": null,
            "bottom": null,
            "display": null,
            "flex": null,
            "flex_flow": null,
            "grid_area": null,
            "grid_auto_columns": null,
            "grid_auto_flow": null,
            "grid_auto_rows": null,
            "grid_column": null,
            "grid_gap": null,
            "grid_row": null,
            "grid_template_areas": null,
            "grid_template_columns": null,
            "grid_template_rows": null,
            "height": null,
            "justify_content": null,
            "justify_items": null,
            "left": null,
            "margin": null,
            "max_height": null,
            "max_width": null,
            "min_height": null,
            "min_width": null,
            "object_fit": null,
            "object_position": null,
            "order": null,
            "overflow": null,
            "overflow_x": null,
            "overflow_y": null,
            "padding": null,
            "right": null,
            "top": null,
            "visibility": null,
            "width": null
          }
        },
        "7c6b7de3f674460a8228cbc65af1e0b4": {
          "model_module": "@jupyter-widgets/controls",
          "model_name": "DescriptionStyleModel",
          "model_module_version": "1.5.0",
          "state": {
            "_model_module": "@jupyter-widgets/controls",
            "_model_module_version": "1.5.0",
            "_model_name": "DescriptionStyleModel",
            "_view_count": null,
            "_view_module": "@jupyter-widgets/base",
            "_view_module_version": "1.2.0",
            "_view_name": "StyleView",
            "description_width": ""
          }
        },
        "8f005dcfb67c4d66aba21b6afbcef480": {
          "model_module": "@jupyter-widgets/base",
          "model_name": "LayoutModel",
          "model_module_version": "1.2.0",
          "state": {
            "_model_module": "@jupyter-widgets/base",
            "_model_module_version": "1.2.0",
            "_model_name": "LayoutModel",
            "_view_count": null,
            "_view_module": "@jupyter-widgets/base",
            "_view_module_version": "1.2.0",
            "_view_name": "LayoutView",
            "align_content": null,
            "align_items": null,
            "align_self": null,
            "border": null,
            "bottom": null,
            "display": null,
            "flex": null,
            "flex_flow": null,
            "grid_area": null,
            "grid_auto_columns": null,
            "grid_auto_flow": null,
            "grid_auto_rows": null,
            "grid_column": null,
            "grid_gap": null,
            "grid_row": null,
            "grid_template_areas": null,
            "grid_template_columns": null,
            "grid_template_rows": null,
            "height": null,
            "justify_content": null,
            "justify_items": null,
            "left": null,
            "margin": null,
            "max_height": null,
            "max_width": null,
            "min_height": null,
            "min_width": null,
            "object_fit": null,
            "object_position": null,
            "order": null,
            "overflow": null,
            "overflow_x": null,
            "overflow_y": null,
            "padding": null,
            "right": null,
            "top": null,
            "visibility": null,
            "width": null
          }
        },
        "1834446fc8074922ab0e0bc78bc08ddd": {
          "model_module": "@jupyter-widgets/controls",
          "model_name": "ProgressStyleModel",
          "model_module_version": "1.5.0",
          "state": {
            "_model_module": "@jupyter-widgets/controls",
            "_model_module_version": "1.5.0",
            "_model_name": "ProgressStyleModel",
            "_view_count": null,
            "_view_module": "@jupyter-widgets/base",
            "_view_module_version": "1.2.0",
            "_view_name": "StyleView",
            "bar_color": null,
            "description_width": ""
          }
        },
        "3369663caed14bc5865140560a581de3": {
          "model_module": "@jupyter-widgets/base",
          "model_name": "LayoutModel",
          "model_module_version": "1.2.0",
          "state": {
            "_model_module": "@jupyter-widgets/base",
            "_model_module_version": "1.2.0",
            "_model_name": "LayoutModel",
            "_view_count": null,
            "_view_module": "@jupyter-widgets/base",
            "_view_module_version": "1.2.0",
            "_view_name": "LayoutView",
            "align_content": null,
            "align_items": null,
            "align_self": null,
            "border": null,
            "bottom": null,
            "display": null,
            "flex": null,
            "flex_flow": null,
            "grid_area": null,
            "grid_auto_columns": null,
            "grid_auto_flow": null,
            "grid_auto_rows": null,
            "grid_column": null,
            "grid_gap": null,
            "grid_row": null,
            "grid_template_areas": null,
            "grid_template_columns": null,
            "grid_template_rows": null,
            "height": null,
            "justify_content": null,
            "justify_items": null,
            "left": null,
            "margin": null,
            "max_height": null,
            "max_width": null,
            "min_height": null,
            "min_width": null,
            "object_fit": null,
            "object_position": null,
            "order": null,
            "overflow": null,
            "overflow_x": null,
            "overflow_y": null,
            "padding": null,
            "right": null,
            "top": null,
            "visibility": null,
            "width": null
          }
        },
        "2d5aed0304ea482dae21da04becd63f6": {
          "model_module": "@jupyter-widgets/controls",
          "model_name": "DescriptionStyleModel",
          "model_module_version": "1.5.0",
          "state": {
            "_model_module": "@jupyter-widgets/controls",
            "_model_module_version": "1.5.0",
            "_model_name": "DescriptionStyleModel",
            "_view_count": null,
            "_view_module": "@jupyter-widgets/base",
            "_view_module_version": "1.2.0",
            "_view_name": "StyleView",
            "description_width": ""
          }
        },
        "5f1bf247d4e54d9a81f80bfb24eec248": {
          "model_module": "@jupyter-widgets/controls",
          "model_name": "HBoxModel",
          "model_module_version": "1.5.0",
          "state": {
            "_dom_classes": [],
            "_model_module": "@jupyter-widgets/controls",
            "_model_module_version": "1.5.0",
            "_model_name": "HBoxModel",
            "_view_count": null,
            "_view_module": "@jupyter-widgets/controls",
            "_view_module_version": "1.5.0",
            "_view_name": "HBoxView",
            "box_style": "",
            "children": [
              "IPY_MODEL_cb5f8c16790a4ccbaa702cd18eaeaa8d",
              "IPY_MODEL_aff98a90efd74abfb9a9681d0792db80",
              "IPY_MODEL_43bc881ef62f4486868711a1ccb75f39"
            ],
            "layout": "IPY_MODEL_d373175d4ca7466884d60e8fff205532"
          }
        },
        "cb5f8c16790a4ccbaa702cd18eaeaa8d": {
          "model_module": "@jupyter-widgets/controls",
          "model_name": "HTMLModel",
          "model_module_version": "1.5.0",
          "state": {
            "_dom_classes": [],
            "_model_module": "@jupyter-widgets/controls",
            "_model_module_version": "1.5.0",
            "_model_name": "HTMLModel",
            "_view_count": null,
            "_view_module": "@jupyter-widgets/controls",
            "_view_module_version": "1.5.0",
            "_view_name": "HTMLView",
            "description": "",
            "description_tooltip": null,
            "layout": "IPY_MODEL_8bb3397df6d949298ca3361b436fd2aa",
            "placeholder": "​",
            "style": "IPY_MODEL_946f0737264f4560941f2191266249d5",
            "value": "100%"
          }
        },
        "aff98a90efd74abfb9a9681d0792db80": {
          "model_module": "@jupyter-widgets/controls",
          "model_name": "FloatProgressModel",
          "model_module_version": "1.5.0",
          "state": {
            "_dom_classes": [],
            "_model_module": "@jupyter-widgets/controls",
            "_model_module_version": "1.5.0",
            "_model_name": "FloatProgressModel",
            "_view_count": null,
            "_view_module": "@jupyter-widgets/controls",
            "_view_module_version": "1.5.0",
            "_view_name": "ProgressView",
            "bar_style": "success",
            "description": "",
            "description_tooltip": null,
            "layout": "IPY_MODEL_231b380d9ddf40f6ab73dad98880ec6c",
            "max": 4542,
            "min": 0,
            "orientation": "horizontal",
            "style": "IPY_MODEL_a5a217cb49504829aad2636e93ff8178",
            "value": 4542
          }
        },
        "43bc881ef62f4486868711a1ccb75f39": {
          "model_module": "@jupyter-widgets/controls",
          "model_name": "HTMLModel",
          "model_module_version": "1.5.0",
          "state": {
            "_dom_classes": [],
            "_model_module": "@jupyter-widgets/controls",
            "_model_module_version": "1.5.0",
            "_model_name": "HTMLModel",
            "_view_count": null,
            "_view_module": "@jupyter-widgets/controls",
            "_view_module_version": "1.5.0",
            "_view_name": "HTMLView",
            "description": "",
            "description_tooltip": null,
            "layout": "IPY_MODEL_9f3acccf85c749509981f2e97d37cf2e",
            "placeholder": "​",
            "style": "IPY_MODEL_94bf2c78b92c415697f2afb18bd7ed45",
            "value": " 4542/4542 [00:00&lt;00:00, 142313.62it/s]"
          }
        },
        "d373175d4ca7466884d60e8fff205532": {
          "model_module": "@jupyter-widgets/base",
          "model_name": "LayoutModel",
          "model_module_version": "1.2.0",
          "state": {
            "_model_module": "@jupyter-widgets/base",
            "_model_module_version": "1.2.0",
            "_model_name": "LayoutModel",
            "_view_count": null,
            "_view_module": "@jupyter-widgets/base",
            "_view_module_version": "1.2.0",
            "_view_name": "LayoutView",
            "align_content": null,
            "align_items": null,
            "align_self": null,
            "border": null,
            "bottom": null,
            "display": null,
            "flex": null,
            "flex_flow": null,
            "grid_area": null,
            "grid_auto_columns": null,
            "grid_auto_flow": null,
            "grid_auto_rows": null,
            "grid_column": null,
            "grid_gap": null,
            "grid_row": null,
            "grid_template_areas": null,
            "grid_template_columns": null,
            "grid_template_rows": null,
            "height": null,
            "justify_content": null,
            "justify_items": null,
            "left": null,
            "margin": null,
            "max_height": null,
            "max_width": null,
            "min_height": null,
            "min_width": null,
            "object_fit": null,
            "object_position": null,
            "order": null,
            "overflow": null,
            "overflow_x": null,
            "overflow_y": null,
            "padding": null,
            "right": null,
            "top": null,
            "visibility": null,
            "width": null
          }
        },
        "8bb3397df6d949298ca3361b436fd2aa": {
          "model_module": "@jupyter-widgets/base",
          "model_name": "LayoutModel",
          "model_module_version": "1.2.0",
          "state": {
            "_model_module": "@jupyter-widgets/base",
            "_model_module_version": "1.2.0",
            "_model_name": "LayoutModel",
            "_view_count": null,
            "_view_module": "@jupyter-widgets/base",
            "_view_module_version": "1.2.0",
            "_view_name": "LayoutView",
            "align_content": null,
            "align_items": null,
            "align_self": null,
            "border": null,
            "bottom": null,
            "display": null,
            "flex": null,
            "flex_flow": null,
            "grid_area": null,
            "grid_auto_columns": null,
            "grid_auto_flow": null,
            "grid_auto_rows": null,
            "grid_column": null,
            "grid_gap": null,
            "grid_row": null,
            "grid_template_areas": null,
            "grid_template_columns": null,
            "grid_template_rows": null,
            "height": null,
            "justify_content": null,
            "justify_items": null,
            "left": null,
            "margin": null,
            "max_height": null,
            "max_width": null,
            "min_height": null,
            "min_width": null,
            "object_fit": null,
            "object_position": null,
            "order": null,
            "overflow": null,
            "overflow_x": null,
            "overflow_y": null,
            "padding": null,
            "right": null,
            "top": null,
            "visibility": null,
            "width": null
          }
        },
        "946f0737264f4560941f2191266249d5": {
          "model_module": "@jupyter-widgets/controls",
          "model_name": "DescriptionStyleModel",
          "model_module_version": "1.5.0",
          "state": {
            "_model_module": "@jupyter-widgets/controls",
            "_model_module_version": "1.5.0",
            "_model_name": "DescriptionStyleModel",
            "_view_count": null,
            "_view_module": "@jupyter-widgets/base",
            "_view_module_version": "1.2.0",
            "_view_name": "StyleView",
            "description_width": ""
          }
        },
        "231b380d9ddf40f6ab73dad98880ec6c": {
          "model_module": "@jupyter-widgets/base",
          "model_name": "LayoutModel",
          "model_module_version": "1.2.0",
          "state": {
            "_model_module": "@jupyter-widgets/base",
            "_model_module_version": "1.2.0",
            "_model_name": "LayoutModel",
            "_view_count": null,
            "_view_module": "@jupyter-widgets/base",
            "_view_module_version": "1.2.0",
            "_view_name": "LayoutView",
            "align_content": null,
            "align_items": null,
            "align_self": null,
            "border": null,
            "bottom": null,
            "display": null,
            "flex": null,
            "flex_flow": null,
            "grid_area": null,
            "grid_auto_columns": null,
            "grid_auto_flow": null,
            "grid_auto_rows": null,
            "grid_column": null,
            "grid_gap": null,
            "grid_row": null,
            "grid_template_areas": null,
            "grid_template_columns": null,
            "grid_template_rows": null,
            "height": null,
            "justify_content": null,
            "justify_items": null,
            "left": null,
            "margin": null,
            "max_height": null,
            "max_width": null,
            "min_height": null,
            "min_width": null,
            "object_fit": null,
            "object_position": null,
            "order": null,
            "overflow": null,
            "overflow_x": null,
            "overflow_y": null,
            "padding": null,
            "right": null,
            "top": null,
            "visibility": null,
            "width": null
          }
        },
        "a5a217cb49504829aad2636e93ff8178": {
          "model_module": "@jupyter-widgets/controls",
          "model_name": "ProgressStyleModel",
          "model_module_version": "1.5.0",
          "state": {
            "_model_module": "@jupyter-widgets/controls",
            "_model_module_version": "1.5.0",
            "_model_name": "ProgressStyleModel",
            "_view_count": null,
            "_view_module": "@jupyter-widgets/base",
            "_view_module_version": "1.2.0",
            "_view_name": "StyleView",
            "bar_color": null,
            "description_width": ""
          }
        },
        "9f3acccf85c749509981f2e97d37cf2e": {
          "model_module": "@jupyter-widgets/base",
          "model_name": "LayoutModel",
          "model_module_version": "1.2.0",
          "state": {
            "_model_module": "@jupyter-widgets/base",
            "_model_module_version": "1.2.0",
            "_model_name": "LayoutModel",
            "_view_count": null,
            "_view_module": "@jupyter-widgets/base",
            "_view_module_version": "1.2.0",
            "_view_name": "LayoutView",
            "align_content": null,
            "align_items": null,
            "align_self": null,
            "border": null,
            "bottom": null,
            "display": null,
            "flex": null,
            "flex_flow": null,
            "grid_area": null,
            "grid_auto_columns": null,
            "grid_auto_flow": null,
            "grid_auto_rows": null,
            "grid_column": null,
            "grid_gap": null,
            "grid_row": null,
            "grid_template_areas": null,
            "grid_template_columns": null,
            "grid_template_rows": null,
            "height": null,
            "justify_content": null,
            "justify_items": null,
            "left": null,
            "margin": null,
            "max_height": null,
            "max_width": null,
            "min_height": null,
            "min_width": null,
            "object_fit": null,
            "object_position": null,
            "order": null,
            "overflow": null,
            "overflow_x": null,
            "overflow_y": null,
            "padding": null,
            "right": null,
            "top": null,
            "visibility": null,
            "width": null
          }
        },
        "94bf2c78b92c415697f2afb18bd7ed45": {
          "model_module": "@jupyter-widgets/controls",
          "model_name": "DescriptionStyleModel",
          "model_module_version": "1.5.0",
          "state": {
            "_model_module": "@jupyter-widgets/controls",
            "_model_module_version": "1.5.0",
            "_model_name": "DescriptionStyleModel",
            "_view_count": null,
            "_view_module": "@jupyter-widgets/base",
            "_view_module_version": "1.2.0",
            "_view_name": "StyleView",
            "description_width": ""
          }
        }
      }
    }
  },
  "cells": [
    {
      "cell_type": "code",
      "execution_count": null,
      "metadata": {
        "colab": {
          "base_uri": "https://localhost:8080/"
        },
        "id": "IwyGm4n5oFtG",
        "outputId": "d4a5970f-a5bc-4f52-e43e-96e84b7d9d51"
      },
      "outputs": [
        {
          "output_type": "stream",
          "name": "stdout",
          "text": [
            "Mounted at /content/drive\n"
          ]
        }
      ],
      "source": [
        "from google.colab import drive\n",
        "drive.mount('/content/drive')"
      ]
    },
    {
      "cell_type": "code",
      "source": [
        "import torch\n",
        "from torch.distributions import normal\n",
        "import torchvision\n",
        "import numpy as np\n",
        "import matplotlib.pyplot as plt\n",
        "import torch.nn as nn\n",
        "import torch.optim as optim\n",
        "import torch.nn.functional as F\n",
        "from torchvision.utils import make_grid\n",
        "import torchvision.transforms as transforms\n",
        "from tqdm import tqdm\n",
        "from torchvision.utils import save_image\n",
        "\n",
        "from torchvision import datasets"
      ],
      "metadata": {
        "id": "-fzY4Xtfri9a"
      },
      "execution_count": null,
      "outputs": []
    },
    {
      "cell_type": "code",
      "source": [
        "torchvision.datasets.MNIST('/drive/MyDrive/Experiments',download = True)"
      ],
      "metadata": {
        "colab": {
          "base_uri": "https://localhost:8080/",
          "height": 502,
          "referenced_widgets": [
            "9cb8fc73703d49d0b51cf6f8ba22a01a",
            "df3046467e97482ca059b2a3986c7280",
            "d9414cfc799040ddb061b4c14d73d5c1",
            "e92ec318939046afa2a1de047d4bf5c4",
            "2b8236340cd448c79242e0a73cedbb30",
            "59d1cc692dac490192d7c81e8ddbc49b",
            "d9585a4814ad40d5b90c809fdc99687f",
            "1ac6f032c8a34b10ac32315de5db917c",
            "60f42c4b09824994bc8a7f90b0961c45",
            "da8763b324e148e08dde2b33014ef222",
            "571c6bef741244e19cb4b5a0e2d4e2a6",
            "c4cebe6e33d242efb68933d046fe0c7f",
            "6f66550b10bf47eba7c313ab73335e7d",
            "7b0104244e8c40f388122867ead2ae9a",
            "8d3b66c02e7246e1ab746da5fa8d9913",
            "71189b4ff9bb4aa48684b49e6e6cd5d4",
            "cc3309319d0b47a484705cd73b19c07f",
            "8effb44a977841e9ad19b89644b1a868",
            "be44be858c8b46d3b5cc4abcadf9c7b9",
            "8798dbfc578541bc8f7bcafcabda4614",
            "e1649c14360942958d495afcb9199e10",
            "ddc455dfb03a4640a2c9ca093be6994c",
            "94f1ff86e60b43b685d3ed56224093bb",
            "9e1f34520294440589a8dd15717244d3",
            "ba8b8f14d24a4a55998cdce714c2bb74",
            "9e0f85bcaafc4cfa85f9df8f8723b7ae",
            "dfc04b83e34b4daf9cd61fd6975252e0",
            "cd8f77c0ea3f4746a9773acf32596961",
            "7c6b7de3f674460a8228cbc65af1e0b4",
            "8f005dcfb67c4d66aba21b6afbcef480",
            "1834446fc8074922ab0e0bc78bc08ddd",
            "3369663caed14bc5865140560a581de3",
            "2d5aed0304ea482dae21da04becd63f6",
            "5f1bf247d4e54d9a81f80bfb24eec248",
            "cb5f8c16790a4ccbaa702cd18eaeaa8d",
            "aff98a90efd74abfb9a9681d0792db80",
            "43bc881ef62f4486868711a1ccb75f39",
            "d373175d4ca7466884d60e8fff205532",
            "8bb3397df6d949298ca3361b436fd2aa",
            "946f0737264f4560941f2191266249d5",
            "231b380d9ddf40f6ab73dad98880ec6c",
            "a5a217cb49504829aad2636e93ff8178",
            "9f3acccf85c749509981f2e97d37cf2e",
            "94bf2c78b92c415697f2afb18bd7ed45"
          ]
        },
        "id": "MN3_cjhMrktQ",
        "outputId": "321b98aa-6bf3-426d-b912-8df4da626359"
      },
      "execution_count": null,
      "outputs": [
        {
          "output_type": "stream",
          "name": "stdout",
          "text": [
            "Downloading http://yann.lecun.com/exdb/mnist/train-images-idx3-ubyte.gz\n",
            "Downloading http://yann.lecun.com/exdb/mnist/train-images-idx3-ubyte.gz to /drive/MyDrive/Experiments/MNIST/raw/train-images-idx3-ubyte.gz\n"
          ]
        },
        {
          "output_type": "display_data",
          "data": {
            "text/plain": [
              "  0%|          | 0/9912422 [00:00<?, ?it/s]"
            ],
            "application/vnd.jupyter.widget-view+json": {
              "version_major": 2,
              "version_minor": 0,
              "model_id": "9cb8fc73703d49d0b51cf6f8ba22a01a"
            }
          },
          "metadata": {}
        },
        {
          "output_type": "stream",
          "name": "stdout",
          "text": [
            "Extracting /drive/MyDrive/Experiments/MNIST/raw/train-images-idx3-ubyte.gz to /drive/MyDrive/Experiments/MNIST/raw\n",
            "\n",
            "Downloading http://yann.lecun.com/exdb/mnist/train-labels-idx1-ubyte.gz\n",
            "Downloading http://yann.lecun.com/exdb/mnist/train-labels-idx1-ubyte.gz to /drive/MyDrive/Experiments/MNIST/raw/train-labels-idx1-ubyte.gz\n"
          ]
        },
        {
          "output_type": "display_data",
          "data": {
            "text/plain": [
              "  0%|          | 0/28881 [00:00<?, ?it/s]"
            ],
            "application/vnd.jupyter.widget-view+json": {
              "version_major": 2,
              "version_minor": 0,
              "model_id": "c4cebe6e33d242efb68933d046fe0c7f"
            }
          },
          "metadata": {}
        },
        {
          "output_type": "stream",
          "name": "stdout",
          "text": [
            "Extracting /drive/MyDrive/Experiments/MNIST/raw/train-labels-idx1-ubyte.gz to /drive/MyDrive/Experiments/MNIST/raw\n",
            "\n",
            "Downloading http://yann.lecun.com/exdb/mnist/t10k-images-idx3-ubyte.gz\n",
            "Downloading http://yann.lecun.com/exdb/mnist/t10k-images-idx3-ubyte.gz to /drive/MyDrive/Experiments/MNIST/raw/t10k-images-idx3-ubyte.gz\n"
          ]
        },
        {
          "output_type": "display_data",
          "data": {
            "text/plain": [
              "  0%|          | 0/1648877 [00:00<?, ?it/s]"
            ],
            "application/vnd.jupyter.widget-view+json": {
              "version_major": 2,
              "version_minor": 0,
              "model_id": "94f1ff86e60b43b685d3ed56224093bb"
            }
          },
          "metadata": {}
        },
        {
          "output_type": "stream",
          "name": "stdout",
          "text": [
            "Extracting /drive/MyDrive/Experiments/MNIST/raw/t10k-images-idx3-ubyte.gz to /drive/MyDrive/Experiments/MNIST/raw\n",
            "\n",
            "Downloading http://yann.lecun.com/exdb/mnist/t10k-labels-idx1-ubyte.gz\n",
            "Downloading http://yann.lecun.com/exdb/mnist/t10k-labels-idx1-ubyte.gz to /drive/MyDrive/Experiments/MNIST/raw/t10k-labels-idx1-ubyte.gz\n"
          ]
        },
        {
          "output_type": "display_data",
          "data": {
            "text/plain": [
              "  0%|          | 0/4542 [00:00<?, ?it/s]"
            ],
            "application/vnd.jupyter.widget-view+json": {
              "version_major": 2,
              "version_minor": 0,
              "model_id": "5f1bf247d4e54d9a81f80bfb24eec248"
            }
          },
          "metadata": {}
        },
        {
          "output_type": "stream",
          "name": "stdout",
          "text": [
            "Extracting /drive/MyDrive/Experiments/MNIST/raw/t10k-labels-idx1-ubyte.gz to /drive/MyDrive/Experiments/MNIST/raw\n",
            "\n"
          ]
        },
        {
          "output_type": "execute_result",
          "data": {
            "text/plain": [
              "Dataset MNIST\n",
              "    Number of datapoints: 60000\n",
              "    Root location: /drive/MyDrive/Experiments\n",
              "    Split: Train"
            ]
          },
          "metadata": {},
          "execution_count": 5
        }
      ]
    },
    {
      "cell_type": "code",
      "source": [
        "Transform = transforms.ToTensor()\n",
        "train = datasets.MNIST(root='/drive/MyDrive/Experiments', train = True, download = False, transform = Transform)\n",
        "train"
      ],
      "metadata": {
        "colab": {
          "base_uri": "https://localhost:8080/"
        },
        "id": "d82FoQrWrqT0",
        "outputId": "fad94cff-60cd-4783-b189-31fdd586bd2a"
      },
      "execution_count": null,
      "outputs": [
        {
          "output_type": "execute_result",
          "data": {
            "text/plain": [
              "Dataset MNIST\n",
              "    Number of datapoints: 60000\n",
              "    Root location: /drive/MyDrive/Experiments\n",
              "    Split: Train\n",
              "    StandardTransform\n",
              "Transform: ToTensor()"
            ]
          },
          "metadata": {},
          "execution_count": 6
        }
      ]
    },
    {
      "cell_type": "code",
      "source": [
        "test = datasets.MNIST(root='/drive/MyDrive/Experiments', train = False, download = False, transform = Transform)\n",
        "test"
      ],
      "metadata": {
        "colab": {
          "base_uri": "https://localhost:8080/"
        },
        "id": "kPZ1h-AMsB-x",
        "outputId": "f5f821c8-3368-4f2d-953c-1f6081a6494b"
      },
      "execution_count": null,
      "outputs": [
        {
          "output_type": "execute_result",
          "data": {
            "text/plain": [
              "Dataset MNIST\n",
              "    Number of datapoints: 10000\n",
              "    Root location: /drive/MyDrive/Experiments\n",
              "    Split: Test\n",
              "    StandardTransform\n",
              "Transform: ToTensor()"
            ]
          },
          "metadata": {},
          "execution_count": 7
        }
      ]
    },
    {
      "cell_type": "code",
      "source": [
        "from torch.utils.data import Dataset\n",
        "class MNISTDataset(Dataset):\n",
        "    \"\"\"\n",
        "    MAP-style. __getitem__ and __len__ methods need to be implemented.\n",
        "    \"\"\"\n",
        "    def __init__(self, path, train): # train is a boolean\n",
        "        Transform = transforms.ToTensor()\n",
        "        data = datasets.MNIST(root=path, train = train, download = False, transform = Transform)\n",
        "        self.images = [None] * len(data) #Holds the image pixel array\n",
        "        self.labels = [None] * len(data) #Holds the number label\n",
        "        for i in range(len(data)):\n",
        "            self.images[i] = data[i][0]\n",
        "            self.labels[i] = data[i][1]\n",
        "\n",
        "    def __getitem__(self, index):\n",
        "        x = self.images[index].float()\n",
        "        x = torch.Tensor(x)\n",
        "        x = torch.flatten(x) # flatten the image from a 28 x 28 to a 784 1-dimensional tensor\n",
        "        return x\n",
        "\n",
        "    # returns the length of the dataset\n",
        "    def __len__(self):\n",
        "        return len(self.labels)"
      ],
      "metadata": {
        "id": "Kjav_4wdsIqB"
      },
      "execution_count": null,
      "outputs": []
    },
    {
      "cell_type": "code",
      "source": [
        "class AutoEncoder(nn.Module):\n",
        "    def __init__(self, input_shape, latent_dim = 128):\n",
        "        super().__init__()\n",
        "\n",
        "        # 2 layers for the encoder\n",
        "        self.encoder_l1 = nn.Linear(in_features=input_shape, out_features=latent_dim)\n",
        "        self.encoder_l2 = nn.Linear(in_features=latent_dim, out_features=latent_dim)\n",
        "\n",
        "        # decoder\n",
        "        self.decoder_l1 = nn.Linear(in_features=latent_dim, out_features=latent_dim)\n",
        "        self.decoder_l2 = nn.Linear(in_features=latent_dim, out_features=input_shape)\n",
        "    \n",
        "    def forward(self, x):\n",
        "        '''\n",
        "        x is the input data\n",
        "        returns the reconstruction\n",
        "        '''\n",
        "        latent = self.run_encoder(x)\n",
        "        x_hat = self.run_decoder(latent)\n",
        "        return x_hat\n",
        "\n",
        "    def run_encoder(self, x):\n",
        "        output = F.relu(self.encoder_l1(x)) # relu adds non linearity\n",
        "        latent = F.relu(self.encoder_l2(output)) # results in the latent vector\n",
        "        return latent\n",
        "\n",
        "    def run_decoder(self, latent):\n",
        "        output = F.relu(self.decoder_l1(latent))\n",
        "        x_hat = F.relu(self.decoder_l2(output))\n",
        "        return x_hat"
      ],
      "metadata": {
        "id": "PWHa_VV7tA0r"
      },
      "execution_count": null,
      "outputs": []
    },
    {
      "cell_type": "code",
      "source": [
        "class VariationalAutoEncoder(nn.Module):\n",
        "    def __init__(self, input_shape, latent_dim=2):\n",
        "        super().__init__()\n",
        "        self.latent_dim=latent_dim\n",
        "\n",
        "        # Encoder\n",
        "        self.encoder = nn.Sequential(\n",
        "            nn.Linear(in_features=input_shape, out_features=(int(input_shape/2))),\n",
        "            nn.ReLU(),\n",
        "            nn.Linear(in_features=(int(input_shape/2)), out_features=(int(input_shape/4))),\n",
        "            nn.ReLU(),\n",
        "            nn.Linear(in_features=(int(input_shape/4)), out_features=(int(input_shape/4))),\n",
        "            nn.ReLU(),\n",
        "            nn.Linear((int(input_shape/4)), (int(input_shape/8))),\n",
        "        )\n",
        "\n",
        "        \n",
        "        self.fc_mu = nn.Linear((int(input_shape/8)), latent_dim) # Learn mu, means of normal distribution\n",
        "        self.fc_log_var = nn.Linear((int(input_shape/8)), latent_dim) # Learn log variance, variances of normal distribution\n",
        "        \n",
        "\n",
        "        # decoder\n",
        "        self.decoder = nn.Sequential(\n",
        "              nn.Linear(in_features=latent_dim, out_features=(int(input_shape/4))),\n",
        "              nn.ReLU(),\n",
        "              nn.Linear(in_features=(int(input_shape/4)), out_features=(int(input_shape/4))),\n",
        "              nn.ReLU(),\n",
        "              nn.Linear(in_features=(int(input_shape/4)), out_features=(int(input_shape/2))),\n",
        "              nn.ReLU(),\n",
        "              nn.Linear(in_features=(int(input_shape/2)), out_features=input_shape)\n",
        "        )\n",
        "\n",
        "    # This should be fine\n",
        "    def forward(self, x):\n",
        "        '''\n",
        "        x is the input data\n",
        "        returns the reconstruction\n",
        "        '''\n",
        "        x = self.encoder(x) # Encodes the input\n",
        "        mu, log_var = self.fc_mu(x), self.fc_log_var(x) # Get the mean and log_variance\n",
        "        sample = self.reparameterize(mu, log_var) # Get a sample from the distribution\n",
        "        reconstruction = self.decoder(sample)  # Decode the distribution sample\n",
        "        return sample, mu, log_var, reconstruction\n",
        "\n",
        "    def run_encoder(self, x):\n",
        "        x = self.encoder(x) # Encodes the input into \n",
        "        mu, log_var = self.fc_mu(x), self.fc_log_var(x)\n",
        "        sample = self.reparameterize(mu, log_var)\n",
        "        return sample\n",
        "\n",
        "    def reparameterize(self, mu, log_var):\n",
        "        # x =mu+std*N(0,1) instead of x-N(mu, std) because of reparameterization trick\n",
        "        std = torch.exp(0.5*log_var) # standard deviation\n",
        "        eps = torch.randn_like(std) # Need eps to be the same size\n",
        "        sample = mu + (eps * std) # sampling\n",
        "        return sample\n",
        "\n",
        "    def generate(self, num_samples):\n",
        "        rand_features = torch.randn(num_samples, self.latent_dim).cuda()\n",
        "        generated = self.decoder(rand_features)\n",
        "        return generated"
      ],
      "metadata": {
        "id": "I6543mGUL386"
      },
      "execution_count": null,
      "outputs": []
    },
    {
      "cell_type": "code",
      "source": [
        "train_dataset = MNISTDataset('/drive/MyDrive/Experiments', True)\n",
        "test_dataset = MNISTDataset('/drive/MyDrive/Experiments', False)\n",
        "\n",
        "image_shape = train_dataset[0].shape[0] # Gets the shape of an image from the dataset. '.shape' has a [0] to get the integer from the tensor object\n",
        "print(type(image_shape))\n",
        "\n",
        "model = VariationalAutoEncoder(input_shape = image_shape)\n",
        "model.cuda()"
      ],
      "metadata": {
        "colab": {
          "base_uri": "https://localhost:8080/"
        },
        "id": "hwf2ORsitIi1",
        "outputId": "49ca4364-d924-4e44-c28e-bebff4bea1e9"
      },
      "execution_count": null,
      "outputs": [
        {
          "output_type": "stream",
          "name": "stdout",
          "text": [
            "<class 'int'>\n"
          ]
        },
        {
          "output_type": "execute_result",
          "data": {
            "text/plain": [
              "VariationalAutoEncoder(\n",
              "  (encoder): Sequential(\n",
              "    (0): Linear(in_features=784, out_features=392, bias=True)\n",
              "    (1): ReLU()\n",
              "    (2): Linear(in_features=392, out_features=196, bias=True)\n",
              "    (3): ReLU()\n",
              "    (4): Linear(in_features=196, out_features=196, bias=True)\n",
              "    (5): ReLU()\n",
              "    (6): Linear(in_features=196, out_features=98, bias=True)\n",
              "  )\n",
              "  (fc_mu): Linear(in_features=98, out_features=2, bias=True)\n",
              "  (fc_log_var): Linear(in_features=98, out_features=2, bias=True)\n",
              "  (decoder): Sequential(\n",
              "    (0): Linear(in_features=2, out_features=196, bias=True)\n",
              "    (1): ReLU()\n",
              "    (2): Linear(in_features=196, out_features=196, bias=True)\n",
              "    (3): ReLU()\n",
              "    (4): Linear(in_features=196, out_features=392, bias=True)\n",
              "    (5): ReLU()\n",
              "    (6): Linear(in_features=392, out_features=784, bias=True)\n",
              "  )\n",
              ")"
            ]
          },
          "metadata": {},
          "execution_count": 11
        }
      ]
    },
    {
      "cell_type": "code",
      "source": [
        "model.train() # Set to train() mode. There's also an eval() mode."
      ],
      "metadata": {
        "id": "ADtq1DK-tThY",
        "colab": {
          "base_uri": "https://localhost:8080/"
        },
        "outputId": "eb5dd5b9-ee6c-40fd-b8d5-6990c8f74ad1"
      },
      "execution_count": null,
      "outputs": [
        {
          "output_type": "execute_result",
          "data": {
            "text/plain": [
              "VariationalAutoEncoder(\n",
              "  (encoder): Sequential(\n",
              "    (0): Linear(in_features=784, out_features=392, bias=True)\n",
              "    (1): ReLU()\n",
              "    (2): Linear(in_features=392, out_features=196, bias=True)\n",
              "    (3): ReLU()\n",
              "    (4): Linear(in_features=196, out_features=196, bias=True)\n",
              "    (5): ReLU()\n",
              "    (6): Linear(in_features=196, out_features=98, bias=True)\n",
              "  )\n",
              "  (fc_mu): Linear(in_features=98, out_features=2, bias=True)\n",
              "  (fc_log_var): Linear(in_features=98, out_features=2, bias=True)\n",
              "  (decoder): Sequential(\n",
              "    (0): Linear(in_features=2, out_features=196, bias=True)\n",
              "    (1): ReLU()\n",
              "    (2): Linear(in_features=196, out_features=196, bias=True)\n",
              "    (3): ReLU()\n",
              "    (4): Linear(in_features=196, out_features=392, bias=True)\n",
              "    (5): ReLU()\n",
              "    (6): Linear(in_features=392, out_features=784, bias=True)\n",
              "  )\n",
              ")"
            ]
          },
          "metadata": {},
          "execution_count": 12
        }
      ]
    },
    {
      "cell_type": "code",
      "source": [
        "import torch.optim as optim\n",
        "\n",
        "train_loader = torch.utils.data.DataLoader(train_dataset,\n",
        "                                            batch_size=128, #number of training samples to load in at a time\n",
        "                                            shuffle=True) # Shuffle the data beforehand\n",
        "mse = nn.MSELoss()\n",
        "optimizer = optim.Adam(model.parameters(), lr=1e-3)\n",
        "n_epochs = 100\n",
        "\n",
        "for epoch in range(n_epochs):\n",
        "    loss = 0\n",
        "    #Batch_features is each training batch. Here it's of the shape (128, 784).\n",
        "    for batch_features in train_loader:\n",
        "        batch_features = batch_features.cuda()\n",
        "\n",
        "        optimizer.zero_grad()\n",
        "\n",
        "        # compute reconstructions\n",
        "        outputs = model(batch_features) # Runs the forward function and gets outputs\n",
        "\n",
        "        # compute the reconstruction loss of the training data\n",
        "        train_loss = mse(outputs[3], batch_features)\n",
        "\n",
        "        #compute accumulated gradients\n",
        "        train_loss.backward() # Calculates the gradients\n",
        "\n",
        "        # performs -parameter update- based on current gradients\n",
        "        optimizer.step()\n",
        "\n",
        "        # add the mini-batch training loss to epoch loss\n",
        "        loss += train_loss.item()\n",
        "\n",
        "    #compute the epoch training loss\n",
        "    loss = loss / len(train_loader)\n",
        "\n",
        "    if epoch%5 ==0:\n",
        "      print(\"epoch : {}/{}, loss = {:.6f}\".format(epoch + 1, n_epochs, loss))\n",
        "print(\"epoch : {}/{}, loss = {:.6f}\".format(epoch + 1, n_epochs, loss))"
      ],
      "metadata": {
        "id": "10P4Ck6VtdGx",
        "colab": {
          "base_uri": "https://localhost:8080/"
        },
        "outputId": "f44d7f17-ba4e-4ad8-bd25-e39466058883"
      },
      "execution_count": null,
      "outputs": [
        {
          "output_type": "stream",
          "name": "stdout",
          "text": [
            "epoch : 1/100, loss = 0.055463\n",
            "epoch : 6/100, loss = 0.039548\n",
            "epoch : 11/100, loss = 0.037055\n",
            "epoch : 16/100, loss = 0.036720\n",
            "epoch : 21/100, loss = 0.036000\n",
            "epoch : 26/100, loss = 0.035381\n",
            "epoch : 31/100, loss = 0.034946\n",
            "epoch : 36/100, loss = 0.035174\n",
            "epoch : 41/100, loss = 0.034763\n",
            "epoch : 46/100, loss = 0.034422\n",
            "epoch : 51/100, loss = 0.034659\n",
            "epoch : 56/100, loss = 0.034614\n",
            "epoch : 61/100, loss = 0.034715\n",
            "epoch : 66/100, loss = 0.034557\n",
            "epoch : 71/100, loss = 0.034136\n",
            "epoch : 76/100, loss = 0.034396\n",
            "epoch : 81/100, loss = 0.034293\n",
            "epoch : 86/100, loss = 0.034264\n",
            "epoch : 91/100, loss = 0.033745\n",
            "epoch : 96/100, loss = 0.033594\n",
            "epoch : 100/100, loss = 0.033414\n"
          ]
        }
      ]
    },
    {
      "cell_type": "markdown",
      "source": [
        "Below, change the image_idx to a random image from the MNIST dataset. The top image is the VAE's reconstruction, below is the actual."
      ],
      "metadata": {
        "id": "pplkLsFDqE06"
      }
    },
    {
      "cell_type": "code",
      "source": [
        "# Put the model in eval mode. VAEs are pretty well known for their images being blurry\n",
        "model.eval()\n",
        "\n",
        "image_idx = 19\n",
        "\n",
        "image = train_dataset[image_idx].cuda() # Get an image from the training dataset at index 100\n",
        "x_hat = model(image) # Use the image in the model\n",
        "x_hat = x_hat[3].detach().cpu().numpy().reshape((28,28)) # Take the model's output (The reconstruction is at index 3) and reshape it back into an image\n",
        "plt.imshow(x_hat, cmap = 'gray') # Display the model's output"
      ],
      "metadata": {
        "id": "0rq2AZ8Nu-ms",
        "colab": {
          "base_uri": "https://localhost:8080/",
          "height": 283
        },
        "outputId": "82a18061-ffa6-4849-9640-15d277802da1"
      },
      "execution_count": null,
      "outputs": [
        {
          "output_type": "execute_result",
          "data": {
            "text/plain": [
              "<matplotlib.image.AxesImage at 0x7feb42adafd0>"
            ]
          },
          "metadata": {},
          "execution_count": 14
        },
        {
          "output_type": "display_data",
          "data": {
            "text/plain": [
              "<Figure size 432x288 with 1 Axes>"
            ],
            "image/png": "[encoded data removed]"
          },
          "metadata": {
            "needs_background": "light"
          }
        }
      ]
    },
    {
      "cell_type": "code",
      "source": [
        "plt.imshow(image.cpu().reshape((28,28)), cmap = 'gray') # Display the model's input"
      ],
      "metadata": {
        "id": "6ywdemmpu_R-",
        "colab": {
          "base_uri": "https://localhost:8080/",
          "height": 283
        },
        "outputId": "6001dedc-bdb6-4c35-c05a-bb50dd569e64"
      },
      "execution_count": null,
      "outputs": [
        {
          "output_type": "execute_result",
          "data": {
            "text/plain": [
              "<matplotlib.image.AxesImage at 0x7feb42b3af10>"
            ]
          },
          "metadata": {},
          "execution_count": 15
        },
        {
          "output_type": "display_data",
          "data": {
            "text/plain": [
              "<Figure size 432x288 with 1 Axes>"
            ],
            "image/png": "[encoded data removed]"
          },
          "metadata": {
            "needs_background": "light"
          }
        }
      ]
    },
    {
      "cell_type": "code",
      "source": [
        "# This runs the model's generate function, which takes a random sample from the distribution and attempts to turn it into an image\n",
        "\n",
        "random = model.generate(1)\n",
        "plt.imshow(random[0].detach().cpu().numpy().reshape((28,28)), cmap = 'gray') # Display the model's output"
      ],
      "metadata": {
        "id": "zwRz_SqPqAZg",
        "colab": {
          "base_uri": "https://localhost:8080/",
          "height": 283
        },
        "outputId": "ab644a18-7eaf-4acf-ee60-de70d2119463"
      },
      "execution_count": null,
      "outputs": [
        {
          "output_type": "execute_result",
          "data": {
            "text/plain": [
              "<matplotlib.image.AxesImage at 0x7feb40e7db10>"
            ]
          },
          "metadata": {},
          "execution_count": 22
        },
        {
          "output_type": "display_data",
          "data": {
            "text/plain": [
              "<Figure size 432x288 with 1 Axes>"
            ],
            "image/png": "[encoded data removed]"
          },
          "metadata": {
            "needs_background": "light"
          }
        }
      ]
    },
    {
      "cell_type": "markdown",
      "source": [
        "MIDI DATASET TRAINING"
      ],
      "metadata": {
        "id": "kC_9Yd5MboSA"
      }
    },
    {
      "cell_type": "code",
      "source": [
        "pip install pretty_midi"
      ],
      "metadata": {
        "id": "Ce1bEfoJH2U8"
      },
      "execution_count": null,
      "outputs": []
    },
    {
      "cell_type": "code",
      "source": [
        "import torch\n",
        "import pretty_midi\n",
        "import matplotlib.pyplot as plt\n",
        "import pandas as pd\n",
        "import os\n",
        "import numpy as np\n",
        "\n",
        "\n",
        "def notes(pm):\n",
        "    instrument = pm.instruments[0]\n",
        "    notes = instrument.notes\n",
        "    return notes\n",
        "\n",
        "def notesToSample(noteslist, numNotes):\n",
        "    #sample = pd.DataFrame({'start', 'end', 'pitch', 'velocity'})\n",
        "    sample = np.zeros(shape=(4, numNotes))\n",
        "    for i in range(numNotes):\n",
        "        try:\n",
        "            note = noteslist[i]\n",
        "            sample[0][i]=(note.start)\n",
        "            sample[1][i]=(note.end)\n",
        "            sample[2][i]=(note.pitch)\n",
        "            sample[3][i]=(note.velocity)\n",
        "        except IndexError: # If the song doesn't have the correct amount of notes...just return an empty array of the correct size. \n",
        "            return np.zeros(shape=(4, numNotes))\n",
        "    return sample\n",
        "\n",
        "def sampleToMIDI(sample, filename):\n",
        "    '''\n",
        "    sample - note attributes in a tensor\n",
        "    returns - prettyMIDI object\n",
        "    '''\n",
        "    instrument = pretty_midi.Instrument(0, is_drum=False) # Piano instrument\n",
        "    pm = pretty_midi.PrettyMIDI()\n",
        "    for i in range(sample.shape[1]):    \n",
        "        start = float(sample[0][i])\n",
        "        end = float(sample[1][i])\n",
        "        pitch = int(sample[2][i])\n",
        "        velocity = int(sample[3][i])\n",
        "        instrument.notes.append(pretty_midi.Note(velocity, pitch, start, end))\n",
        "    pm.instruments.append(instrument)\n",
        "    pm.write(filename)\n",
        "    return pm\n",
        "\n",
        "from torch.utils.data import Dataset\n",
        "\n",
        "class ImprovedPianoDataset(Dataset):\n",
        "    def __init__(self, directory, numnotes): #notes is the number of notes from the file sampled, directory is location of midi files\n",
        "        self.directory = directory\n",
        "        self.numnotes = numnotes\n",
        "        self.filenames = os.listdir(directory)\n",
        "\n",
        "    def __getitem__(self, index):      \n",
        "        file = self.filenames[index]\n",
        "        f = os.path.join(self.directory, file) # Combines the directory and filename to get the filepath of the desired midi\n",
        "\n",
        "        pm = pretty_midi.PrettyMIDI(f)\n",
        "        note = notes(pm) # The notes from the midi file\n",
        "        noteSample = notesToSample(note, self.numnotes) # convert the note to a sample of desired size\n",
        "\n",
        "        x = torch.Tensor(noteSample)\n",
        "        x = torch.flatten(x) # flatten to a 1-dimensional tensor to ready it for input into the model\n",
        "        return x\n",
        "\n",
        "    # returns the length of the dataset\n",
        "    def __len__(self):\n",
        "        return len(self.filenames)\n"
      ],
      "metadata": {
        "id": "XiXtumo3GfWa"
      },
      "execution_count": null,
      "outputs": []
    },
    {
      "cell_type": "code",
      "source": [
        "\n",
        "NoteCount = 25 # The amount of notes you want to sample from a song\n",
        "# Full Giant MIDI dataset path: /content/drive/MyDrive/Project/maestro-v3.0.0/midis\n",
        "# MAESTRO 2004 dataset path: /content/drive/MyDrive/Project/maestro-v3.0.0/2004\n",
        "# MIDI File I'm slowly adding more data to: /content/drive/MyDrive/Project/maestro-v3.0.0/Growth\n",
        "MIDIdataset = ImprovedPianoDataset('/content/drive/MyDrive/Project/maestro-v3.0.0/Growth', NoteCount)\n"
      ],
      "metadata": {
        "id": "w63eEuI4Gq4w"
      },
      "execution_count": null,
      "outputs": []
    },
    {
      "cell_type": "code",
      "source": [
        "inputShape = MIDIdataset[0].shape[0]\n",
        "print(\"Input Shape: \" + str(inputShape))\n",
        "model = VariationalAutoEncoder(input_shape = inputShape, latent_dim=15)\n",
        "model.cuda()"
      ],
      "metadata": {
        "id": "7HnP_BKNcCy_"
      },
      "execution_count": null,
      "outputs": []
    },
    {
      "cell_type": "code",
      "source": [
        "# Checking the data and dataset\n",
        "print(MIDIdataset.__len__())\n",
        "print(type(MIDIdataset)) #PianoDataset Object\n",
        "print(type(MIDIdataset[0])) #Tensor object\n",
        "print(MIDIdataset[0].shape)\n",
        "#print(dataset[0])\n",
        "sample = MIDIdataset[109].detach().cpu().numpy().reshape((4,NoteCount))\n",
        "#print(sample)\n",
        "midi = sampleToMIDI(sample, \"SECONDMIDITEST.midi\")\n"
      ],
      "metadata": {
        "id": "fScrNBOKJ8dG"
      },
      "execution_count": null,
      "outputs": []
    },
    {
      "cell_type": "code",
      "source": [
        "model.train()"
      ],
      "metadata": {
        "id": "OcLjZBz5cWyF"
      },
      "execution_count": null,
      "outputs": []
    },
    {
      "cell_type": "code",
      "source": [
        "\n",
        "\n",
        "MIDI_loader = torch.utils.data.DataLoader(MIDIdataset,\n",
        "                                            batch_size=50, #number of training samples to load in at a time\n",
        "                                            shuffle=True) # Shuffle the data beforehand\n",
        "mse = nn.MSELoss()\n",
        "optimizer = optim.Adam(model.parameters(), lr=1e-3)\n",
        "n_epochs = 25\n",
        "\n",
        "for epoch in range(n_epochs):\n",
        "    loss = 0\n",
        "    #Batch_features is each training batch. Here it's of the shape (128, 784).\n",
        "    for batch_features in MIDI_loader:\n",
        "        batch_features = batch_features.cuda()\n",
        "\n",
        "        optimizer.zero_grad()\n",
        "\n",
        "        # compute reconstructions\n",
        "        outputs = model(batch_features) # Runs the forward function and gets outputs\n",
        "\n",
        "        # compute the reconstruction loss of the training data\n",
        "        train_loss = mse(outputs[3], batch_features)\n",
        "\n",
        "        #compute accumulated gradients\n",
        "        train_loss.backward() # Calculates the gradients\n",
        "\n",
        "        # performs -parameter update- based on current gradients\n",
        "        optimizer.step()\n",
        "\n",
        "        # add the mini-batch training loss to epoch loss\n",
        "        loss += train_loss.item()\n",
        "\n",
        "    #compute the epoch training loss\n",
        "    loss = loss / len(train_loader)\n",
        "\n",
        "    if epoch%5 ==0:\n",
        "      print(\"epoch : {}/{}, loss = {:.6f}\".format(epoch + 1, n_epochs, loss))\n",
        "print(\"epoch : {}/{}, loss = {:.6f}\".format(epoch + 1, n_epochs, loss))"
      ],
      "metadata": {
        "id": "74Vzw2atws9Y"
      },
      "execution_count": null,
      "outputs": []
    },
    {
      "cell_type": "code",
      "source": [
        "model.eval()\n",
        "\n",
        "midi_idx = 19\n",
        "\n",
        "midi = MIDIdataset[midi_idx].cuda() # Get a midi file from the dataset\n",
        "x_hat = model(midi)[3] # Get the reconstruction\n",
        "\n",
        "sample = MIDIdataset[midi_idx].detach().cpu().numpy().reshape((4,NoteCount)) # Reforms the sample into the proper shape for MIDI transformation\n",
        "sampleToMIDI(sample, \"input.midi\")\n",
        "x_hat = x_hat.detach().cpu().numpy().reshape((4,NoteCount))\n",
        "sampleToMIDI(x_hat, \"reformed.midi\")\n"
      ],
      "metadata": {
        "id": "AWQeh0_SwW2t"
      },
      "execution_count": null,
      "outputs": []
    },
    {
      "cell_type": "code",
      "source": [
        "# Generate a MIDI sample\n",
        "random = model.generate(1)\n",
        "random = random.detach().cpu().numpy().reshape((4,NoteCount))\n",
        "sampleToMIDI(random, \"generated.midi\")\n"
      ],
      "metadata": {
        "id": "86vwy-7EwLbQ"
      },
      "execution_count": null,
      "outputs": []
    }
  ]
}