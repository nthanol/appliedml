{
  "nbformat": 4,
  "nbformat_minor": 0,
  "metadata": {
    "colab": {
      "provenance": [],
      "collapsed_sections": []
    },
    "kernelspec": {
      "name": "python3",
      "display_name": "Python 3"
    },
    "language_info": {
      "name": "python"
    },
    "accelerator": "GPU",
    "widgets": {
      "application/vnd.jupyter.widget-state+json": {
        "f1bf693878c742df9539f1327e05bc4b": {
          "model_module": "@jupyter-widgets/controls",
          "model_name": "HBoxModel",
          "model_module_version": "1.5.0",
          "state": {
            "_dom_classes": [],
            "_model_module": "@jupyter-widgets/controls",
            "_model_module_version": "1.5.0",
            "_model_name": "HBoxModel",
            "_view_count": null,
            "_view_module": "@jupyter-widgets/controls",
            "_view_module_version": "1.5.0",
            "_view_name": "HBoxView",
            "box_style": "",
            "children": [
              "IPY_MODEL_41d0650df2ff480c994fe2ec22874f41",
              "IPY_MODEL_7aecb8af33e8475182c1bb6387a48991",
              "IPY_MODEL_23121e4e1fc74c459b7648b2d336a34f"
            ],
            "layout": "IPY_MODEL_6349fcf336134da9a85d2ed51742b665"
          }
        },
        "41d0650df2ff480c994fe2ec22874f41": {
          "model_module": "@jupyter-widgets/controls",
          "model_name": "HTMLModel",
          "model_module_version": "1.5.0",
          "state": {
            "_dom_classes": [],
            "_model_module": "@jupyter-widgets/controls",
            "_model_module_version": "1.5.0",
            "_model_name": "HTMLModel",
            "_view_count": null,
            "_view_module": "@jupyter-widgets/controls",
            "_view_module_version": "1.5.0",
            "_view_name": "HTMLView",
            "description": "",
            "description_tooltip": null,
            "layout": "IPY_MODEL_e7c52f0c747048aabd766eefc320e5eb",
            "placeholder": "​",
            "style": "IPY_MODEL_fc18a0c44dac4a0c80ada87aaab43aad",
            "value": "100%"
          }
        },
        "7aecb8af33e8475182c1bb6387a48991": {
          "model_module": "@jupyter-widgets/controls",
          "model_name": "FloatProgressModel",
          "model_module_version": "1.5.0",
          "state": {
            "_dom_classes": [],
            "_model_module": "@jupyter-widgets/controls",
            "_model_module_version": "1.5.0",
            "_model_name": "FloatProgressModel",
            "_view_count": null,
            "_view_module": "@jupyter-widgets/controls",
            "_view_module_version": "1.5.0",
            "_view_name": "ProgressView",
            "bar_style": "success",
            "description": "",
            "description_tooltip": null,
            "layout": "IPY_MODEL_0ead514b3b034545bea4c62ee0a2fd29",
            "max": 9912422,
            "min": 0,
            "orientation": "horizontal",
            "style": "IPY_MODEL_e9160df9e8c246a29eedd7d4a4d21cfa",
            "value": 9912422
          }
        },
        "23121e4e1fc74c459b7648b2d336a34f": {
          "model_module": "@jupyter-widgets/controls",
          "model_name": "HTMLModel",
          "model_module_version": "1.5.0",
          "state": {
            "_dom_classes": [],
            "_model_module": "@jupyter-widgets/controls",
            "_model_module_version": "1.5.0",
            "_model_name": "HTMLModel",
            "_view_count": null,
            "_view_module": "@jupyter-widgets/controls",
            "_view_module_version": "1.5.0",
            "_view_name": "HTMLView",
            "description": "",
            "description_tooltip": null,
            "layout": "IPY_MODEL_3e185e1691b2401aacc8d9fb76383537",
            "placeholder": "​",
            "style": "IPY_MODEL_a7f0055c8336407f8dd7365cc24a9a94",
            "value": " 9912422/9912422 [00:00&lt;00:00, 179823407.33it/s]"
          }
        },
        "6349fcf336134da9a85d2ed51742b665": {
          "model_module": "@jupyter-widgets/base",
          "model_name": "LayoutModel",
          "model_module_version": "1.2.0",
          "state": {
            "_model_module": "@jupyter-widgets/base",
            "_model_module_version": "1.2.0",
            "_model_name": "LayoutModel",
            "_view_count": null,
            "_view_module": "@jupyter-widgets/base",
            "_view_module_version": "1.2.0",
            "_view_name": "LayoutView",
            "align_content": null,
            "align_items": null,
            "align_self": null,
            "border": null,
            "bottom": null,
            "display": null,
            "flex": null,
            "flex_flow": null,
            "grid_area": null,
            "grid_auto_columns": null,
            "grid_auto_flow": null,
            "grid_auto_rows": null,
            "grid_column": null,
            "grid_gap": null,
            "grid_row": null,
            "grid_template_areas": null,
            "grid_template_columns": null,
            "grid_template_rows": null,
            "height": null,
            "justify_content": null,
            "justify_items": null,
            "left": null,
            "margin": null,
            "max_height": null,
            "max_width": null,
            "min_height": null,
            "min_width": null,
            "object_fit": null,
            "object_position": null,
            "order": null,
            "overflow": null,
            "overflow_x": null,
            "overflow_y": null,
            "padding": null,
            "right": null,
            "top": null,
            "visibility": null,
            "width": null
          }
        },
        "e7c52f0c747048aabd766eefc320e5eb": {
          "model_module": "@jupyter-widgets/base",
          "model_name": "LayoutModel",
          "model_module_version": "1.2.0",
          "state": {
            "_model_module": "@jupyter-widgets/base",
            "_model_module_version": "1.2.0",
            "_model_name": "LayoutModel",
            "_view_count": null,
            "_view_module": "@jupyter-widgets/base",
            "_view_module_version": "1.2.0",
            "_view_name": "LayoutView",
            "align_content": null,
            "align_items": null,
            "align_self": null,
            "border": null,
            "bottom": null,
            "display": null,
            "flex": null,
            "flex_flow": null,
            "grid_area": null,
            "grid_auto_columns": null,
            "grid_auto_flow": null,
            "grid_auto_rows": null,
            "grid_column": null,
            "grid_gap": null,
            "grid_row": null,
            "grid_template_areas": null,
            "grid_template_columns": null,
            "grid_template_rows": null,
            "height": null,
            "justify_content": null,
            "justify_items": null,
            "left": null,
            "margin": null,
            "max_height": null,
            "max_width": null,
            "min_height": null,
            "min_width": null,
            "object_fit": null,
            "object_position": null,
            "order": null,
            "overflow": null,
            "overflow_x": null,
            "overflow_y": null,
            "padding": null,
            "right": null,
            "top": null,
            "visibility": null,
            "width": null
          }
        },
        "fc18a0c44dac4a0c80ada87aaab43aad": {
          "model_module": "@jupyter-widgets/controls",
          "model_name": "DescriptionStyleModel",
          "model_module_version": "1.5.0",
          "state": {
            "_model_module": "@jupyter-widgets/controls",
            "_model_module_version": "1.5.0",
            "_model_name": "DescriptionStyleModel",
            "_view_count": null,
            "_view_module": "@jupyter-widgets/base",
            "_view_module_version": "1.2.0",
            "_view_name": "StyleView",
            "description_width": ""
          }
        },
        "0ead514b3b034545bea4c62ee0a2fd29": {
          "model_module": "@jupyter-widgets/base",
          "model_name": "LayoutModel",
          "model_module_version": "1.2.0",
          "state": {
            "_model_module": "@jupyter-widgets/base",
            "_model_module_version": "1.2.0",
            "_model_name": "LayoutModel",
            "_view_count": null,
            "_view_module": "@jupyter-widgets/base",
            "_view_module_version": "1.2.0",
            "_view_name": "LayoutView",
            "align_content": null,
            "align_items": null,
            "align_self": null,
            "border": null,
            "bottom": null,
            "display": null,
            "flex": null,
            "flex_flow": null,
            "grid_area": null,
            "grid_auto_columns": null,
            "grid_auto_flow": null,
            "grid_auto_rows": null,
            "grid_column": null,
            "grid_gap": null,
            "grid_row": null,
            "grid_template_areas": null,
            "grid_template_columns": null,
            "grid_template_rows": null,
            "height": null,
            "justify_content": null,
            "justify_items": null,
            "left": null,
            "margin": null,
            "max_height": null,
            "max_width": null,
            "min_height": null,
            "min_width": null,
            "object_fit": null,
            "object_position": null,
            "order": null,
            "overflow": null,
            "overflow_x": null,
            "overflow_y": null,
            "padding": null,
            "right": null,
            "top": null,
            "visibility": null,
            "width": null
          }
        },
        "e9160df9e8c246a29eedd7d4a4d21cfa": {
          "model_module": "@jupyter-widgets/controls",
          "model_name": "ProgressStyleModel",
          "model_module_version": "1.5.0",
          "state": {
            "_model_module": "@jupyter-widgets/controls",
            "_model_module_version": "1.5.0",
            "_model_name": "ProgressStyleModel",
            "_view_count": null,
            "_view_module": "@jupyter-widgets/base",
            "_view_module_version": "1.2.0",
            "_view_name": "StyleView",
            "bar_color": null,
            "description_width": ""
          }
        },
        "3e185e1691b2401aacc8d9fb76383537": {
          "model_module": "@jupyter-widgets/base",
          "model_name": "LayoutModel",
          "model_module_version": "1.2.0",
          "state": {
            "_model_module": "@jupyter-widgets/base",
            "_model_module_version": "1.2.0",
            "_model_name": "LayoutModel",
            "_view_count": null,
            "_view_module": "@jupyter-widgets/base",
            "_view_module_version": "1.2.0",
            "_view_name": "LayoutView",
            "align_content": null,
            "align_items": null,
            "align_self": null,
            "border": null,
            "bottom": null,
            "display": null,
            "flex": null,
            "flex_flow": null,
            "grid_area": null,
            "grid_auto_columns": null,
            "grid_auto_flow": null,
            "grid_auto_rows": null,
            "grid_column": null,
            "grid_gap": null,
            "grid_row": null,
            "grid_template_areas": null,
            "grid_template_columns": null,
            "grid_template_rows": null,
            "height": null,
            "justify_content": null,
            "justify_items": null,
            "left": null,
            "margin": null,
            "max_height": null,
            "max_width": null,
            "min_height": null,
            "min_width": null,
            "object_fit": null,
            "object_position": null,
            "order": null,
            "overflow": null,
            "overflow_x": null,
            "overflow_y": null,
            "padding": null,
            "right": null,
            "top": null,
            "visibility": null,
            "width": null
          }
        },
        "a7f0055c8336407f8dd7365cc24a9a94": {
          "model_module": "@jupyter-widgets/controls",
          "model_name": "DescriptionStyleModel",
          "model_module_version": "1.5.0",
          "state": {
            "_model_module": "@jupyter-widgets/controls",
            "_model_module_version": "1.5.0",
            "_model_name": "DescriptionStyleModel",
            "_view_count": null,
            "_view_module": "@jupyter-widgets/base",
            "_view_module_version": "1.2.0",
            "_view_name": "StyleView",
            "description_width": ""
          }
        },
        "9a600dc5d8d9457a859fe7474fb7bfc9": {
          "model_module": "@jupyter-widgets/controls",
          "model_name": "HBoxModel",
          "model_module_version": "1.5.0",
          "state": {
            "_dom_classes": [],
            "_model_module": "@jupyter-widgets/controls",
            "_model_module_version": "1.5.0",
            "_model_name": "HBoxModel",
            "_view_count": null,
            "_view_module": "@jupyter-widgets/controls",
            "_view_module_version": "1.5.0",
            "_view_name": "HBoxView",
            "box_style": "",
            "children": [
              "IPY_MODEL_528a3baa0f064fc88ebc690d25abec6a",
              "IPY_MODEL_5e64b92dd3b1469ea657f098f8b2c8d2",
              "IPY_MODEL_ce50e6d5780d4bc09aa2ff82f1c4fefe"
            ],
            "layout": "IPY_MODEL_24bef7d5ff344b82b5bf7481d82e51fb"
          }
        },
        "528a3baa0f064fc88ebc690d25abec6a": {
          "model_module": "@jupyter-widgets/controls",
          "model_name": "HTMLModel",
          "model_module_version": "1.5.0",
          "state": {
            "_dom_classes": [],
            "_model_module": "@jupyter-widgets/controls",
            "_model_module_version": "1.5.0",
            "_model_name": "HTMLModel",
            "_view_count": null,
            "_view_module": "@jupyter-widgets/controls",
            "_view_module_version": "1.5.0",
            "_view_name": "HTMLView",
            "description": "",
            "description_tooltip": null,
            "layout": "IPY_MODEL_47f7778783224288b28cae963c78d49c",
            "placeholder": "​",
            "style": "IPY_MODEL_c2305083c75c4073b79c7a6228c66f94",
            "value": "100%"
          }
        },
        "5e64b92dd3b1469ea657f098f8b2c8d2": {
          "model_module": "@jupyter-widgets/controls",
          "model_name": "FloatProgressModel",
          "model_module_version": "1.5.0",
          "state": {
            "_dom_classes": [],
            "_model_module": "@jupyter-widgets/controls",
            "_model_module_version": "1.5.0",
            "_model_name": "FloatProgressModel",
            "_view_count": null,
            "_view_module": "@jupyter-widgets/controls",
            "_view_module_version": "1.5.0",
            "_view_name": "ProgressView",
            "bar_style": "success",
            "description": "",
            "description_tooltip": null,
            "layout": "IPY_MODEL_26205633441a4c1fb8976cc2b473c5ed",
            "max": 28881,
            "min": 0,
            "orientation": "horizontal",
            "style": "IPY_MODEL_6e48b029278c4d9c8e655e85c6f3117d",
            "value": 28881
          }
        },
        "ce50e6d5780d4bc09aa2ff82f1c4fefe": {
          "model_module": "@jupyter-widgets/controls",
          "model_name": "HTMLModel",
          "model_module_version": "1.5.0",
          "state": {
            "_dom_classes": [],
            "_model_module": "@jupyter-widgets/controls",
            "_model_module_version": "1.5.0",
            "_model_name": "HTMLModel",
            "_view_count": null,
            "_view_module": "@jupyter-widgets/controls",
            "_view_module_version": "1.5.0",
            "_view_name": "HTMLView",
            "description": "",
            "description_tooltip": null,
            "layout": "IPY_MODEL_1db49559a58c4735b57dce4dd95329fc",
            "placeholder": "​",
            "style": "IPY_MODEL_8c817d79cf004970b3cec3706292aadd",
            "value": " 28881/28881 [00:00&lt;00:00, 923121.49it/s]"
          }
        },
        "24bef7d5ff344b82b5bf7481d82e51fb": {
          "model_module": "@jupyter-widgets/base",
          "model_name": "LayoutModel",
          "model_module_version": "1.2.0",
          "state": {
            "_model_module": "@jupyter-widgets/base",
            "_model_module_version": "1.2.0",
            "_model_name": "LayoutModel",
            "_view_count": null,
            "_view_module": "@jupyter-widgets/base",
            "_view_module_version": "1.2.0",
            "_view_name": "LayoutView",
            "align_content": null,
            "align_items": null,
            "align_self": null,
            "border": null,
            "bottom": null,
            "display": null,
            "flex": null,
            "flex_flow": null,
            "grid_area": null,
            "grid_auto_columns": null,
            "grid_auto_flow": null,
            "grid_auto_rows": null,
            "grid_column": null,
            "grid_gap": null,
            "grid_row": null,
            "grid_template_areas": null,
            "grid_template_columns": null,
            "grid_template_rows": null,
            "height": null,
            "justify_content": null,
            "justify_items": null,
            "left": null,
            "margin": null,
            "max_height": null,
            "max_width": null,
            "min_height": null,
            "min_width": null,
            "object_fit": null,
            "object_position": null,
            "order": null,
            "overflow": null,
            "overflow_x": null,
            "overflow_y": null,
            "padding": null,
            "right": null,
            "top": null,
            "visibility": null,
            "width": null
          }
        },
        "47f7778783224288b28cae963c78d49c": {
          "model_module": "@jupyter-widgets/base",
          "model_name": "LayoutModel",
          "model_module_version": "1.2.0",
          "state": {
            "_model_module": "@jupyter-widgets/base",
            "_model_module_version": "1.2.0",
            "_model_name": "LayoutModel",
            "_view_count": null,
            "_view_module": "@jupyter-widgets/base",
            "_view_module_version": "1.2.0",
            "_view_name": "LayoutView",
            "align_content": null,
            "align_items": null,
            "align_self": null,
            "border": null,
            "bottom": null,
            "display": null,
            "flex": null,
            "flex_flow": null,
            "grid_area": null,
            "grid_auto_columns": null,
            "grid_auto_flow": null,
            "grid_auto_rows": null,
            "grid_column": null,
            "grid_gap": null,
            "grid_row": null,
            "grid_template_areas": null,
            "grid_template_columns": null,
            "grid_template_rows": null,
            "height": null,
            "justify_content": null,
            "justify_items": null,
            "left": null,
            "margin": null,
            "max_height": null,
            "max_width": null,
            "min_height": null,
            "min_width": null,
            "object_fit": null,
            "object_position": null,
            "order": null,
            "overflow": null,
            "overflow_x": null,
            "overflow_y": null,
            "padding": null,
            "right": null,
            "top": null,
            "visibility": null,
            "width": null
          }
        },
        "c2305083c75c4073b79c7a6228c66f94": {
          "model_module": "@jupyter-widgets/controls",
          "model_name": "DescriptionStyleModel",
          "model_module_version": "1.5.0",
          "state": {
            "_model_module": "@jupyter-widgets/controls",
            "_model_module_version": "1.5.0",
            "_model_name": "DescriptionStyleModel",
            "_view_count": null,
            "_view_module": "@jupyter-widgets/base",
            "_view_module_version": "1.2.0",
            "_view_name": "StyleView",
            "description_width": ""
          }
        },
        "26205633441a4c1fb8976cc2b473c5ed": {
          "model_module": "@jupyter-widgets/base",
          "model_name": "LayoutModel",
          "model_module_version": "1.2.0",
          "state": {
            "_model_module": "@jupyter-widgets/base",
            "_model_module_version": "1.2.0",
            "_model_name": "LayoutModel",
            "_view_count": null,
            "_view_module": "@jupyter-widgets/base",
            "_view_module_version": "1.2.0",
            "_view_name": "LayoutView",
            "align_content": null,
            "align_items": null,
            "align_self": null,
            "border": null,
            "bottom": null,
            "display": null,
            "flex": null,
            "flex_flow": null,
            "grid_area": null,
            "grid_auto_columns": null,
            "grid_auto_flow": null,
            "grid_auto_rows": null,
            "grid_column": null,
            "grid_gap": null,
            "grid_row": null,
            "grid_template_areas": null,
            "grid_template_columns": null,
            "grid_template_rows": null,
            "height": null,
            "justify_content": null,
            "justify_items": null,
            "left": null,
            "margin": null,
            "max_height": null,
            "max_width": null,
            "min_height": null,
            "min_width": null,
            "object_fit": null,
            "object_position": null,
            "order": null,
            "overflow": null,
            "overflow_x": null,
            "overflow_y": null,
            "padding": null,
            "right": null,
            "top": null,
            "visibility": null,
            "width": null
          }
        },
        "6e48b029278c4d9c8e655e85c6f3117d": {
          "model_module": "@jupyter-widgets/controls",
          "model_name": "ProgressStyleModel",
          "model_module_version": "1.5.0",
          "state": {
            "_model_module": "@jupyter-widgets/controls",
            "_model_module_version": "1.5.0",
            "_model_name": "ProgressStyleModel",
            "_view_count": null,
            "_view_module": "@jupyter-widgets/base",
            "_view_module_version": "1.2.0",
            "_view_name": "StyleView",
            "bar_color": null,
            "description_width": ""
          }
        },
        "1db49559a58c4735b57dce4dd95329fc": {
          "model_module": "@jupyter-widgets/base",
          "model_name": "LayoutModel",
          "model_module_version": "1.2.0",
          "state": {
            "_model_module": "@jupyter-widgets/base",
            "_model_module_version": "1.2.0",
            "_model_name": "LayoutModel",
            "_view_count": null,
            "_view_module": "@jupyter-widgets/base",
            "_view_module_version": "1.2.0",
            "_view_name": "LayoutView",
            "align_content": null,
            "align_items": null,
            "align_self": null,
            "border": null,
            "bottom": null,
            "display": null,
            "flex": null,
            "flex_flow": null,
            "grid_area": null,
            "grid_auto_columns": null,
            "grid_auto_flow": null,
            "grid_auto_rows": null,
            "grid_column": null,
            "grid_gap": null,
            "grid_row": null,
            "grid_template_areas": null,
            "grid_template_columns": null,
            "grid_template_rows": null,
            "height": null,
            "justify_content": null,
            "justify_items": null,
            "left": null,
            "margin": null,
            "max_height": null,
            "max_width": null,
            "min_height": null,
            "min_width": null,
            "object_fit": null,
            "object_position": null,
            "order": null,
            "overflow": null,
            "overflow_x": null,
            "overflow_y": null,
            "padding": null,
            "right": null,
            "top": null,
            "visibility": null,
            "width": null
          }
        },
        "8c817d79cf004970b3cec3706292aadd": {
          "model_module": "@jupyter-widgets/controls",
          "model_name": "DescriptionStyleModel",
          "model_module_version": "1.5.0",
          "state": {
            "_model_module": "@jupyter-widgets/controls",
            "_model_module_version": "1.5.0",
            "_model_name": "DescriptionStyleModel",
            "_view_count": null,
            "_view_module": "@jupyter-widgets/base",
            "_view_module_version": "1.2.0",
            "_view_name": "StyleView",
            "description_width": ""
          }
        },
        "1cfa0d945f7e4fb6892de39c81de1708": {
          "model_module": "@jupyter-widgets/controls",
          "model_name": "HBoxModel",
          "model_module_version": "1.5.0",
          "state": {
            "_dom_classes": [],
            "_model_module": "@jupyter-widgets/controls",
            "_model_module_version": "1.5.0",
            "_model_name": "HBoxModel",
            "_view_count": null,
            "_view_module": "@jupyter-widgets/controls",
            "_view_module_version": "1.5.0",
            "_view_name": "HBoxView",
            "box_style": "",
            "children": [
              "IPY_MODEL_186fbd46ac24423fb1f47185b4b96548",
              "IPY_MODEL_fb09292912bc4f3fba4138262a2246f4",
              "IPY_MODEL_a4d4c7a74c704d3b85371dcdae745d1a"
            ],
            "layout": "IPY_MODEL_99476453968c49bcad58c067310dbc02"
          }
        },
        "186fbd46ac24423fb1f47185b4b96548": {
          "model_module": "@jupyter-widgets/controls",
          "model_name": "HTMLModel",
          "model_module_version": "1.5.0",
          "state": {
            "_dom_classes": [],
            "_model_module": "@jupyter-widgets/controls",
            "_model_module_version": "1.5.0",
            "_model_name": "HTMLModel",
            "_view_count": null,
            "_view_module": "@jupyter-widgets/controls",
            "_view_module_version": "1.5.0",
            "_view_name": "HTMLView",
            "description": "",
            "description_tooltip": null,
            "layout": "IPY_MODEL_3f6e8c2185554c84bea902364a519fe4",
            "placeholder": "​",
            "style": "IPY_MODEL_9f63216caa774cbf86dd9dcfa9ef9d97",
            "value": "100%"
          }
        },
        "fb09292912bc4f3fba4138262a2246f4": {
          "model_module": "@jupyter-widgets/controls",
          "model_name": "FloatProgressModel",
          "model_module_version": "1.5.0",
          "state": {
            "_dom_classes": [],
            "_model_module": "@jupyter-widgets/controls",
            "_model_module_version": "1.5.0",
            "_model_name": "FloatProgressModel",
            "_view_count": null,
            "_view_module": "@jupyter-widgets/controls",
            "_view_module_version": "1.5.0",
            "_view_name": "ProgressView",
            "bar_style": "success",
            "description": "",
            "description_tooltip": null,
            "layout": "IPY_MODEL_3114922a1a5d4147acedd259d5e4d565",
            "max": 1648877,
            "min": 0,
            "orientation": "horizontal",
            "style": "IPY_MODEL_33b059878616487b818c52976e34d642",
            "value": 1648877
          }
        },
        "a4d4c7a74c704d3b85371dcdae745d1a": {
          "model_module": "@jupyter-widgets/controls",
          "model_name": "HTMLModel",
          "model_module_version": "1.5.0",
          "state": {
            "_dom_classes": [],
            "_model_module": "@jupyter-widgets/controls",
            "_model_module_version": "1.5.0",
            "_model_name": "HTMLModel",
            "_view_count": null,
            "_view_module": "@jupyter-widgets/controls",
            "_view_module_version": "1.5.0",
            "_view_name": "HTMLView",
            "description": "",
            "description_tooltip": null,
            "layout": "IPY_MODEL_b60608e22fa44d8695d251f9af0365ba",
            "placeholder": "​",
            "style": "IPY_MODEL_c6ce36d69a7b40b7b6e02485a7841b3c",
            "value": " 1648877/1648877 [00:00&lt;00:00, 43044609.98it/s]"
          }
        },
        "99476453968c49bcad58c067310dbc02": {
          "model_module": "@jupyter-widgets/base",
          "model_name": "LayoutModel",
          "model_module_version": "1.2.0",
          "state": {
            "_model_module": "@jupyter-widgets/base",
            "_model_module_version": "1.2.0",
            "_model_name": "LayoutModel",
            "_view_count": null,
            "_view_module": "@jupyter-widgets/base",
            "_view_module_version": "1.2.0",
            "_view_name": "LayoutView",
            "align_content": null,
            "align_items": null,
            "align_self": null,
            "border": null,
            "bottom": null,
            "display": null,
            "flex": null,
            "flex_flow": null,
            "grid_area": null,
            "grid_auto_columns": null,
            "grid_auto_flow": null,
            "grid_auto_rows": null,
            "grid_column": null,
            "grid_gap": null,
            "grid_row": null,
            "grid_template_areas": null,
            "grid_template_columns": null,
            "grid_template_rows": null,
            "height": null,
            "justify_content": null,
            "justify_items": null,
            "left": null,
            "margin": null,
            "max_height": null,
            "max_width": null,
            "min_height": null,
            "min_width": null,
            "object_fit": null,
            "object_position": null,
            "order": null,
            "overflow": null,
            "overflow_x": null,
            "overflow_y": null,
            "padding": null,
            "right": null,
            "top": null,
            "visibility": null,
            "width": null
          }
        },
        "3f6e8c2185554c84bea902364a519fe4": {
          "model_module": "@jupyter-widgets/base",
          "model_name": "LayoutModel",
          "model_module_version": "1.2.0",
          "state": {
            "_model_module": "@jupyter-widgets/base",
            "_model_module_version": "1.2.0",
            "_model_name": "LayoutModel",
            "_view_count": null,
            "_view_module": "@jupyter-widgets/base",
            "_view_module_version": "1.2.0",
            "_view_name": "LayoutView",
            "align_content": null,
            "align_items": null,
            "align_self": null,
            "border": null,
            "bottom": null,
            "display": null,
            "flex": null,
            "flex_flow": null,
            "grid_area": null,
            "grid_auto_columns": null,
            "grid_auto_flow": null,
            "grid_auto_rows": null,
            "grid_column": null,
            "grid_gap": null,
            "grid_row": null,
            "grid_template_areas": null,
            "grid_template_columns": null,
            "grid_template_rows": null,
            "height": null,
            "justify_content": null,
            "justify_items": null,
            "left": null,
            "margin": null,
            "max_height": null,
            "max_width": null,
            "min_height": null,
            "min_width": null,
            "object_fit": null,
            "object_position": null,
            "order": null,
            "overflow": null,
            "overflow_x": null,
            "overflow_y": null,
            "padding": null,
            "right": null,
            "top": null,
            "visibility": null,
            "width": null
          }
        },
        "9f63216caa774cbf86dd9dcfa9ef9d97": {
          "model_module": "@jupyter-widgets/controls",
          "model_name": "DescriptionStyleModel",
          "model_module_version": "1.5.0",
          "state": {
            "_model_module": "@jupyter-widgets/controls",
            "_model_module_version": "1.5.0",
            "_model_name": "DescriptionStyleModel",
            "_view_count": null,
            "_view_module": "@jupyter-widgets/base",
            "_view_module_version": "1.2.0",
            "_view_name": "StyleView",
            "description_width": ""
          }
        },
        "3114922a1a5d4147acedd259d5e4d565": {
          "model_module": "@jupyter-widgets/base",
          "model_name": "LayoutModel",
          "model_module_version": "1.2.0",
          "state": {
            "_model_module": "@jupyter-widgets/base",
            "_model_module_version": "1.2.0",
            "_model_name": "LayoutModel",
            "_view_count": null,
            "_view_module": "@jupyter-widgets/base",
            "_view_module_version": "1.2.0",
            "_view_name": "LayoutView",
            "align_content": null,
            "align_items": null,
            "align_self": null,
            "border": null,
            "bottom": null,
            "display": null,
            "flex": null,
            "flex_flow": null,
            "grid_area": null,
            "grid_auto_columns": null,
            "grid_auto_flow": null,
            "grid_auto_rows": null,
            "grid_column": null,
            "grid_gap": null,
            "grid_row": null,
            "grid_template_areas": null,
            "grid_template_columns": null,
            "grid_template_rows": null,
            "height": null,
            "justify_content": null,
            "justify_items": null,
            "left": null,
            "margin": null,
            "max_height": null,
            "max_width": null,
            "min_height": null,
            "min_width": null,
            "object_fit": null,
            "object_position": null,
            "order": null,
            "overflow": null,
            "overflow_x": null,
            "overflow_y": null,
            "padding": null,
            "right": null,
            "top": null,
            "visibility": null,
            "width": null
          }
        },
        "33b059878616487b818c52976e34d642": {
          "model_module": "@jupyter-widgets/controls",
          "model_name": "ProgressStyleModel",
          "model_module_version": "1.5.0",
          "state": {
            "_model_module": "@jupyter-widgets/controls",
            "_model_module_version": "1.5.0",
            "_model_name": "ProgressStyleModel",
            "_view_count": null,
            "_view_module": "@jupyter-widgets/base",
            "_view_module_version": "1.2.0",
            "_view_name": "StyleView",
            "bar_color": null,
            "description_width": ""
          }
        },
        "b60608e22fa44d8695d251f9af0365ba": {
          "model_module": "@jupyter-widgets/base",
          "model_name": "LayoutModel",
          "model_module_version": "1.2.0",
          "state": {
            "_model_module": "@jupyter-widgets/base",
            "_model_module_version": "1.2.0",
            "_model_name": "LayoutModel",
            "_view_count": null,
            "_view_module": "@jupyter-widgets/base",
            "_view_module_version": "1.2.0",
            "_view_name": "LayoutView",
            "align_content": null,
            "align_items": null,
            "align_self": null,
            "border": null,
            "bottom": null,
            "display": null,
            "flex": null,
            "flex_flow": null,
            "grid_area": null,
            "grid_auto_columns": null,
            "grid_auto_flow": null,
            "grid_auto_rows": null,
            "grid_column": null,
            "grid_gap": null,
            "grid_row": null,
            "grid_template_areas": null,
            "grid_template_columns": null,
            "grid_template_rows": null,
            "height": null,
            "justify_content": null,
            "justify_items": null,
            "left": null,
            "margin": null,
            "max_height": null,
            "max_width": null,
            "min_height": null,
            "min_width": null,
            "object_fit": null,
            "object_position": null,
            "order": null,
            "overflow": null,
            "overflow_x": null,
            "overflow_y": null,
            "padding": null,
            "right": null,
            "top": null,
            "visibility": null,
            "width": null
          }
        },
        "c6ce36d69a7b40b7b6e02485a7841b3c": {
          "model_module": "@jupyter-widgets/controls",
          "model_name": "DescriptionStyleModel",
          "model_module_version": "1.5.0",
          "state": {
            "_model_module": "@jupyter-widgets/controls",
            "_model_module_version": "1.5.0",
            "_model_name": "DescriptionStyleModel",
            "_view_count": null,
            "_view_module": "@jupyter-widgets/base",
            "_view_module_version": "1.2.0",
            "_view_name": "StyleView",
            "description_width": ""
          }
        },
        "2dc470203e9041b9a97a08aba95203bc": {
          "model_module": "@jupyter-widgets/controls",
          "model_name": "HBoxModel",
          "model_module_version": "1.5.0",
          "state": {
            "_dom_classes": [],
            "_model_module": "@jupyter-widgets/controls",
            "_model_module_version": "1.5.0",
            "_model_name": "HBoxModel",
            "_view_count": null,
            "_view_module": "@jupyter-widgets/controls",
            "_view_module_version": "1.5.0",
            "_view_name": "HBoxView",
            "box_style": "",
            "children": [
              "IPY_MODEL_a5515ea8ad3a43aa974b1c7bf395fefc",
              "IPY_MODEL_84d397a550f2407ca399c3eb4e7072ce",
              "IPY_MODEL_bf7d3291cf3e4077b716a159bf31f251"
            ],
            "layout": "IPY_MODEL_7fc24af2352b44b8ac00347969ec71e1"
          }
        },
        "a5515ea8ad3a43aa974b1c7bf395fefc": {
          "model_module": "@jupyter-widgets/controls",
          "model_name": "HTMLModel",
          "model_module_version": "1.5.0",
          "state": {
            "_dom_classes": [],
            "_model_module": "@jupyter-widgets/controls",
            "_model_module_version": "1.5.0",
            "_model_name": "HTMLModel",
            "_view_count": null,
            "_view_module": "@jupyter-widgets/controls",
            "_view_module_version": "1.5.0",
            "_view_name": "HTMLView",
            "description": "",
            "description_tooltip": null,
            "layout": "IPY_MODEL_71dd373f44b343c2a6db80e0db46839e",
            "placeholder": "​",
            "style": "IPY_MODEL_74587c3c22274693b8dd3670a4877db6",
            "value": "100%"
          }
        },
        "84d397a550f2407ca399c3eb4e7072ce": {
          "model_module": "@jupyter-widgets/controls",
          "model_name": "FloatProgressModel",
          "model_module_version": "1.5.0",
          "state": {
            "_dom_classes": [],
            "_model_module": "@jupyter-widgets/controls",
            "_model_module_version": "1.5.0",
            "_model_name": "FloatProgressModel",
            "_view_count": null,
            "_view_module": "@jupyter-widgets/controls",
            "_view_module_version": "1.5.0",
            "_view_name": "ProgressView",
            "bar_style": "success",
            "description": "",
            "description_tooltip": null,
            "layout": "IPY_MODEL_35586b2851884671b8dd75507699bddc",
            "max": 4542,
            "min": 0,
            "orientation": "horizontal",
            "style": "IPY_MODEL_d6806fc1a5e64a34a550ff13b9645be6",
            "value": 4542
          }
        },
        "bf7d3291cf3e4077b716a159bf31f251": {
          "model_module": "@jupyter-widgets/controls",
          "model_name": "HTMLModel",
          "model_module_version": "1.5.0",
          "state": {
            "_dom_classes": [],
            "_model_module": "@jupyter-widgets/controls",
            "_model_module_version": "1.5.0",
            "_model_name": "HTMLModel",
            "_view_count": null,
            "_view_module": "@jupyter-widgets/controls",
            "_view_module_version": "1.5.0",
            "_view_name": "HTMLView",
            "description": "",
            "description_tooltip": null,
            "layout": "IPY_MODEL_41189ceff3174ac9bcbd229621230fea",
            "placeholder": "​",
            "style": "IPY_MODEL_9e4426c75ee749beb1d04dccd7da2e12",
            "value": " 4542/4542 [00:00&lt;00:00, 145750.99it/s]"
          }
        },
        "7fc24af2352b44b8ac00347969ec71e1": {
          "model_module": "@jupyter-widgets/base",
          "model_name": "LayoutModel",
          "model_module_version": "1.2.0",
          "state": {
            "_model_module": "@jupyter-widgets/base",
            "_model_module_version": "1.2.0",
            "_model_name": "LayoutModel",
            "_view_count": null,
            "_view_module": "@jupyter-widgets/base",
            "_view_module_version": "1.2.0",
            "_view_name": "LayoutView",
            "align_content": null,
            "align_items": null,
            "align_self": null,
            "border": null,
            "bottom": null,
            "display": null,
            "flex": null,
            "flex_flow": null,
            "grid_area": null,
            "grid_auto_columns": null,
            "grid_auto_flow": null,
            "grid_auto_rows": null,
            "grid_column": null,
            "grid_gap": null,
            "grid_row": null,
            "grid_template_areas": null,
            "grid_template_columns": null,
            "grid_template_rows": null,
            "height": null,
            "justify_content": null,
            "justify_items": null,
            "left": null,
            "margin": null,
            "max_height": null,
            "max_width": null,
            "min_height": null,
            "min_width": null,
            "object_fit": null,
            "object_position": null,
            "order": null,
            "overflow": null,
            "overflow_x": null,
            "overflow_y": null,
            "padding": null,
            "right": null,
            "top": null,
            "visibility": null,
            "width": null
          }
        },
        "71dd373f44b343c2a6db80e0db46839e": {
          "model_module": "@jupyter-widgets/base",
          "model_name": "LayoutModel",
          "model_module_version": "1.2.0",
          "state": {
            "_model_module": "@jupyter-widgets/base",
            "_model_module_version": "1.2.0",
            "_model_name": "LayoutModel",
            "_view_count": null,
            "_view_module": "@jupyter-widgets/base",
            "_view_module_version": "1.2.0",
            "_view_name": "LayoutView",
            "align_content": null,
            "align_items": null,
            "align_self": null,
            "border": null,
            "bottom": null,
            "display": null,
            "flex": null,
            "flex_flow": null,
            "grid_area": null,
            "grid_auto_columns": null,
            "grid_auto_flow": null,
            "grid_auto_rows": null,
            "grid_column": null,
            "grid_gap": null,
            "grid_row": null,
            "grid_template_areas": null,
            "grid_template_columns": null,
            "grid_template_rows": null,
            "height": null,
            "justify_content": null,
            "justify_items": null,
            "left": null,
            "margin": null,
            "max_height": null,
            "max_width": null,
            "min_height": null,
            "min_width": null,
            "object_fit": null,
            "object_position": null,
            "order": null,
            "overflow": null,
            "overflow_x": null,
            "overflow_y": null,
            "padding": null,
            "right": null,
            "top": null,
            "visibility": null,
            "width": null
          }
        },
        "74587c3c22274693b8dd3670a4877db6": {
          "model_module": "@jupyter-widgets/controls",
          "model_name": "DescriptionStyleModel",
          "model_module_version": "1.5.0",
          "state": {
            "_model_module": "@jupyter-widgets/controls",
            "_model_module_version": "1.5.0",
            "_model_name": "DescriptionStyleModel",
            "_view_count": null,
            "_view_module": "@jupyter-widgets/base",
            "_view_module_version": "1.2.0",
            "_view_name": "StyleView",
            "description_width": ""
          }
        },
        "35586b2851884671b8dd75507699bddc": {
          "model_module": "@jupyter-widgets/base",
          "model_name": "LayoutModel",
          "model_module_version": "1.2.0",
          "state": {
            "_model_module": "@jupyter-widgets/base",
            "_model_module_version": "1.2.0",
            "_model_name": "LayoutModel",
            "_view_count": null,
            "_view_module": "@jupyter-widgets/base",
            "_view_module_version": "1.2.0",
            "_view_name": "LayoutView",
            "align_content": null,
            "align_items": null,
            "align_self": null,
            "border": null,
            "bottom": null,
            "display": null,
            "flex": null,
            "flex_flow": null,
            "grid_area": null,
            "grid_auto_columns": null,
            "grid_auto_flow": null,
            "grid_auto_rows": null,
            "grid_column": null,
            "grid_gap": null,
            "grid_row": null,
            "grid_template_areas": null,
            "grid_template_columns": null,
            "grid_template_rows": null,
            "height": null,
            "justify_content": null,
            "justify_items": null,
            "left": null,
            "margin": null,
            "max_height": null,
            "max_width": null,
            "min_height": null,
            "min_width": null,
            "object_fit": null,
            "object_position": null,
            "order": null,
            "overflow": null,
            "overflow_x": null,
            "overflow_y": null,
            "padding": null,
            "right": null,
            "top": null,
            "visibility": null,
            "width": null
          }
        },
        "d6806fc1a5e64a34a550ff13b9645be6": {
          "model_module": "@jupyter-widgets/controls",
          "model_name": "ProgressStyleModel",
          "model_module_version": "1.5.0",
          "state": {
            "_model_module": "@jupyter-widgets/controls",
            "_model_module_version": "1.5.0",
            "_model_name": "ProgressStyleModel",
            "_view_count": null,
            "_view_module": "@jupyter-widgets/base",
            "_view_module_version": "1.2.0",
            "_view_name": "StyleView",
            "bar_color": null,
            "description_width": ""
          }
        },
        "41189ceff3174ac9bcbd229621230fea": {
          "model_module": "@jupyter-widgets/base",
          "model_name": "LayoutModel",
          "model_module_version": "1.2.0",
          "state": {
            "_model_module": "@jupyter-widgets/base",
            "_model_module_version": "1.2.0",
            "_model_name": "LayoutModel",
            "_view_count": null,
            "_view_module": "@jupyter-widgets/base",
            "_view_module_version": "1.2.0",
            "_view_name": "LayoutView",
            "align_content": null,
            "align_items": null,
            "align_self": null,
            "border": null,
            "bottom": null,
            "display": null,
            "flex": null,
            "flex_flow": null,
            "grid_area": null,
            "grid_auto_columns": null,
            "grid_auto_flow": null,
            "grid_auto_rows": null,
            "grid_column": null,
            "grid_gap": null,
            "grid_row": null,
            "grid_template_areas": null,
            "grid_template_columns": null,
            "grid_template_rows": null,
            "height": null,
            "justify_content": null,
            "justify_items": null,
            "left": null,
            "margin": null,
            "max_height": null,
            "max_width": null,
            "min_height": null,
            "min_width": null,
            "object_fit": null,
            "object_position": null,
            "order": null,
            "overflow": null,
            "overflow_x": null,
            "overflow_y": null,
            "padding": null,
            "right": null,
            "top": null,
            "visibility": null,
            "width": null
          }
        },
        "9e4426c75ee749beb1d04dccd7da2e12": {
          "model_module": "@jupyter-widgets/controls",
          "model_name": "DescriptionStyleModel",
          "model_module_version": "1.5.0",
          "state": {
            "_model_module": "@jupyter-widgets/controls",
            "_model_module_version": "1.5.0",
            "_model_name": "DescriptionStyleModel",
            "_view_count": null,
            "_view_module": "@jupyter-widgets/base",
            "_view_module_version": "1.2.0",
            "_view_name": "StyleView",
            "description_width": ""
          }
        }
      }
    }
  },
  "cells": [
    {
      "cell_type": "code",
      "execution_count": null,
      "metadata": {
        "colab": {
          "base_uri": "https://localhost:8080/"
        },
        "id": "IwyGm4n5oFtG",
        "outputId": "f4b2e9d2-7f3a-45ed-ce58-e001565b404a"
      },
      "outputs": [
        {
          "output_type": "stream",
          "name": "stdout",
          "text": [
            "Mounted at /content/drive\n"
          ]
        }
      ],
      "source": [
        "from google.colab import drive\n",
        "drive.mount('/content/drive')"
      ]
    },
    {
      "cell_type": "code",
      "source": [
        "import torch\n",
        "from torch.distributions import normal\n",
        "import torchvision\n",
        "import numpy as np\n",
        "import matplotlib.pyplot as plt\n",
        "import torch.nn as nn\n",
        "import torch.optim as optim\n",
        "import torch.nn.functional as F\n",
        "from torchvision.utils import make_grid\n",
        "import torchvision.transforms as transforms\n",
        "from tqdm import tqdm\n",
        "from torchvision.utils import save_image\n",
        "\n",
        "from torchvision import datasets"
      ],
      "metadata": {
        "id": "-fzY4Xtfri9a"
      },
      "execution_count": null,
      "outputs": []
    },
    {
      "cell_type": "code",
      "source": [
        "torchvision.datasets.MNIST('/drive/MyDrive/Experiments',download = True)"
      ],
      "metadata": {
        "colab": {
          "base_uri": "https://localhost:8080/",
          "height": 514,
          "referenced_widgets": [
            "f1bf693878c742df9539f1327e05bc4b",
            "41d0650df2ff480c994fe2ec22874f41",
            "7aecb8af33e8475182c1bb6387a48991",
            "23121e4e1fc74c459b7648b2d336a34f",
            "6349fcf336134da9a85d2ed51742b665",
            "e7c52f0c747048aabd766eefc320e5eb",
            "fc18a0c44dac4a0c80ada87aaab43aad",
            "0ead514b3b034545bea4c62ee0a2fd29",
            "e9160df9e8c246a29eedd7d4a4d21cfa",
            "3e185e1691b2401aacc8d9fb76383537",
            "a7f0055c8336407f8dd7365cc24a9a94",
            "9a600dc5d8d9457a859fe7474fb7bfc9",
            "528a3baa0f064fc88ebc690d25abec6a",
            "5e64b92dd3b1469ea657f098f8b2c8d2",
            "ce50e6d5780d4bc09aa2ff82f1c4fefe",
            "24bef7d5ff344b82b5bf7481d82e51fb",
            "47f7778783224288b28cae963c78d49c",
            "c2305083c75c4073b79c7a6228c66f94",
            "26205633441a4c1fb8976cc2b473c5ed",
            "6e48b029278c4d9c8e655e85c6f3117d",
            "1db49559a58c4735b57dce4dd95329fc",
            "8c817d79cf004970b3cec3706292aadd",
            "1cfa0d945f7e4fb6892de39c81de1708",
            "186fbd46ac24423fb1f47185b4b96548",
            "fb09292912bc4f3fba4138262a2246f4",
            "a4d4c7a74c704d3b85371dcdae745d1a",
            "99476453968c49bcad58c067310dbc02",
            "3f6e8c2185554c84bea902364a519fe4",
            "9f63216caa774cbf86dd9dcfa9ef9d97",
            "3114922a1a5d4147acedd259d5e4d565",
            "33b059878616487b818c52976e34d642",
            "b60608e22fa44d8695d251f9af0365ba",
            "c6ce36d69a7b40b7b6e02485a7841b3c",
            "2dc470203e9041b9a97a08aba95203bc",
            "a5515ea8ad3a43aa974b1c7bf395fefc",
            "84d397a550f2407ca399c3eb4e7072ce",
            "bf7d3291cf3e4077b716a159bf31f251",
            "7fc24af2352b44b8ac00347969ec71e1",
            "71dd373f44b343c2a6db80e0db46839e",
            "74587c3c22274693b8dd3670a4877db6",
            "35586b2851884671b8dd75507699bddc",
            "d6806fc1a5e64a34a550ff13b9645be6",
            "41189ceff3174ac9bcbd229621230fea",
            "9e4426c75ee749beb1d04dccd7da2e12"
          ]
        },
        "id": "MN3_cjhMrktQ",
        "outputId": "355581ab-75f2-4186-8b10-4f18720fb837"
      },
      "execution_count": null,
      "outputs": [
        {
          "output_type": "stream",
          "name": "stdout",
          "text": [
            "Downloading http://yann.lecun.com/exdb/mnist/train-images-idx3-ubyte.gz\n",
            "Downloading http://yann.lecun.com/exdb/mnist/train-images-idx3-ubyte.gz to /drive/MyDrive/Experiments/MNIST/raw/train-images-idx3-ubyte.gz\n"
          ]
        },
        {
          "output_type": "display_data",
          "data": {
            "text/plain": [
              "  0%|          | 0/9912422 [00:00<?, ?it/s]"
            ],
            "application/vnd.jupyter.widget-view+json": {
              "version_major": 2,
              "version_minor": 0,
              "model_id": "f1bf693878c742df9539f1327e05bc4b"
            }
          },
          "metadata": {}
        },
        {
          "output_type": "stream",
          "name": "stdout",
          "text": [
            "Extracting /drive/MyDrive/Experiments/MNIST/raw/train-images-idx3-ubyte.gz to /drive/MyDrive/Experiments/MNIST/raw\n",
            "\n",
            "Downloading http://yann.lecun.com/exdb/mnist/train-labels-idx1-ubyte.gz\n",
            "Downloading http://yann.lecun.com/exdb/mnist/train-labels-idx1-ubyte.gz to /drive/MyDrive/Experiments/MNIST/raw/train-labels-idx1-ubyte.gz\n"
          ]
        },
        {
          "output_type": "display_data",
          "data": {
            "text/plain": [
              "  0%|          | 0/28881 [00:00<?, ?it/s]"
            ],
            "application/vnd.jupyter.widget-view+json": {
              "version_major": 2,
              "version_minor": 0,
              "model_id": "9a600dc5d8d9457a859fe7474fb7bfc9"
            }
          },
          "metadata": {}
        },
        {
          "output_type": "stream",
          "name": "stdout",
          "text": [
            "Extracting /drive/MyDrive/Experiments/MNIST/raw/train-labels-idx1-ubyte.gz to /drive/MyDrive/Experiments/MNIST/raw\n",
            "\n",
            "Downloading http://yann.lecun.com/exdb/mnist/t10k-images-idx3-ubyte.gz\n",
            "Downloading http://yann.lecun.com/exdb/mnist/t10k-images-idx3-ubyte.gz to /drive/MyDrive/Experiments/MNIST/raw/t10k-images-idx3-ubyte.gz\n"
          ]
        },
        {
          "output_type": "display_data",
          "data": {
            "text/plain": [
              "  0%|          | 0/1648877 [00:00<?, ?it/s]"
            ],
            "application/vnd.jupyter.widget-view+json": {
              "version_major": 2,
              "version_minor": 0,
              "model_id": "1cfa0d945f7e4fb6892de39c81de1708"
            }
          },
          "metadata": {}
        },
        {
          "output_type": "stream",
          "name": "stdout",
          "text": [
            "Extracting /drive/MyDrive/Experiments/MNIST/raw/t10k-images-idx3-ubyte.gz to /drive/MyDrive/Experiments/MNIST/raw\n",
            "\n",
            "Downloading http://yann.lecun.com/exdb/mnist/t10k-labels-idx1-ubyte.gz\n",
            "Downloading http://yann.lecun.com/exdb/mnist/t10k-labels-idx1-ubyte.gz to /drive/MyDrive/Experiments/MNIST/raw/t10k-labels-idx1-ubyte.gz\n"
          ]
        },
        {
          "output_type": "display_data",
          "data": {
            "text/plain": [
              "  0%|          | 0/4542 [00:00<?, ?it/s]"
            ],
            "application/vnd.jupyter.widget-view+json": {
              "version_major": 2,
              "version_minor": 0,
              "model_id": "2dc470203e9041b9a97a08aba95203bc"
            }
          },
          "metadata": {}
        },
        {
          "output_type": "stream",
          "name": "stdout",
          "text": [
            "Extracting /drive/MyDrive/Experiments/MNIST/raw/t10k-labels-idx1-ubyte.gz to /drive/MyDrive/Experiments/MNIST/raw\n",
            "\n"
          ]
        },
        {
          "output_type": "execute_result",
          "data": {
            "text/plain": [
              "Dataset MNIST\n",
              "    Number of datapoints: 60000\n",
              "    Root location: /drive/MyDrive/Experiments\n",
              "    Split: Train"
            ]
          },
          "metadata": {},
          "execution_count": 4
        }
      ]
    },
    {
      "cell_type": "code",
      "source": [
        "Transform = transforms.ToTensor()\n",
        "train = datasets.MNIST(root='/drive/MyDrive/Experiments', train = True, download = False, transform = Transform)\n",
        "train"
      ],
      "metadata": {
        "colab": {
          "base_uri": "https://localhost:8080/"
        },
        "id": "d82FoQrWrqT0",
        "outputId": "00e965e5-dc4e-4f6d-b982-c3598789eaf3"
      },
      "execution_count": null,
      "outputs": [
        {
          "output_type": "execute_result",
          "data": {
            "text/plain": [
              "Dataset MNIST\n",
              "    Number of datapoints: 60000\n",
              "    Root location: /drive/MyDrive/Experiments\n",
              "    Split: Train\n",
              "    StandardTransform\n",
              "Transform: ToTensor()"
            ]
          },
          "metadata": {},
          "execution_count": 5
        }
      ]
    },
    {
      "cell_type": "code",
      "source": [
        "test = datasets.MNIST(root='/drive/MyDrive/Experiments', train = False, download = False, transform = Transform)\n",
        "test"
      ],
      "metadata": {
        "colab": {
          "base_uri": "https://localhost:8080/"
        },
        "id": "kPZ1h-AMsB-x",
        "outputId": "159e428e-fe1c-45d6-ba30-96bd9ddfc52c"
      },
      "execution_count": null,
      "outputs": [
        {
          "output_type": "execute_result",
          "data": {
            "text/plain": [
              "Dataset MNIST\n",
              "    Number of datapoints: 10000\n",
              "    Root location: /drive/MyDrive/Experiments\n",
              "    Split: Test\n",
              "    StandardTransform\n",
              "Transform: ToTensor()"
            ]
          },
          "metadata": {},
          "execution_count": 6
        }
      ]
    },
    {
      "cell_type": "code",
      "source": [
        "from torch.utils.data import Dataset\n",
        "class MNISTDataset(Dataset):\n",
        "    \"\"\"\n",
        "    MAP-style. __getitem__ and __len__ methods need to be implemented.\n",
        "    \"\"\"\n",
        "    def __init__(self, path, train): # train is a boolean\n",
        "        Transform = transforms.ToTensor()\n",
        "        data = datasets.MNIST(root=path, train = train, download = False, transform = Transform)\n",
        "        self.images = [None] * len(data) #Holds the image pixel array\n",
        "        self.labels = [None] * len(data) #Holds the number label\n",
        "        for i in range(len(data)):\n",
        "            self.images[i] = data[i][0]\n",
        "            self.labels[i] = data[i][1]\n",
        "\n",
        "    def __getitem__(self, index):\n",
        "        x = self.images[index].float()\n",
        "        x = torch.Tensor(x)\n",
        "        x = torch.flatten(x) # flatten the image from a 28 x 28 to a 784 1-dimensional tensor\n",
        "        return x\n",
        "\n",
        "    # returns the length of the dataset\n",
        "    def __len__(self):\n",
        "        return len(self.labels)"
      ],
      "metadata": {
        "id": "Kjav_4wdsIqB"
      },
      "execution_count": null,
      "outputs": []
    },
    {
      "cell_type": "code",
      "source": [
        "class AutoEncoder(nn.Module):\n",
        "    def __init__(self, input_shape, latent_dim = 128):\n",
        "        super().__init__()\n",
        "\n",
        "        # 2 layers for the encoder\n",
        "        self.encoder_l1 = nn.Linear(in_features=input_shape, out_features=latent_dim)\n",
        "        self.encoder_l2 = nn.Linear(in_features=latent_dim, out_features=latent_dim)\n",
        "\n",
        "        # decoder\n",
        "        self.decoder_l1 = nn.Linear(in_features=latent_dim, out_features=latent_dim)\n",
        "        self.decoder_l2 = nn.Linear(in_features=latent_dim, out_features=input_shape)\n",
        "    \n",
        "    def forward(self, x):\n",
        "        '''\n",
        "        x is the input data\n",
        "        returns the reconstruction\n",
        "        '''\n",
        "        latent = self.run_encoder(x)\n",
        "        x_hat = self.run_decoder(latent)\n",
        "        return x_hat\n",
        "\n",
        "    def run_encoder(self, x):\n",
        "        output = F.relu(self.encoder_l1(x)) # relu adds non linearity\n",
        "        latent = F.relu(self.encoder_l2(output)) # results in the latent vector\n",
        "        return latent\n",
        "\n",
        "    def run_decoder(self, latent):\n",
        "        output = F.relu(self.decoder_l1(latent))\n",
        "        x_hat = F.relu(self.decoder_l2(output))\n",
        "        return x_hat"
      ],
      "metadata": {
        "id": "PWHa_VV7tA0r"
      },
      "execution_count": null,
      "outputs": []
    },
    {
      "cell_type": "code",
      "source": [
        "class VariationalAutoEncoder(nn.Module):\n",
        "    def __init__(self, input_shape, latent_dim=2):\n",
        "        super().__init__()\n",
        "        self.latent_dim=latent_dim\n",
        "\n",
        "        # Encoder\n",
        "        self.encoder = nn.Sequential(\n",
        "            nn.Linear(in_features=input_shape, out_features=(int(input_shape/2))),\n",
        "            nn.ReLU(),\n",
        "            nn.Linear(in_features=(int(input_shape/2)), out_features=(int(input_shape/4))),\n",
        "            nn.ReLU(),\n",
        "            nn.Linear(in_features=(int(input_shape/4)), out_features=(int(input_shape/4))),\n",
        "            nn.ReLU(),\n",
        "            nn.Linear((int(input_shape/4)), (int(input_shape/8))),\n",
        "        )\n",
        "\n",
        "        \n",
        "        self.fc_mu = nn.Linear((int(input_shape/8)), latent_dim) # Learn mu, means of normal distribution\n",
        "        self.fc_log_var = nn.Linear((int(input_shape/8)), latent_dim) # Learn log variance, variances of normal distribution\n",
        "        \n",
        "\n",
        "        # decoder\n",
        "        self.decoder = nn.Sequential(\n",
        "              nn.Linear(in_features=latent_dim, out_features=(int(input_shape/4))),\n",
        "              nn.ReLU(),\n",
        "              nn.Linear(in_features=(int(input_shape/4)), out_features=(int(input_shape/4))),\n",
        "              nn.ReLU(),\n",
        "              nn.Linear(in_features=(int(input_shape/4)), out_features=(int(input_shape/2))),\n",
        "              nn.ReLU(),\n",
        "              nn.Linear(in_features=(int(input_shape/2)), out_features=input_shape)\n",
        "        )\n",
        "\n",
        "    # This should be fine\n",
        "    def forward(self, x):\n",
        "        '''\n",
        "        x is the input data\n",
        "        returns the reconstruction\n",
        "        '''\n",
        "        x = self.encoder(x) # Encodes the input\n",
        "        mu, log_var = self.fc_mu(x), self.fc_log_var(x) # Get the mean and log_variance\n",
        "        sample = self.reparameterize(mu, log_var) # Get a sample from the distribution\n",
        "        reconstruction = self.decoder(sample)  # Decode the distribution sample\n",
        "        return sample, mu, log_var, reconstruction\n",
        "\n",
        "    def run_encoder(self, x):\n",
        "        x = self.encoder(x) # Encodes the input into \n",
        "        mu, log_var = self.fc_mu(x), self.fc_log_var(x)\n",
        "        sample = self.reparameterize(mu, log_var)\n",
        "        return sample\n",
        "\n",
        "    def reparameterize(self, mu, log_var):\n",
        "        # x =mu+std*N(0,1) instead of x-N(mu, std) because of reparameterization trick\n",
        "        std = torch.exp(0.5*log_var) # standard deviation\n",
        "        eps = torch.randn_like(std) # Need eps to be the same size\n",
        "        sample = mu + (eps * std) # sampling\n",
        "        return sample\n",
        "\n",
        "    def generate(self, num_samples):\n",
        "        rand_features = torch.randn(num_samples, self.latent_dim).cuda()\n",
        "        generated = self.decoder(rand_features)\n",
        "        return generated"
      ],
      "metadata": {
        "id": "I6543mGUL386"
      },
      "execution_count": null,
      "outputs": []
    },
    {
      "cell_type": "code",
      "source": [
        "train_dataset = MNISTDataset('/drive/MyDrive/Experiments', True)\n",
        "test_dataset = MNISTDataset('/drive/MyDrive/Experiments', False)\n",
        "\n",
        "image_shape = train_dataset[0].shape[0] # Gets the shape of an image from the dataset. '.shape' has a [0] to get the integer from the tensor object\n",
        "print(type(image_shape))\n",
        "\n",
        "model = VariationalAutoEncoder(input_shape = image_shape)\n",
        "model.cuda()"
      ],
      "metadata": {
        "colab": {
          "base_uri": "https://localhost:8080/"
        },
        "id": "hwf2ORsitIi1",
        "outputId": "19485dfd-ac5d-441f-aad2-3aaf55ceb065"
      },
      "execution_count": null,
      "outputs": [
        {
          "output_type": "stream",
          "name": "stdout",
          "text": [
            "<class 'int'>\n"
          ]
        },
        {
          "output_type": "execute_result",
          "data": {
            "text/plain": [
              "VariationalAutoEncoder(\n",
              "  (encoder): Sequential(\n",
              "    (0): Linear(in_features=784, out_features=392, bias=True)\n",
              "    (1): ReLU()\n",
              "    (2): Linear(in_features=392, out_features=196, bias=True)\n",
              "    (3): ReLU()\n",
              "    (4): Linear(in_features=196, out_features=196, bias=True)\n",
              "    (5): ReLU()\n",
              "    (6): Linear(in_features=196, out_features=98, bias=True)\n",
              "  )\n",
              "  (fc_mu): Linear(in_features=98, out_features=2, bias=True)\n",
              "  (fc_log_var): Linear(in_features=98, out_features=2, bias=True)\n",
              "  (decoder): Sequential(\n",
              "    (0): Linear(in_features=2, out_features=196, bias=True)\n",
              "    (1): ReLU()\n",
              "    (2): Linear(in_features=196, out_features=196, bias=True)\n",
              "    (3): ReLU()\n",
              "    (4): Linear(in_features=196, out_features=392, bias=True)\n",
              "    (5): ReLU()\n",
              "    (6): Linear(in_features=392, out_features=784, bias=True)\n",
              "  )\n",
              ")"
            ]
          },
          "metadata": {},
          "execution_count": 10
        }
      ]
    },
    {
      "cell_type": "code",
      "source": [
        "model.train() # Set to train() mode. There's also an eval() mode."
      ],
      "metadata": {
        "id": "ADtq1DK-tThY",
        "colab": {
          "base_uri": "https://localhost:8080/"
        },
        "outputId": "51a6f4e4-f6ad-4fed-9ae1-4d7390ad7065"
      },
      "execution_count": null,
      "outputs": [
        {
          "output_type": "execute_result",
          "data": {
            "text/plain": [
              "VariationalAutoEncoder(\n",
              "  (encoder): Sequential(\n",
              "    (0): Linear(in_features=784, out_features=392, bias=True)\n",
              "    (1): ReLU()\n",
              "    (2): Linear(in_features=392, out_features=196, bias=True)\n",
              "    (3): ReLU()\n",
              "    (4): Linear(in_features=196, out_features=196, bias=True)\n",
              "    (5): ReLU()\n",
              "    (6): Linear(in_features=196, out_features=98, bias=True)\n",
              "  )\n",
              "  (fc_mu): Linear(in_features=98, out_features=2, bias=True)\n",
              "  (fc_log_var): Linear(in_features=98, out_features=2, bias=True)\n",
              "  (decoder): Sequential(\n",
              "    (0): Linear(in_features=2, out_features=196, bias=True)\n",
              "    (1): ReLU()\n",
              "    (2): Linear(in_features=196, out_features=196, bias=True)\n",
              "    (3): ReLU()\n",
              "    (4): Linear(in_features=196, out_features=392, bias=True)\n",
              "    (5): ReLU()\n",
              "    (6): Linear(in_features=392, out_features=784, bias=True)\n",
              "  )\n",
              ")"
            ]
          },
          "metadata": {},
          "execution_count": 11
        }
      ]
    },
    {
      "cell_type": "code",
      "source": [
        "import torch.optim as optim\n",
        "\n",
        "train_loader = torch.utils.data.DataLoader(train_dataset,\n",
        "                                            batch_size=128, #number of training samples to load in at a time\n",
        "                                            shuffle=True) # Shuffle the data beforehand\n",
        "mse = nn.MSELoss()\n",
        "optimizer = optim.Adam(model.parameters(), lr=1e-3)\n",
        "n_epochs = 100\n",
        "\n",
        "for epoch in range(n_epochs):\n",
        "    loss = 0\n",
        "    #Batch_features is each training batch. Here it's of the shape (128, 784).\n",
        "    for batch_features in train_loader:\n",
        "        batch_features = batch_features.cuda()\n",
        "\n",
        "        optimizer.zero_grad()\n",
        "\n",
        "        # compute reconstructions\n",
        "        outputs = model(batch_features) # Runs the forward function and gets outputs\n",
        "\n",
        "        # compute the reconstruction loss of the training data\n",
        "        train_loss = mse(outputs[3], batch_features)\n",
        "\n",
        "        #compute accumulated gradients\n",
        "        train_loss.backward() # Calculates the gradients\n",
        "\n",
        "        # performs -parameter update- based on current gradients\n",
        "        optimizer.step()\n",
        "\n",
        "        # add the mini-batch training loss to epoch loss\n",
        "        loss += train_loss.item()\n",
        "\n",
        "    #compute the epoch training loss\n",
        "    loss = loss / len(train_loader)\n",
        "\n",
        "    if epoch%5 ==0:\n",
        "      print(\"epoch : {}/{}, loss = {:.6f}\".format(epoch + 1, n_epochs, loss))\n",
        "print(\"epoch : {}/{}, loss = {:.6f}\".format(epoch + 1, n_epochs, loss))"
      ],
      "metadata": {
        "id": "10P4Ck6VtdGx",
        "colab": {
          "base_uri": "https://localhost:8080/"
        },
        "outputId": "17625572-0245-42d6-f5cb-0213df41c412"
      },
      "execution_count": null,
      "outputs": [
        {
          "output_type": "stream",
          "name": "stdout",
          "text": [
            "epoch : 1/100, loss = 0.054386\n",
            "epoch : 6/100, loss = 0.037962\n",
            "epoch : 11/100, loss = 0.036356\n",
            "epoch : 16/100, loss = 0.035777\n",
            "epoch : 21/100, loss = 0.035070\n",
            "epoch : 26/100, loss = 0.034631\n",
            "epoch : 31/100, loss = 0.034225\n",
            "epoch : 36/100, loss = 0.035154\n",
            "epoch : 41/100, loss = 0.033962\n",
            "epoch : 46/100, loss = 0.033958\n",
            "epoch : 51/100, loss = 0.034242\n",
            "epoch : 56/100, loss = 0.034337\n",
            "epoch : 61/100, loss = 0.033573\n",
            "epoch : 66/100, loss = 0.033942\n",
            "epoch : 71/100, loss = 0.033898\n",
            "epoch : 76/100, loss = 0.033735\n",
            "epoch : 81/100, loss = 0.034687\n",
            "epoch : 86/100, loss = 0.033702\n",
            "epoch : 91/100, loss = 0.033597\n",
            "epoch : 96/100, loss = 0.033518\n",
            "epoch : 100/100, loss = 0.032832\n"
          ]
        }
      ]
    },
    {
      "cell_type": "markdown",
      "source": [
        "Below, change the image_idx to a random image from the MNIST dataset. The top image is the VAE's reconstruction, below is the actual."
      ],
      "metadata": {
        "id": "pplkLsFDqE06"
      }
    },
    {
      "cell_type": "code",
      "source": [
        "# Put the model in eval mode. VAEs are pretty well known for their images being blurry\n",
        "model.eval()\n",
        "\n",
        "image_idx = 19\n",
        "\n",
        "image = train_dataset[image_idx].cuda() # Get an image from the training dataset at index 100\n",
        "x_hat = model(image) # Use the image in the model\n",
        "x_hat = x_hat[3].detach().cpu().numpy().reshape((28,28)) # Take the model's output (The reconstruction is at index 3) and reshape it back into an image\n",
        "plt.imshow(x_hat, cmap = 'gray') # Display the model's output"
      ],
      "metadata": {
        "id": "0rq2AZ8Nu-ms",
        "colab": {
          "base_uri": "https://localhost:8080/",
          "height": 283
        },
        "outputId": "f0982596-cf3d-4b4a-8b26-1d5d4978a554"
      },
      "execution_count": null,
      "outputs": [
        {
          "output_type": "execute_result",
          "data": {
            "text/plain": [
              "<matplotlib.image.AxesImage at 0x7f672aef72d0>"
            ]
          },
          "metadata": {},
          "execution_count": 13
        },
        {
          "output_type": "display_data",
          "data": {
            "text/plain": [
              "<Figure size 432x288 with 1 Axes>"
            ],
            "image/png": "[encoded data removed]"
          },
          "metadata": {
            "needs_background": "light"
          }
        }
      ]
    },
    {
      "cell_type": "code",
      "source": [
        "plt.imshow(image.cpu().reshape((28,28)), cmap = 'gray') # Display the model's input"
      ],
      "metadata": {
        "id": "6ywdemmpu_R-",
        "colab": {
          "base_uri": "https://localhost:8080/",
          "height": 283
        },
        "outputId": "74b20250-8cf6-438e-a016-4ab7204c40cb"
      },
      "execution_count": null,
      "outputs": [
        {
          "output_type": "execute_result",
          "data": {
            "text/plain": [
              "<matplotlib.image.AxesImage at 0x7f67321bc190>"
            ]
          },
          "metadata": {},
          "execution_count": 14
        },
        {
          "output_type": "display_data",
          "data": {
            "text/plain": [
              "<Figure size 432x288 with 1 Axes>"
            ],
            "image/png": "[encoded data removed]"
          },
          "metadata": {
            "needs_background": "light"
          }
        }
      ]
    },
    {
      "cell_type": "code",
      "source": [
        "# This runs the model's generate function, which takes a random sample from the distribution and attempts to turn it into an image\n",
        "\n",
        "random = model.generate(1)\n",
        "plt.imshow(random[0].detach().cpu().numpy().reshape((28,28)), cmap = 'gray') # Display the model's output"
      ],
      "metadata": {
        "id": "zwRz_SqPqAZg",
        "colab": {
          "base_uri": "https://localhost:8080/",
          "height": 283
        },
        "outputId": "3855fc17-7869-4d43-f7fb-6650e145660c"
      },
      "execution_count": null,
      "outputs": [
        {
          "output_type": "execute_result",
          "data": {
            "text/plain": [
              "<matplotlib.image.AxesImage at 0x7f67212ebc90>"
            ]
          },
          "metadata": {},
          "execution_count": 21
        },
        {
          "output_type": "display_data",
          "data": {
            "text/plain": [
              "<Figure size 432x288 with 1 Axes>"
            ],
            "image/png": "[encoded data removed]"
          },
          "metadata": {
            "needs_background": "light"
          }
        }
      ]
    },
    {
      "cell_type": "markdown",
      "source": [
        "MIDI DATASET TRAINING"
      ],
      "metadata": {
        "id": "kC_9Yd5MboSA"
      }
    },
    {
      "cell_type": "code",
      "source": [
        "pip install pretty_midi"
      ],
      "metadata": {
        "id": "Ce1bEfoJH2U8",
        "colab": {
          "base_uri": "https://localhost:8080/"
        },
        "outputId": "03c74a90-31c7-4f23-afc0-288a911510d3"
      },
      "execution_count": null,
      "outputs": [
        {
          "output_type": "stream",
          "name": "stdout",
          "text": [
            "Looking in indexes: https://pypi.org/simple, https://us-python.pkg.dev/colab-wheels/public/simple/\n",
            "Collecting pretty_midi\n",
            "  Downloading pretty_midi-0.2.9.tar.gz (5.6 MB)\n",
            "\u001b[K     |████████████████████████████████| 5.6 MB 36.8 MB/s \n",
            "\u001b[?25hRequirement already satisfied: numpy>=1.7.0 in /usr/local/lib/python3.7/dist-packages (from pretty_midi) (1.21.6)\n",
            "Collecting mido>=1.1.16\n",
            "  Downloading mido-1.2.10-py2.py3-none-any.whl (51 kB)\n",
            "\u001b[K     |████████████████████████████████| 51 kB 7.0 MB/s \n",
            "\u001b[?25hRequirement already satisfied: six in /usr/local/lib/python3.7/dist-packages (from pretty_midi) (1.15.0)\n",
            "Building wheels for collected packages: pretty-midi\n",
            "  Building wheel for pretty-midi (setup.py) ... \u001b[?25l\u001b[?25hdone\n",
            "  Created wheel for pretty-midi: filename=pretty_midi-0.2.9-py3-none-any.whl size=5591955 sha256=fe5f7ee51d04bd0b829e526bdbe012eb9b3355bc188fcf8499bd0aec8652e1be\n",
            "  Stored in directory: /root/.cache/pip/wheels/ad/74/7c/a06473ca8dcb63efb98c1e67667ce39d52100f837835ea18fa\n",
            "Successfully built pretty-midi\n",
            "Installing collected packages: mido, pretty-midi\n",
            "Successfully installed mido-1.2.10 pretty-midi-0.2.9\n"
          ]
        }
      ]
    },
    {
      "cell_type": "code",
      "source": [
        "import torch\n",
        "import pretty_midi\n",
        "import matplotlib.pyplot as plt\n",
        "import pandas as pd\n",
        "import os\n",
        "import numpy as np\n",
        "\n",
        "\n",
        "def notes(pm):\n",
        "    instrument = pm.instruments[0]\n",
        "    notes = instrument.notes\n",
        "    return notes\n",
        "\n",
        "def notesToSample(noteslist, numNotes):\n",
        "    #sample = pd.DataFrame({'start', 'end', 'pitch', 'velocity'})\n",
        "    sample = np.zeros(shape=(4, numNotes))\n",
        "    for i in range(numNotes):\n",
        "        try:\n",
        "            note = noteslist[i]\n",
        "            sample[0][i]=(note.start)\n",
        "            sample[1][i]=(note.end)\n",
        "            sample[2][i]=(note.pitch)\n",
        "            sample[3][i]=(note.velocity)\n",
        "        except IndexError: # If the song doesn't have the correct amount of notes...just return an empty array of the correct size. \n",
        "            return np.zeros(shape=(4, numNotes))\n",
        "    return sample\n",
        "\n",
        "def sampleToMIDI(sample, filename):\n",
        "    '''\n",
        "    sample - note attributes in a tensor\n",
        "    returns - prettyMIDI object\n",
        "    '''\n",
        "    instrument = pretty_midi.Instrument(0, is_drum=False) # Piano instrument\n",
        "    pm = pretty_midi.PrettyMIDI()\n",
        "    for i in range(sample.shape[1]):    \n",
        "        start = float(sample[0][i])\n",
        "        end = float(sample[1][i])\n",
        "        pitch = int(sample[2][i])\n",
        "        velocity = int(sample[3][i])\n",
        "        instrument.notes.append(pretty_midi.Note(velocity, pitch, start, end))\n",
        "    pm.instruments.append(instrument)\n",
        "    pm.write(filename)\n",
        "    return pm\n",
        "\n",
        "from torch.utils.data import Dataset\n",
        "\n",
        "class ImprovedPianoDataset(Dataset):\n",
        "    def __init__(self, directory, numnotes): #notes is the number of notes from the file sampled, directory is location of midi files\n",
        "        self.directory = directory\n",
        "        self.numnotes = numnotes\n",
        "        self.filenames = os.listdir(directory)\n",
        "\n",
        "    def __getitem__(self, index):      \n",
        "        file = self.filenames[index]\n",
        "        f = os.path.join(self.directory, file) # Combines the directory and filename to get the filepath of the desired midi\n",
        "\n",
        "        pm = pretty_midi.PrettyMIDI(f)\n",
        "        note = notes(pm) # The notes from the midi file\n",
        "        noteSample = notesToSample(note, self.numnotes) # convert the note to a sample of desired size\n",
        "\n",
        "        x = torch.Tensor(noteSample)\n",
        "        x = torch.flatten(x) # flatten to a 1-dimensional tensor to ready it for input into the model\n",
        "        return x\n",
        "\n",
        "    # returns the length of the dataset\n",
        "    def __len__(self):\n",
        "        return len(self.filenames)\n"
      ],
      "metadata": {
        "id": "XiXtumo3GfWa"
      },
      "execution_count": null,
      "outputs": []
    },
    {
      "cell_type": "code",
      "source": [
        "\n",
        "NoteCount = 25 # The amount of notes you want to sample from a song\n",
        "# Full Giant MIDI dataset path: /content/drive/MyDrive/Project/maestro-v3.0.0/midis\n",
        "# MAESTRO 2004 dataset path: /content/drive/MyDrive/Project/maestro-v3.0.0/2004\n",
        "# MIDI File I'm slowly adding more data to: /content/drive/MyDrive/Project/maestro-v3.0.0/Growth\n",
        "MIDIdataset = ImprovedPianoDataset('/content/drive/MyDrive/Project/Growth', NoteCount)\n"
      ],
      "metadata": {
        "id": "w63eEuI4Gq4w"
      },
      "execution_count": null,
      "outputs": []
    },
    {
      "cell_type": "code",
      "source": [
        "inputShape = MIDIdataset[0].shape[0]\n",
        "print(\"Input Shape: \" + str(inputShape))\n",
        "model = VariationalAutoEncoder(input_shape = inputShape, latent_dim=8)\n",
        "model.cuda()"
      ],
      "metadata": {
        "id": "7HnP_BKNcCy_",
        "colab": {
          "base_uri": "https://localhost:8080/"
        },
        "outputId": "967a4135-bf83-438f-e452-77bacf09e5bb"
      },
      "execution_count": null,
      "outputs": [
        {
          "output_type": "stream",
          "name": "stdout",
          "text": [
            "Input Shape: 100\n"
          ]
        },
        {
          "output_type": "execute_result",
          "data": {
            "text/plain": [
              "VariationalAutoEncoder(\n",
              "  (encoder): Sequential(\n",
              "    (0): Linear(in_features=100, out_features=50, bias=True)\n",
              "    (1): ReLU()\n",
              "    (2): Linear(in_features=50, out_features=25, bias=True)\n",
              "    (3): ReLU()\n",
              "    (4): Linear(in_features=25, out_features=25, bias=True)\n",
              "    (5): ReLU()\n",
              "    (6): Linear(in_features=25, out_features=12, bias=True)\n",
              "  )\n",
              "  (fc_mu): Linear(in_features=12, out_features=8, bias=True)\n",
              "  (fc_log_var): Linear(in_features=12, out_features=8, bias=True)\n",
              "  (decoder): Sequential(\n",
              "    (0): Linear(in_features=8, out_features=25, bias=True)\n",
              "    (1): ReLU()\n",
              "    (2): Linear(in_features=25, out_features=25, bias=True)\n",
              "    (3): ReLU()\n",
              "    (4): Linear(in_features=25, out_features=50, bias=True)\n",
              "    (5): ReLU()\n",
              "    (6): Linear(in_features=50, out_features=100, bias=True)\n",
              "  )\n",
              ")"
            ]
          },
          "metadata": {},
          "execution_count": 58
        }
      ]
    },
    {
      "cell_type": "code",
      "source": [
        "# Checking the data and dataset\n",
        "print(MIDIdataset.__len__())\n",
        "print(type(MIDIdataset)) #PianoDataset Object\n",
        "print(type(MIDIdataset[0])) #Tensor object\n",
        "print(MIDIdataset[0].shape)\n",
        "#print(dataset[0])\n",
        "sample = MIDIdataset[109].detach().cpu().numpy().reshape((4,NoteCount))\n",
        "#print(sample)\n",
        "midi = sampleToMIDI(sample, \"SECONDMIDITEST.midi\")\n"
      ],
      "metadata": {
        "id": "fScrNBOKJ8dG",
        "colab": {
          "base_uri": "https://localhost:8080/"
        },
        "outputId": "518bde98-199c-4eda-ba68-cb03db9b8dcb"
      },
      "execution_count": null,
      "outputs": [
        {
          "output_type": "stream",
          "name": "stdout",
          "text": [
            "1276\n",
            "<class '__main__.ImprovedPianoDataset'>\n",
            "<class 'torch.Tensor'>\n",
            "torch.Size([100])\n"
          ]
        }
      ]
    },
    {
      "cell_type": "code",
      "source": [
        "model.train()"
      ],
      "metadata": {
        "id": "OcLjZBz5cWyF",
        "colab": {
          "base_uri": "https://localhost:8080/"
        },
        "outputId": "8195f7dd-9a2a-4ec5-8bbb-fc7b5420b53c"
      },
      "execution_count": null,
      "outputs": [
        {
          "output_type": "execute_result",
          "data": {
            "text/plain": [
              "VariationalAutoEncoder(\n",
              "  (encoder): Sequential(\n",
              "    (0): Linear(in_features=100, out_features=50, bias=True)\n",
              "    (1): ReLU()\n",
              "    (2): Linear(in_features=50, out_features=25, bias=True)\n",
              "    (3): ReLU()\n",
              "    (4): Linear(in_features=25, out_features=25, bias=True)\n",
              "    (5): ReLU()\n",
              "    (6): Linear(in_features=25, out_features=12, bias=True)\n",
              "  )\n",
              "  (fc_mu): Linear(in_features=12, out_features=8, bias=True)\n",
              "  (fc_log_var): Linear(in_features=12, out_features=8, bias=True)\n",
              "  (decoder): Sequential(\n",
              "    (0): Linear(in_features=8, out_features=25, bias=True)\n",
              "    (1): ReLU()\n",
              "    (2): Linear(in_features=25, out_features=25, bias=True)\n",
              "    (3): ReLU()\n",
              "    (4): Linear(in_features=25, out_features=50, bias=True)\n",
              "    (5): ReLU()\n",
              "    (6): Linear(in_features=50, out_features=100, bias=True)\n",
              "  )\n",
              ")"
            ]
          },
          "metadata": {},
          "execution_count": 60
        }
      ]
    },
    {
      "cell_type": "code",
      "source": [
        "\n",
        "\n",
        "MIDI_loader = torch.utils.data.DataLoader(MIDIdataset,\n",
        "                                            batch_size=25, #number of training samples to load in at a time\n",
        "                                            shuffle=True) # Shuffle the data beforehand\n",
        "mse = nn.MSELoss()\n",
        "optimizer = optim.Adam(model.parameters(), lr=1e-3)\n",
        "n_epochs = 10\n",
        "\n",
        "for epoch in range(n_epochs):\n",
        "    loss = 0\n",
        "    #Batch_features is each training batch. Here it's of the shape (128, 784).\n",
        "    for batch_features in MIDI_loader:\n",
        "        batch_features = batch_features.cuda()\n",
        "\n",
        "        optimizer.zero_grad()\n",
        "\n",
        "        # compute reconstructions\n",
        "        outputs = model(batch_features) # Runs the forward function and gets outputs\n",
        "\n",
        "        # compute the reconstruction loss of the training data\n",
        "        train_loss = mse(outputs[3], batch_features)\n",
        "\n",
        "        #compute accumulated gradients\n",
        "        train_loss.backward() # Calculates the gradients\n",
        "\n",
        "        # performs -parameter update- based on current gradients\n",
        "        optimizer.step()\n",
        "\n",
        "        # add the mini-batch training loss to epoch loss\n",
        "        loss += train_loss.item()\n",
        "\n",
        "    #compute the epoch training loss\n",
        "    loss = loss / len(train_loader)\n",
        "\n",
        "    if epoch%5 ==0:\n",
        "      print(\"epoch : {}/{}, loss = {:.6f}\".format(epoch + 1, n_epochs, loss))\n",
        "print(\"epoch : {}/{}, loss = {:.6f}\".format(epoch + 1, n_epochs, loss))"
      ],
      "metadata": {
        "id": "74Vzw2atws9Y",
        "colab": {
          "base_uri": "https://localhost:8080/"
        },
        "outputId": "eea8287f-6a62-4de6-aa01-39b53e803207"
      },
      "execution_count": null,
      "outputs": [
        {
          "output_type": "stream",
          "name": "stdout",
          "text": [
            "epoch : 1/10, loss = 210.333463\n",
            "epoch : 6/10, loss = 11.292733\n",
            "epoch : 10/10, loss = 11.124821\n"
          ]
        }
      ]
    },
    {
      "cell_type": "code",
      "source": [
        "model.eval()\n",
        "\n",
        "midi_idx = 19\n",
        "\n",
        "midi = MIDIdataset[midi_idx].cuda() # Get a midi file from the dataset\n",
        "x_hat = model(midi)[3] # Get the reconstruction\n",
        "\n",
        "sample = MIDIdataset[midi_idx].detach().cpu().numpy().reshape((4,NoteCount)) # Reforms the sample into the proper shape for MIDI transformation\n",
        "sampleToMIDI(sample, \"input.midi\")\n",
        "x_hat = x_hat.detach().cpu().numpy().reshape((4,NoteCount))\n",
        "sampleToMIDI(x_hat, \"reformed.midi\")\n"
      ],
      "metadata": {
        "id": "AWQeh0_SwW2t",
        "colab": {
          "base_uri": "https://localhost:8080/"
        },
        "outputId": "df6a9065-34f5-45f0-901c-afb1af670ecf"
      },
      "execution_count": null,
      "outputs": [
        {
          "output_type": "execute_result",
          "data": {
            "text/plain": [
              "<pretty_midi.pretty_midi.PrettyMIDI at 0x7f66d805c6d0>"
            ]
          },
          "metadata": {},
          "execution_count": 62
        }
      ]
    },
    {
      "cell_type": "code",
      "source": [
        "# Generate a MIDI sample\n",
        "for i in range(5):\n",
        "    random = model.generate(1)\n",
        "    random = random.detach().cpu().numpy().reshape((4,NoteCount))\n",
        "    sampleToMIDI(random, str(i)+\"generated.midi\")\n"
      ],
      "metadata": {
        "id": "86vwy-7EwLbQ"
      },
      "execution_count": null,
      "outputs": []
    }
  ]
}